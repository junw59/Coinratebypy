{
 "cells": [
  {
   "cell_type": "markdown",
   "metadata": {},
   "source": [
    "此文件包含了对随机数据的coinrate 的计算"
   ]
  },
  {
   "cell_type": "code",
   "execution_count": null,
   "metadata": {},
   "outputs": [],
   "source": [
    "%matplotlib auto\n",
    "#弹出窗绘图"
   ]
  },
  {
   "cell_type": "code",
   "execution_count": null,
   "metadata": {},
   "outputs": [],
   "source": [
    "%matplotlib inline\n",
    "#控制台绘图"
   ]
  },
  {
   "cell_type": "code",
   "execution_count": null,
   "metadata": {},
   "outputs": [],
   "source": [
    "import matplotlib.pyplot as plt\n",
    "import matplotlib.animation as animation\n",
    "\n",
    "import pandas as pd\n",
    "import numpy as np\n",
    "import random\n",
    "import string\n",
    "import time\n",
    "import numba as nb\n",
    "\n",
    "from scipy import stats\n",
    "from mpl_toolkits.mplot3d import Axes3D\n"
   ]
  },
  {
   "cell_type": "markdown",
   "metadata": {},
   "source": [
    "---"
   ]
  },
  {
   "cell_type": "markdown",
   "metadata": {},
   "source": [
    "## 运行计算函数"
   ]
  },
  {
   "cell_type": "markdown",
   "metadata": {},
   "source": [
    "导入函数"
   ]
  },
  {
   "cell_type": "code",
   "execution_count": null,
   "metadata": {},
   "outputs": [],
   "source": [
    "%%time\n",
    "#%%prun\n",
    "\n",
    "%run ./coin_rate_calculate.ipynb\n",
    "%run ./picture_by_matplotlib.ipynb"
   ]
  },
  {
   "cell_type": "markdown",
   "metadata": {},
   "source": [
    "%run ./ 当前目录\n",
    "\n",
    "%run ../ 上一级目录"
   ]
  },
  {
   "cell_type": "markdown",
   "metadata": {},
   "source": [
    "---"
   ]
  },
  {
   "cell_type": "markdown",
   "metadata": {},
   "source": [
    "## 计算"
   ]
  },
  {
   "cell_type": "markdown",
   "metadata": {},
   "source": [
    "### 时间测试"
   ]
  },
  {
   "cell_type": "markdown",
   "metadata": {},
   "source": [
    "时间测试"
   ]
  },
  {
   "cell_type": "code",
   "execution_count": null,
   "metadata": {},
   "outputs": [],
   "source": [
    "a=transfrom_ts_to_t(stats.poisson.rvs(5,size=1000))\n",
    "b=transfrom_ts_to_t(stats.poisson.rvs(5,size=1000))"
   ]
  },
  {
   "cell_type": "code",
   "execution_count": null,
   "metadata": {},
   "outputs": [],
   "source": [
    "%%prun\n",
    "pre_coin_r(5,0,a,b)"
   ]
  },
  {
   "cell_type": "code",
   "execution_count": null,
   "metadata": {},
   "outputs": [],
   "source": [
    "%%prun\n",
    "pre_test(5,0,a,b)"
   ]
  },
  {
   "cell_type": "markdown",
   "metadata": {},
   "source": [
    "---"
   ]
  },
  {
   "cell_type": "markdown",
   "metadata": {},
   "source": [
    "### 模拟数据"
   ]
  },
  {
   "cell_type": "markdown",
   "metadata": {},
   "source": [
    "#### 图片试验"
   ]
  },
  {
   "cell_type": "markdown",
   "metadata": {},
   "source": [
    "一张图片的试验"
   ]
  },
  {
   "cell_type": "code",
   "execution_count": null,
   "metadata": {},
   "outputs": [],
   "source": [
    "a=[]\n",
    "for i in range(10):\n",
    "    a.append(dif_nb_pow_isson(5,5,10))\n"
   ]
  },
  {
   "cell_type": "code",
   "execution_count": null,
   "metadata": {},
   "outputs": [],
   "source": [
    "text='A=%.1f ; B=%.1f\\nNb=%d'%(5,5,100)\n",
    "pic_data(np.mean(a,axis=0),text=text)"
   ]
  },
  {
   "cell_type": "markdown",
   "metadata": {},
   "source": [
    "#### 随机数据的显示"
   ]
  },
  {
   "cell_type": "markdown",
   "metadata": {},
   "source": [
    "展示数据的分布和时间轴上的分布"
   ]
  },
  {
   "cell_type": "code",
   "execution_count": null,
   "metadata": {
    "code_folding": []
   },
   "outputs": [],
   "source": [
    "# 泊松分布； 累计时间的分布\n",
    "size_a=100\n",
    "p_a=0\n",
    "temp1=[5,10,15,20]\n",
    "temp2=[0.3,0.6,5,10]\n",
    "plt.figure(figsize=(60,5))\n",
    "\n",
    "for potsize in range(1,5):\n",
    "    p_a=temp2[potsize-1]\n",
    "    a=transfrom_ts_to_t(stats.powerlaw.rvs(p_a,size=size_a))\n",
    "    plt.subplot(2,2,potsize)\n",
    "    plt.hist(a,color='r',alpha=0.5,bins=100)\n",
    "    for i in a:\n",
    "        plt.axvline(i,ymax=0.8)\n",
    "    plt.yticks([])\n",
    "    plt.title('N=%d,a=%.1f'%(size_a,p_a))\n",
    "plt.tight_layout()\n",
    "#plt.savefig('pwl_time.jpg')\n",
    "plt.show()"
   ]
  },
  {
   "cell_type": "code",
   "execution_count": null,
   "metadata": {},
   "outputs": [],
   "source": [
    "# 泊松分布； 时间间隔分布\n",
    "a=stats.poisson.rvs(5,size=100)\n",
    "a=transfrom_ts_to_t(stats.poisson.rvs(5,size=100))\n",
    "\n",
    "plt.figure(figsize=(20,1))\n",
    "plt.hist(a,color='r',alpha=0.5,bins=50)\n",
    "\n",
    "for i in a:\n",
    "    plt.axvline(i,ymax=0.8)\n",
    "\n",
    "plt.show()"
   ]
  },
  {
   "cell_type": "markdown",
   "metadata": {},
   "source": [
    "---"
   ]
  },
  {
   "cell_type": "markdown",
   "metadata": {},
   "source": [
    "#### 随机数据的coinrate"
   ]
  },
  {
   "cell_type": "code",
   "execution_count": null,
   "metadata": {},
   "outputs": [],
   "source": [
    "a=[]\n",
    "for i in range(100):\n",
    "    a.append(dif_nb_pol_rp_list(0.6,10)) # 幂律分布\n",
    "b=np.mean(a,axis=0)\n",
    "c=np.std(a,axis=0)"
   ]
  },
  {
   "cell_type": "code",
   "execution_count": null,
   "metadata": {},
   "outputs": [],
   "source": [
    "pic_data(b,title_p='powerlaw')"
   ]
  },
  {
   "cell_type": "code",
   "execution_count": null,
   "metadata": {},
   "outputs": [],
   "source": [
    "pic_data(c,title_p='powerlaw')"
   ]
  },
  {
   "cell_type": "markdown",
   "metadata": {},
   "source": [
    "---"
   ]
  },
  {
   "cell_type": "code",
   "execution_count": null,
   "metadata": {},
   "outputs": [],
   "source": [
    "a=[]\n",
    "for i in range(20):\n",
    "    a.append(dif_nb_pow_isson(0.3,5,100)) # 幂律分布与泊松分布\n",
    "b=np.mean(a,axis=0)\n",
    "c=np.std(a,axis=0)"
   ]
  },
  {
   "cell_type": "code",
   "execution_count": null,
   "metadata": {},
   "outputs": [],
   "source": [
    "pic_data(b,title_p='pow-isson')"
   ]
  },
  {
   "cell_type": "code",
   "execution_count": null,
   "metadata": {},
   "outputs": [],
   "source": [
    "pic_data(c,title_p='pow-isson')"
   ]
  },
  {
   "cell_type": "markdown",
   "metadata": {},
   "source": [
    "---"
   ]
  },
  {
   "cell_type": "markdown",
   "metadata": {},
   "source": [
    "两个事件的参数在改变"
   ]
  },
  {
   "cell_type": "code",
   "execution_count": null,
   "metadata": {
    "code_folding": []
   },
   "outputs": [],
   "source": [
    "# 幂律和泊松分布的coinrate； 改变两个参数\n",
    "potsize=0\n",
    "plt.figure(figsize=(40,40))\n",
    "\n",
    "size_a=10\n",
    "\n",
    "for i in [0.3,0.6,1.5,2]:\n",
    "    p_a=i\n",
    "    for j in [5,10]:\n",
    "        potsize+=1\n",
    "        p_b=j\n",
    "        text='A=%.1f ; B=%.1f\\nNb=%d'%(p_a,p_b,size_a*2)\n",
    "        twotitle='pwl-poi'\n",
    "        \n",
    "        x=[]\n",
    "        for temp in range(100):\n",
    "            a=transfrom_ts_to_t(stats.powerlaw.rvs(p_a,size=size_a))\n",
    "            b=transfrom_ts_to_t(stats.poisson.rvs(p_b,size=size_a*2))\n",
    "            x.append(dif_nb_seq(a,b))\n",
    "            print(temp,end=';')\n",
    "        print('\\nGET IT')\n",
    "        plt.subplot(4,4,potsize)\n",
    "        pic_data(np.mean(x,axis=0),title_p=twotitle+'-mean',text=text)\n",
    "        potsize+=1\n",
    "        plt.subplot(4,4,potsize)\n",
    "        pic_data(np.std(x,axis=0),title_p=twotitle+'-std',text=text)\n",
    "\n",
    "plt.show()\n",
    "#plt.savefig('pow-poi_1-4.jpg')"
   ]
  },
  {
   "cell_type": "markdown",
   "metadata": {},
   "source": [
    "---"
   ]
  },
  {
   "cell_type": "markdown",
   "metadata": {},
   "source": [
    "添加相互作用之后；增加两个事件之间的作用，a的一部分直接导致b出现"
   ]
  },
  {
   "cell_type": "code",
   "execution_count": null,
   "metadata": {
    "code_folding": []
   },
   "outputs": [],
   "source": [
    "# 幂律和泊松分布的coinrate； 改变两个参数\n",
    "# 给事件添加相互作用\n",
    "\n",
    "potsize=0\n",
    "plt.figure(figsize=(40,40))\n",
    "\n",
    "size_a=10\n",
    "p_a=0.3\n",
    "p_b=5\n",
    "\n",
    "for inter in [0.2,0.5,0.8,1]:\n",
    "    for d_t in [0.18,0.20]:\n",
    "        potsize+=1\n",
    "\n",
    "        text='A=%.1f;B=%.1f\\nNb=%d;i=%.1f;dt=%.2f\\nDate:%s-%s'%((p_a,p_b,size_a*2,inter,d_t)+time.localtime()[1:3])\n",
    "        twotitle='pwl-poi-%.1f'%inter\n",
    "\n",
    "        x=[]\n",
    "        for temp in range(10):\n",
    "            a=transfrom_ts_to_t(stats.powerlaw.rvs(p_a,size=size_a))\n",
    "            b=transfrom_ts_to_t(stats.poisson.rvs(p_b,size=size_a*2))\n",
    "            x.append(dif_seq_inter2(a,b,inter=inter,d_t=d_t))\n",
    "            print(temp,end=';')\n",
    "        print('\\nGET IT',inter,d_t)\n",
    "        plt.subplot(4,4,potsize)\n",
    "        pic_data(np.mean(x,axis=0),title_p=twotitle+'-mean',text=text)\n",
    "        potsize+=1\n",
    "        plt.subplot(4,4,potsize)\n",
    "        pic_data(np.std(x,axis=0),title_p=twotitle+'-std',text=text)\n",
    "\n",
    "plt.show()\n",
    "#plt.savefig('pow-poi_1-5.jpg')"
   ]
  },
  {
   "cell_type": "markdown",
   "metadata": {},
   "source": [
    "---"
   ]
  },
  {
   "cell_type": "markdown",
   "metadata": {},
   "source": [
    "两个图，为了快速展示计算大量的数据的平均"
   ]
  },
  {
   "cell_type": "code",
   "execution_count": null,
   "metadata": {
    "code_folding": []
   },
   "outputs": [],
   "source": [
    "size_a=10\n",
    "p_a=0.3\n",
    "p_b=5\n",
    "inter=1\n",
    "d_t=0.00\n",
    "pti='1000'\n",
    "text='A=%.1f;B=%.1f\\nNb=%d;i=%.1f;dt=%.2f\\nDate:%s-%s'%((p_a,p_b,size_a*2,inter,d_t)+time.localtime()[1:3])\n",
    "twotitle='pwl-poi-%.1f'%inter\n",
    "\n",
    "plt.figure(figsize=(20,10))\n",
    "x=[]\n",
    "for temp in range(10):\n",
    "    a=transfrom_ts_to_t(stats.powerlaw.rvs(p_a,size=size_a))\n",
    "    b=transfrom_ts_to_t(stats.poisson.rvs(p_b,size=size_a*2))\n",
    "    x.append(dif_seq_inter(a,b,inter=inter,d_t=d_t))\n",
    "    print(temp,end=';')\n",
    "print('\\nGET IT')\n",
    "plt.subplot(121)\n",
    "pic_data(np.mean(x,axis=0),title_p=twotitle+'-mean',text=text)\n",
    "\n",
    "plt.subplot(122)\n",
    "pic_data(np.std(x,axis=0),title_p=twotitle+'-std',text=text)\n",
    "\n",
    "#plt.show()\n",
    "plt.savefig('%s.jpg'%pti)"
   ]
  },
  {
   "cell_type": "markdown",
   "metadata": {},
   "source": [
    "---"
   ]
  },
  {
   "cell_type": "markdown",
   "metadata": {},
   "source": [
    "#### gif动画的形式"
   ]
  },
  {
   "cell_type": "markdown",
   "metadata": {},
   "source": [
    "以动画作为表现形式"
   ]
  },
  {
   "cell_type": "code",
   "execution_count": null,
   "metadata": {
    "scrolled": false
   },
   "outputs": [],
   "source": [
    "# %%prun\n",
    "# 将图片用gif动画的形式展示以清晰的看到变化\n",
    "\n",
    "fig = plt.figure()\n",
    "fig.set_size_inches(10,10)\n",
    "\n",
    "size_a=10\n",
    "p_a=0.3\n",
    "p_b=5\n",
    "inter=1\n",
    "d_t=0.00\n",
    "text='A=%.1f;B=%.1f\\nNb=%d;i=%.1f;dt=%.2f\\nDate:%s-%s'%((p_a,p_b,size_a*2,inter,d_t)+time.localtime()[1:3])\n",
    "twotitle='pwl-poi-mean'\n",
    "\n",
    "d1=[0.00,0.02,0.05,0.08,0.1]\n",
    "d2=[0.1,0.12,0.15,0.18,0.2]\n",
    "i1=[0.2,0.5,0.8,1]\n",
    "ims = []\n",
    "\n",
    "for i in [0.8]:\n",
    "    inter=i\n",
    "    \n",
    "    for j in d1:\n",
    "        d_t=j\n",
    "        text='A=%.1f;B=%.1f\\nNb=%d;i=%.1f;dt=%.2f\\nDate:%s-%s'%((p_a,p_b,size_a*2,inter,d_t)+time.localtime()[1:3])\n",
    "\n",
    "        x=[]\n",
    "        for temp in range(10):\n",
    "            a=transfrom_ts_to_t(stats.powerlaw.rvs(p_a,size=size_a))\n",
    "            b=transfrom_ts_to_t(stats.poisson.rvs(p_b,size=size_a*2))\n",
    "            x.append(dif_seq_inter2n(a,b,inter=inter,d_t=d_t))\n",
    "            print(temp,end=';')\n",
    "        print('\\nGET IT',i,j)\n",
    "        im = plt.imshow(np.mean(x,axis=0),\n",
    "                        animated=True,\n",
    "                        interpolation='nearest',\n",
    "                        cmap='autumn',\n",
    "                        origin='upper')\n",
    "        txt=plt.text(0,-1,text,size=10,va='bottom')\n",
    "        ims.append([im,txt])\n",
    "\n",
    "plt.xlabel(r'$\\Delta T/T$',fontdict={'size': 20, 'color': 'k'})\n",
    "plt.ylabel('Event B',fontdict={'size': 20, 'color': 'k'})\n",
    "plt.xticks((0,19),('0','0.2'),size=16)\n",
    "plt.yticks((0,19),('20','1'),size=16)\n",
    "plt.title(twotitle)\n",
    "fig.colorbar(im,shrink=0.5)\n",
    "\n",
    "ani = animation.ArtistAnimation(fig, ims, \n",
    "                                blit=True,\n",
    "                                repeat_delay=1000)\n",
    "\n",
    "ani.save('temp.gif', dpi=300, writer='imagemagick',fps=1)\n",
    "\n",
    "#plt.show()"
   ]
  },
  {
   "cell_type": "markdown",
   "metadata": {},
   "source": [
    "---"
   ]
  },
  {
   "cell_type": "code",
   "execution_count": null,
   "metadata": {},
   "outputs": [],
   "source": []
  }
 ],
 "metadata": {
  "kernelspec": {
   "display_name": "Python 3",
   "language": "python",
   "name": "python3"
  },
  "language_info": {
   "codemirror_mode": {
    "name": "ipython",
    "version": 3
   },
   "file_extension": ".py",
   "mimetype": "text/x-python",
   "name": "python",
   "nbconvert_exporter": "python",
   "pygments_lexer": "ipython3",
   "version": "3.7.1"
  }
 },
 "nbformat": 4,
 "nbformat_minor": 2
}
