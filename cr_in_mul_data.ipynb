{
 "cells": [
  {
   "cell_type": "markdown",
   "metadata": {},
   "source": [
    "此文件包含了对随机数据的coinrate 的计算"
   ]
  },
  {
   "cell_type": "code",
   "execution_count": null,
   "metadata": {},
   "outputs": [],
   "source": [
    "%matplotlib auto\n",
    "#弹出窗绘图"
   ]
  },
  {
   "cell_type": "code",
   "execution_count": null,
   "metadata": {},
   "outputs": [],
   "source": [
    "%matplotlib inline\n",
    "#控制台绘图"
   ]
  },
  {
   "cell_type": "code",
   "execution_count": null,
   "metadata": {},
   "outputs": [],
   "source": [
    "import matplotlib.pyplot as plt\n",
    "import matplotlib.animation as animation\n",
    "\n",
    "import pandas as pd\n",
    "import numpy as np\n",
    "import random\n",
    "import string\n",
    "import time\n",
    "import numba as nb\n",
    "import seaborn as sns\n",
    "\n",
    "from scipy import stats\n",
    "from mpl_toolkits.mplot3d import Axes3D\n"
   ]
  },
  {
   "cell_type": "markdown",
   "metadata": {},
   "source": [
    "---"
   ]
  },
  {
   "cell_type": "markdown",
   "metadata": {},
   "source": [
    "## 运行计算函数"
   ]
  },
  {
   "cell_type": "markdown",
   "metadata": {},
   "source": [
    "导入函数"
   ]
  },
  {
   "cell_type": "code",
   "execution_count": null,
   "metadata": {},
   "outputs": [],
   "source": [
    "%%time\n",
    "#%%prun\n",
    "\n",
    "%run ./coin_rate_calculate.ipynb\n",
    "%run ./picture_by_matplotlib.ipynb"
   ]
  },
  {
   "cell_type": "markdown",
   "metadata": {},
   "source": [
    "%run ./ 当前目录\n",
    "\n",
    "%run ../ 上一级目录"
   ]
  },
  {
   "cell_type": "markdown",
   "metadata": {},
   "source": [
    "---"
   ]
  },
  {
   "cell_type": "markdown",
   "metadata": {},
   "source": [
    "## 模拟计算"
   ]
  },
  {
   "cell_type": "markdown",
   "metadata": {},
   "source": [
    "### 时间测试"
   ]
  },
  {
   "cell_type": "markdown",
   "metadata": {},
   "source": [
    "时间测试"
   ]
  },
  {
   "cell_type": "code",
   "execution_count": null,
   "metadata": {},
   "outputs": [],
   "source": [
    "a=transfrom_ts_to_t(stats.poisson.rvs(5,size=1000))\n",
    "b=transfrom_ts_to_t(stats.poisson.rvs(5,size=1000))"
   ]
  },
  {
   "cell_type": "code",
   "execution_count": null,
   "metadata": {},
   "outputs": [],
   "source": [
    "%%prun\n",
    "pre_coin_r(5,0,a,b)"
   ]
  },
  {
   "cell_type": "code",
   "execution_count": null,
   "metadata": {},
   "outputs": [],
   "source": [
    "%%prun\n",
    "pre_test(5,0,a,b)"
   ]
  },
  {
   "cell_type": "markdown",
   "metadata": {},
   "source": [
    "---"
   ]
  },
  {
   "cell_type": "markdown",
   "metadata": {},
   "source": [
    "### 模拟数据"
   ]
  },
  {
   "cell_type": "markdown",
   "metadata": {},
   "source": [
    "#### 图片试验"
   ]
  },
  {
   "cell_type": "markdown",
   "metadata": {},
   "source": [
    "一张图片的试验"
   ]
  },
  {
   "cell_type": "code",
   "execution_count": null,
   "metadata": {},
   "outputs": [],
   "source": [
    "a=[]\n",
    "for i in range(10):\n",
    "    a.append(dif_nb_pow_isson(5,5,10))\n"
   ]
  },
  {
   "cell_type": "code",
   "execution_count": null,
   "metadata": {},
   "outputs": [],
   "source": [
    "text='A=%.1f ; B=%.1f\\nNb=%d'%(5,5,100)\n",
    "pic_data(np.mean(a,axis=0),text=text)"
   ]
  },
  {
   "cell_type": "markdown",
   "metadata": {},
   "source": [
    "#### 随机数据的显示"
   ]
  },
  {
   "cell_type": "markdown",
   "metadata": {},
   "source": [
    "展示数据的分布和时间轴上的分布"
   ]
  },
  {
   "cell_type": "code",
   "execution_count": null,
   "metadata": {
    "code_folding": []
   },
   "outputs": [],
   "source": [
    "# 泊松分布； 累计时间的分布\n",
    "size_a=100\n",
    "p_a=0\n",
    "temp1=[5,10,15,20]\n",
    "temp2=[0.3,0.6,5,10]\n",
    "plt.figure(figsize=(60,5))\n",
    "\n",
    "for potsize in range(1,5):\n",
    "    p_a=temp2[potsize-1]\n",
    "    a=transfrom_ts_to_t(stats.powerlaw.rvs(p_a,size=size_a))\n",
    "    plt.subplot(2,2,potsize)\n",
    "    plt.hist(a,color='r',alpha=0.5,bins=100)\n",
    "    for i in a:\n",
    "        plt.axvline(i,ymax=0.8)\n",
    "    plt.yticks([])\n",
    "    plt.title('N=%d,a=%.1f'%(size_a,p_a))\n",
    "plt.tight_layout()\n",
    "#plt.savefig('pwl_time.jpg')\n",
    "plt.show()"
   ]
  },
  {
   "cell_type": "code",
   "execution_count": null,
   "metadata": {},
   "outputs": [],
   "source": [
    "# 泊松分布； 时间间隔分布\n",
    "a=stats.poisson.rvs(5,size=100)\n",
    "a=transfrom_ts_to_t(stats.poisson.rvs(5,size=100))\n",
    "\n",
    "plt.figure(figsize=(20,1))\n",
    "plt.hist(a,color='r',alpha=0.5,bins=50)\n",
    "\n",
    "for i in a:\n",
    "    plt.axvline(i,ymax=0.8)\n",
    "\n",
    "plt.show()"
   ]
  },
  {
   "cell_type": "markdown",
   "metadata": {},
   "source": [
    "---"
   ]
  },
  {
   "cell_type": "markdown",
   "metadata": {},
   "source": [
    "#### 随机数据的coinrate"
   ]
  },
  {
   "cell_type": "code",
   "execution_count": null,
   "metadata": {},
   "outputs": [],
   "source": [
    "a=[]\n",
    "for i in range(100):\n",
    "    a.append(dif_nb_pol_rp_list(0.6,10)) # 幂律分布\n",
    "b=np.mean(a,axis=0)\n",
    "c=np.std(a,axis=0)"
   ]
  },
  {
   "cell_type": "code",
   "execution_count": null,
   "metadata": {},
   "outputs": [],
   "source": [
    "pic_data(b,title_p='powerlaw')"
   ]
  },
  {
   "cell_type": "code",
   "execution_count": null,
   "metadata": {},
   "outputs": [],
   "source": [
    "pic_data(c,title_p='powerlaw')"
   ]
  },
  {
   "cell_type": "markdown",
   "metadata": {},
   "source": [
    "---"
   ]
  },
  {
   "cell_type": "code",
   "execution_count": null,
   "metadata": {},
   "outputs": [],
   "source": [
    "a=[]\n",
    "for i in range(20):\n",
    "    a.append(dif_nb_pow_isson(0.3,5,100)) # 幂律分布与泊松分布\n",
    "b=np.mean(a,axis=0)\n",
    "c=np.std(a,axis=0)"
   ]
  },
  {
   "cell_type": "code",
   "execution_count": null,
   "metadata": {},
   "outputs": [],
   "source": [
    "pic_data(b,title_p='pow-isson')"
   ]
  },
  {
   "cell_type": "code",
   "execution_count": null,
   "metadata": {},
   "outputs": [],
   "source": [
    "pic_data(c,title_p='pow-isson')"
   ]
  },
  {
   "cell_type": "markdown",
   "metadata": {},
   "source": [
    "---"
   ]
  },
  {
   "cell_type": "markdown",
   "metadata": {},
   "source": [
    "两个事件的参数在改变"
   ]
  },
  {
   "cell_type": "code",
   "execution_count": null,
   "metadata": {
    "code_folding": []
   },
   "outputs": [],
   "source": [
    "# 幂律和泊松分布的coinrate； 改变两个参数\n",
    "potsize=0\n",
    "plt.figure(figsize=(40,40))\n",
    "\n",
    "size_a=10\n",
    "\n",
    "for i in [0.3,0.6,1.5,2]:\n",
    "    p_a=i\n",
    "    for j in [5,10]:\n",
    "        potsize+=1\n",
    "        p_b=j\n",
    "        text='A=%.1f ; B=%.1f\\nNb=%d'%(p_a,p_b,size_a*2)\n",
    "        twotitle='pwl-poi'\n",
    "        \n",
    "        x=[]\n",
    "        for temp in range(100):\n",
    "            a=transfrom_ts_to_t(stats.powerlaw.rvs(p_a,size=size_a))\n",
    "            b=transfrom_ts_to_t(stats.poisson.rvs(p_b,size=size_a*2))\n",
    "            x.append(dif_nb_seq(a,b))\n",
    "            print(temp,end=';')\n",
    "        print('\\nGET IT')\n",
    "        plt.subplot(4,4,potsize)\n",
    "        pic_data(np.mean(x,axis=0),title_p=twotitle+'-mean',text=text)\n",
    "        potsize+=1\n",
    "        plt.subplot(4,4,potsize)\n",
    "        pic_data(np.std(x,axis=0),title_p=twotitle+'-std',text=text)\n",
    "\n",
    "plt.show()\n",
    "#plt.savefig('pow-poi_1-4.jpg')"
   ]
  },
  {
   "cell_type": "markdown",
   "metadata": {},
   "source": [
    "---"
   ]
  },
  {
   "cell_type": "markdown",
   "metadata": {},
   "source": [
    "添加相互作用之后；增加两个事件之间的作用，a的一部分直接导致b出现"
   ]
  },
  {
   "cell_type": "code",
   "execution_count": null,
   "metadata": {
    "code_folding": []
   },
   "outputs": [],
   "source": [
    "# 幂律和泊松分布的coinrate； 改变两个参数\n",
    "# 给事件添加相互作用\n",
    "\n",
    "potsize=0\n",
    "plt.figure(figsize=(40,40))\n",
    "\n",
    "size_a=10\n",
    "p_a=0.3\n",
    "p_b=5\n",
    "\n",
    "for inter in [0.2,0.5,0.8,1]:\n",
    "    for d_t in [0.18,0.20]:\n",
    "        potsize+=1\n",
    "\n",
    "        text='A=%.1f;B=%.1f\\nNb=%d;i=%.1f;dt=%.2f\\nDate:%s-%s'%((p_a,p_b,size_a*2,inter,d_t)+time.localtime()[1:3])\n",
    "        twotitle='pwl-poi-%.1f'%inter\n",
    "\n",
    "        x=[]\n",
    "        for temp in range(10):\n",
    "            a=transfrom_ts_to_t(stats.powerlaw.rvs(p_a,size=size_a))\n",
    "            b=transfrom_ts_to_t(stats.poisson.rvs(p_b,size=size_a*2))\n",
    "            x.append(dif_seq_inter2(a,b,inter=inter,d_t=d_t))\n",
    "            print(temp,end=';')\n",
    "        print('\\nGET IT',inter,d_t)\n",
    "        plt.subplot(4,4,potsize)\n",
    "        pic_data(np.mean(x,axis=0),title_p=twotitle+'-mean',text=text)\n",
    "        potsize+=1\n",
    "        plt.subplot(4,4,potsize)\n",
    "        pic_data(np.std(x,axis=0),title_p=twotitle+'-std',text=text)\n",
    "\n",
    "plt.show()\n",
    "#plt.savefig('pow-poi_1-5.jpg')"
   ]
  },
  {
   "cell_type": "markdown",
   "metadata": {},
   "source": [
    "---"
   ]
  },
  {
   "cell_type": "markdown",
   "metadata": {},
   "source": [
    "两个图，为了快速展示计算大量的数据的平均"
   ]
  },
  {
   "cell_type": "code",
   "execution_count": null,
   "metadata": {
    "code_folding": []
   },
   "outputs": [],
   "source": [
    "size_a=10\n",
    "p_a=0.3\n",
    "p_b=5\n",
    "inter=1\n",
    "d_t=0.00\n",
    "pti='1000'\n",
    "text='A=%.1f;B=%.1f\\nNb=%d;i=%.1f;dt=%.2f\\nDate:%s-%s'%((p_a,p_b,size_a*2,inter,d_t)+time.localtime()[1:3])\n",
    "twotitle='pwl-poi-%.1f'%inter\n",
    "\n",
    "plt.figure(figsize=(20,10))\n",
    "x=[]\n",
    "for temp in range(10):\n",
    "    a=transfrom_ts_to_t(stats.powerlaw.rvs(p_a,size=size_a))\n",
    "    b=transfrom_ts_to_t(stats.poisson.rvs(p_b,size=size_a*2))\n",
    "    x.append(dif_seq_inter(a,b,inter=inter,d_t=d_t))\n",
    "    print(temp,end=';')\n",
    "print('\\nGET IT')\n",
    "plt.subplot(121)\n",
    "pic_data(np.mean(x,axis=0),title_p=twotitle+'-mean',text=text)\n",
    "\n",
    "plt.subplot(122)\n",
    "pic_data(np.std(x,axis=0),title_p=twotitle+'-std',text=text)\n",
    "\n",
    "#plt.show()\n",
    "plt.savefig('%s.jpg'%pti)"
   ]
  },
  {
   "cell_type": "markdown",
   "metadata": {},
   "source": [
    "---"
   ]
  },
  {
   "cell_type": "markdown",
   "metadata": {},
   "source": [
    "#### gif动画的形式"
   ]
  },
  {
   "cell_type": "markdown",
   "metadata": {},
   "source": [
    "以动画作为表现形式"
   ]
  },
  {
   "cell_type": "code",
   "execution_count": null,
   "metadata": {
    "scrolled": false
   },
   "outputs": [],
   "source": [
    "# %%prun\n",
    "# 将图片用gif动画的形式展示以清晰的看到变化\n",
    "\n",
    "fig = plt.figure()\n",
    "fig.set_size_inches(10,10)\n",
    "\n",
    "size_a=10\n",
    "p_a=0.3\n",
    "p_b=5\n",
    "inter=1\n",
    "d_t=0.00\n",
    "text='A=%.1f;B=%.1f\\nNb=%d;i=%.1f;dt=%.2f\\nDate:%s-%s'%((p_a,p_b,size_a*2,inter,d_t)+time.localtime()[1:3])\n",
    "twotitle='pwl-poi-mean'\n",
    "\n",
    "d1=[0.00,0.02,0.05,0.08,0.1]\n",
    "d2=[0.1,0.12,0.15,0.18,0.2]\n",
    "i1=[0.2,0.5,0.8,1]\n",
    "ims = []\n",
    "\n",
    "for i in [0.8]:\n",
    "    inter=i\n",
    "    \n",
    "    for j in d1:\n",
    "        d_t=j\n",
    "        text='A=%.1f;B=%.1f\\nNb=%d;i=%.1f;dt=%.2f\\nDate:%s-%s'%((p_a,p_b,size_a*2,inter,d_t)+time.localtime()[1:3])\n",
    "\n",
    "        x=[]\n",
    "        for temp in range(10):\n",
    "            a=transfrom_ts_to_t(stats.powerlaw.rvs(p_a,size=size_a))\n",
    "            b=transfrom_ts_to_t(stats.poisson.rvs(p_b,size=size_a*2))\n",
    "            x.append(dif_seq_inter2n(a,b,inter=inter,d_t=d_t))\n",
    "            print(temp,end=';')\n",
    "        print('\\nGET IT',i,j)\n",
    "        im = plt.imshow(np.mean(x,axis=0),\n",
    "                        animated=True,\n",
    "                        interpolation='nearest',\n",
    "                        cmap='autumn',\n",
    "                        origin='upper')\n",
    "        txt=plt.text(0,-1,text,size=10,va='bottom')\n",
    "        ims.append([im,txt])\n",
    "\n",
    "plt.xlabel(r'$\\Delta T/T$',fontdict={'size': 20, 'color': 'k'})\n",
    "plt.ylabel('Event B',fontdict={'size': 20, 'color': 'k'})\n",
    "plt.xticks((0,19),('0','0.2'),size=16)\n",
    "plt.yticks((0,19),('20','1'),size=16)\n",
    "plt.title(twotitle)\n",
    "fig.colorbar(im,shrink=0.5)\n",
    "\n",
    "ani = animation.ArtistAnimation(fig, ims, \n",
    "                                blit=True,\n",
    "                                repeat_delay=1000)\n",
    "\n",
    "ani.save('temp.gif', dpi=300, writer='imagemagick',fps=1)\n",
    "\n",
    "#plt.show()"
   ]
  },
  {
   "cell_type": "markdown",
   "metadata": {},
   "source": [
    "---"
   ]
  },
  {
   "cell_type": "markdown",
   "metadata": {},
   "source": [
    "## SD数据的模拟"
   ]
  },
  {
   "cell_type": "markdown",
   "metadata": {},
   "source": [
    "### 模拟幂律分布"
   ]
  },
  {
   "cell_type": "markdown",
   "metadata": {},
   "source": [
    "模拟大量数据的结果\n",
    "使用的密度函数：$P(\\tau)=\\tau^{-\\gamma}$；\n",
    "$\\tau$是时间间隔，$\\gamma$是参数；\n",
    "文献中的$\\gamma\\approx2$"
   ]
  },
  {
   "cell_type": "code",
   "execution_count": null,
   "metadata": {
    "code_folding": []
   },
   "outputs": [],
   "source": [
    "text='A=%.1f;B=%.1f\\nNb=%d;i=%.1f;dt=%.2f\\nDate:%s-%s'%((p_a,p_b,size_a*2,inter,d_t)+time.localtime()[1:3])\n",
    "twotitle='pwl-poi-%.1f'%inter\n",
    "\n",
    "for temp in range(10):\n",
    "    a=transfrom_ts_to_t(stats.powerlaw.rvs(p_a,size=size_a))\n",
    "    b=transfrom_ts_to_t(stats.poisson.rvs(p_b,size=size_a*2))\n",
    "    x.append(dif_seq_inter(a,b,inter=inter,d_t=d_t))\n",
    "    print(temp,end=';')\n",
    "print('\\nGET IT')\n",
    "\n",
    "pic_data(np.mean(x,axis=0),title_p=twotitle+'-mean',text=text)\n"
   ]
  },
  {
   "cell_type": "markdown",
   "metadata": {},
   "source": [
    "---"
   ]
  },
  {
   "cell_type": "markdown",
   "metadata": {},
   "source": [
    "### 时间轴取数据"
   ]
  },
  {
   "cell_type": "code",
   "execution_count": null,
   "metadata": {},
   "outputs": [],
   "source": [
    "all_cr=[]\n",
    "for i in range(20):\n",
    "    a=transfrom_ts_to_t(stats.powerlaw.rvs(a=0.01,loc=10,scale=8e4,size=200).astype(np.int))\n",
    "    b=transfrom_ts_to_t(stats.powerlaw.rvs(a=0.01,loc=10,scale=8e4,size=200).astype(np.int))\n",
    "#     计算得到的数据偏小，因为对b的随机取数是在时间轴上的取，而不是在时间间隔上取\n",
    "    results=disq_cr_strong(a,b)\n",
    "    all_cr.append(results)\n",
    "    print(i)\n",
    "all_cr_m=np.mean(all_cr,axis=0)\n",
    "all_cr_s=np.std(all_cr,axis=0)"
   ]
  },
  {
   "cell_type": "code",
   "execution_count": null,
   "metadata": {},
   "outputs": [],
   "source": [
    "pic_data(all_cr_m,title_p='mean')"
   ]
  },
  {
   "cell_type": "code",
   "execution_count": null,
   "metadata": {},
   "outputs": [],
   "source": [
    "pic_data(all_cr_s,title_p='std')"
   ]
  },
  {
   "cell_type": "code",
   "execution_count": null,
   "metadata": {},
   "outputs": [],
   "source": [
    "fig,ax=plt.subplots()\n",
    "\n",
    "x=np.arange(len(all_cr_m[0]))\n",
    "y=np.arange(len(all_cr_m))\n",
    "x,y=np.meshgrid(x,y)\n",
    "\n",
    "c=pic_ax(ax,x,y,all_cr_m,title='mean')\n",
    "fig.colorbar(c,ax=ax)\n",
    "\n",
    "plt.show()"
   ]
  },
  {
   "cell_type": "markdown",
   "metadata": {},
   "source": [
    "---"
   ]
  },
  {
   "cell_type": "markdown",
   "metadata": {},
   "source": [
    "### 测试coinrate"
   ]
  },
  {
   "cell_type": "code",
   "execution_count": null,
   "metadata": {},
   "outputs": [],
   "source": [
    "for num in [20,200,2000,20000]:\n",
    "    x=[]\n",
    "    for i in range(num):\n",
    "        a=transfrom_ts_to_t(stats.powerlaw.rvs(a=0.01,loc=10,scale=8e4,size=20).astype(np.int))\n",
    "        b=transfrom_ts_to_t(stats.powerlaw.rvs(a=0.01,loc=10,scale=8e4,size=200).astype(np.int))\n",
    "        cs=coinrate_strong(600,a,b)\n",
    "    #     print(cs,end='\\t')\n",
    "        x.append(cs)\n",
    "    print('num = %d, mean is %.5f and std is %.5f'%(num,np.mean(x),np.std(x)))"
   ]
  },
  {
   "cell_type": "code",
   "execution_count": null,
   "metadata": {},
   "outputs": [],
   "source": [
    "for num in [20,200,2000]:\n",
    "    x=[]\n",
    "    for i in range(num):\n",
    "        a=transfrom_ts_to_t(stats.powerlaw.rvs(a=0.01,loc=10,scale=8e4,size=100).astype(np.int))\n",
    "        b=transfrom_ts_to_t(stats.powerlaw.rvs(a=0.01,loc=10,scale=8e4,size=200).astype(np.int))\n",
    "        cs=coinrate_strong(600,a,b)\n",
    "    #     print(cs,end='\\t')\n",
    "        x.append(cs)\n",
    "    print('num = %d, mean is %.5f and std is %.5f'%(num,np.mean(x),np.std(x)))"
   ]
  },
  {
   "cell_type": "code",
   "execution_count": null,
   "metadata": {},
   "outputs": [],
   "source": [
    "print('从时间间隔中选取指定数量的数据')\n",
    "for num in [10,20,50,200,1000]:\n",
    "    x=[]\n",
    "    for i in range(num):\n",
    "        a=transfrom_ts_to_t(stats.powerlaw.rvs(a=0.01,loc=10,scale=8e4,size=50).astype(np.int))\n",
    "        b=transfrom_ts_to_t(stats.powerlaw.rvs(a=0.01,loc=10,scale=8e4,size=50).astype(np.int))\n",
    "        cs=coinrate_strong(600,a,b)\n",
    "        x.append(cs)\n",
    "    print('num = %d, mean is %.5f and std is %.5f'%(num,np.mean(x),np.std(x)))"
   ]
  },
  {
   "cell_type": "code",
   "execution_count": null,
   "metadata": {},
   "outputs": [],
   "source": [
    "fig,ax=plt.subplots(figsize=(10,2))\n",
    "\n",
    "a=transfrom_ts_to_t(stats.powerlaw.rvs(a=0.01,loc=10,scale=8e4,size=200).astype(np.int))\n",
    "ax.vlines(a,0,1,color='b',alpha=0.2)\n",
    "\n",
    "plt.show()"
   ]
  },
  {
   "cell_type": "code",
   "execution_count": null,
   "metadata": {},
   "outputs": [],
   "source": [
    "print('从时间轴上的分布中选取指定数量的数据')\n",
    "for num in [10,20,50,200,1000]:\n",
    "    x=[]\n",
    "    for i in range(num):\n",
    "        a=transfrom_ts_to_t(stats.powerlaw.rvs(a=0.01,loc=10,scale=8e4,size=1000).astype(np.int))\n",
    "        a=np.random.choice(a,50,replace=False)\n",
    "        b=transfrom_ts_to_t(stats.powerlaw.rvs(a=0.01,loc=10,scale=8e4,size=1000).astype(np.int))\n",
    "        cs=coinrate_strong(600,a,b)\n",
    "        x.append(cs)\n",
    "    print('num = %d, mean is %.5f and std is %.5f'%(num,np.mean(x),np.std(x)))"
   ]
  },
  {
   "cell_type": "markdown",
   "metadata": {},
   "source": [
    "---"
   ]
  },
  {
   "cell_type": "markdown",
   "metadata": {},
   "source": [
    "### 测试pre coinrate"
   ]
  },
  {
   "cell_type": "code",
   "execution_count": null,
   "metadata": {},
   "outputs": [],
   "source": [
    "print('从时间间隔中选取指定数量的数据')\n",
    "for na in [20,50,100,500,1000]:\n",
    "    for num in [10,20,50,100,200,500,1000]:\n",
    "        x=[]\n",
    "        for i in range(1000):\n",
    "            a=transfrom_ts_to_t(stats.powerlaw.rvs(a=0.01,loc=10,scale=8e4,size=na).astype(np.int))\n",
    "            b=transfrom_ts_to_t(stats.powerlaw.rvs(a=0.01,loc=10,scale=8e4,size=num).astype(np.int))\n",
    "            cs=pre_cr_(600,0,a,b)\n",
    "            x.append(cs)\n",
    "        print('num A = %d,num B = %d, mean is %.5f and std is %.5f'%(na,num,np.mean(x),np.std(x)))"
   ]
  },
  {
   "cell_type": "code",
   "execution_count": null,
   "metadata": {},
   "outputs": [],
   "source": [
    "print('从时间间隔中选取指定数量的数据')\n",
    "for num in [10,20,50,200,1000]:\n",
    "    x=[]\n",
    "    for i in range(num):\n",
    "        a=transfrom_ts_to_t(stats.powerlaw.rvs(a=0.01,loc=10,scale=8e4,size=50).astype(np.int))\n",
    "        b=transfrom_ts_to_t(stats.powerlaw.rvs(a=0.01,loc=10,scale=8e4,size=1000).astype(np.int))\n",
    "        cs=pre_cr_(600,0,a,b)\n",
    "        x.append(cs)\n",
    "    print('num = %d, mean is %.5f and std is %.5f'%(num,np.mean(x),np.std(x)))"
   ]
  },
  {
   "cell_type": "code",
   "execution_count": null,
   "metadata": {},
   "outputs": [],
   "source": [
    "print('从时间轴上的分布中选取指定数量的数据')\n",
    "for num in [10,20,50,200,1000]:\n",
    "    x=[]\n",
    "    for i in range(num):\n",
    "        a=transfrom_ts_to_t(stats.powerlaw.rvs(a=0.01,loc=10,scale=8e4,size=1000).astype(np.int))\n",
    "        a=np.random.choice(a,50,replace=False)\n",
    "        b=transfrom_ts_to_t(stats.powerlaw.rvs(a=0.01,loc=10,scale=8e4,size=1000).astype(np.int))\n",
    "#         b=np.random.choice(b,50,replace=False)\n",
    "        cs=pre_cr_(600,0,a,b)\n",
    "        x.append(cs)\n",
    "    print('num = %d, mean is %.5f and std is %.5f'%(num,np.mean(x),np.std(x)))"
   ]
  },
  {
   "cell_type": "markdown",
   "metadata": {},
   "source": [
    "---"
   ]
  },
  {
   "cell_type": "markdown",
   "metadata": {},
   "source": [
    "### 单个数量"
   ]
  },
  {
   "cell_type": "code",
   "execution_count": null,
   "metadata": {},
   "outputs": [],
   "source": []
  },
  {
   "cell_type": "markdown",
   "metadata": {},
   "source": [
    "---"
   ]
  },
  {
   "cell_type": "markdown",
   "metadata": {},
   "source": [
    "### 计算mean"
   ]
  },
  {
   "cell_type": "code",
   "execution_count": null,
   "metadata": {},
   "outputs": [],
   "source": [
    "times=100\n",
    "size_n=1000\n",
    "al_da=[]\n",
    "for i in range(times):\n",
    "    a=stats.powerlaw.rvs(a=0.01,loc=10,scale=8e4,size=size_n).astype(np.int)\n",
    "    b=stats.powerlaw.rvs(a=0.01,loc=10,scale=8e4,size=size_n).astype(np.int)\n",
    "    x,y,data=disq_cr_strong_inter(a,b,)\n",
    "    al_da.append(data)\n",
    "    print(i,end='\\t')\n",
    "data_mean=np.mean(al_da,axis=0)\n",
    "data_std=np.std(al_da,axis=0)\n",
    "x,y=np.meshgrid(x,y)"
   ]
  },
  {
   "cell_type": "markdown",
   "metadata": {},
   "source": [
    "---"
   ]
  },
  {
   "cell_type": "markdown",
   "metadata": {},
   "source": [
    "### 计算pre-mean"
   ]
  },
  {
   "cell_type": "code",
   "execution_count": null,
   "metadata": {},
   "outputs": [],
   "source": [
    "times=1000\n",
    "size_n=1000\n",
    "al_da=[]\n",
    "for i in range(times):\n",
    "    a=stats.powerlaw.rvs(a=0.01,loc=10,scale=8e4,size=size_n).astype(np.int)\n",
    "    b=stats.powerlaw.rvs(a=0.01,loc=10,scale=8e4,size=size_n).astype(np.int)\n",
    "    x,y,data=disq_pre_cr_inter(a,b,)\n",
    "    al_da.append(data)\n",
    "    print(i,end='\\t')\n",
    "data_mean=np.mean(al_da,axis=0)\n",
    "data_std=np.std(al_da,axis=0)\n",
    "x,y=np.meshgrid(x,y)"
   ]
  },
  {
   "cell_type": "markdown",
   "metadata": {},
   "source": [
    "---"
   ]
  },
  {
   "cell_type": "markdown",
   "metadata": {},
   "source": [
    "### 画出mean"
   ]
  },
  {
   "cell_type": "code",
   "execution_count": null,
   "metadata": {},
   "outputs": [],
   "source": [
    "fig,axs=plt.subplots(1,2,figsize=(20,10))\n",
    "\n",
    "ax=axs[0]\n",
    "c=pic_ax(ax,x,y,data_mean,title='mean',xlabel='num A',ylabel='num B',txt='a=0.01,%dtimes,\\nsize=%d'%(times,size_n))\n",
    "fig.colorbar(c,ax=ax,shrink=0.8)\n",
    "\n",
    "ax=axs[1]\n",
    "c=pic_ax(ax,x,y,data_std,title='std',xlabel='num A',ylabel='num B',txt='a=0.01,%dtimes,\\nsize=%d'%(times,size_n))\n",
    "fig.colorbar(c,ax=ax,shrink=0.8)\n",
    "\n",
    "# save_file='./mul_show/SD_Data/mul_%dt_sd_crstrong_%d.jpg'%(times,size_n)\n",
    "save_file='./mul_show/SD_Data/mul_%dt_sd_pre_cr_%d.jpg'%(times,size_n)\n",
    "\n",
    "plt.savefig(save_file,dpi=300)\n",
    "plt.show()"
   ]
  },
  {
   "cell_type": "markdown",
   "metadata": {},
   "source": [
    "---"
   ]
  },
  {
   "cell_type": "markdown",
   "metadata": {},
   "source": [
    "### 保存数据"
   ]
  },
  {
   "cell_type": "code",
   "execution_count": null,
   "metadata": {},
   "outputs": [],
   "source": [
    "# filename='./mul_show/SD_Data/mul_%dt_sd_crstrong_%d_mean.txt'%(times,size_n)\n",
    "filename='./mul_show/SD_Data/mul_%dt_sd_pre_cr_%d_mean.txt'%(times,size_n)\n",
    "\n",
    "np.savetxt(filename,data_mean,fmt='%.10f',)"
   ]
  },
  {
   "cell_type": "code",
   "execution_count": null,
   "metadata": {},
   "outputs": [],
   "source": [
    "# filename='./mul_show/SD_Data/mul_%dt_sd_crstrong_%d_std.txt'%(times,size_n)\n",
    "filename='./mul_show/SD_Data/mul_%dt_sd_pre_cr_%d_std.txt'%(times,size_n)\n",
    "np.savetxt(filename,data_std,fmt='%.10f',)"
   ]
  },
  {
   "cell_type": "markdown",
   "metadata": {},
   "source": [
    "---"
   ]
  },
  {
   "cell_type": "markdown",
   "metadata": {},
   "source": [
    "### 读取数据"
   ]
  },
  {
   "cell_type": "code",
   "execution_count": null,
   "metadata": {},
   "outputs": [],
   "source": [
    "filename='./mul_show/SD_Data/mul_1000t_sd_crstrong_200_mean.txt'\n",
    "data_mean=np.loadtxt(filename,dtype=float)"
   ]
  },
  {
   "cell_type": "code",
   "execution_count": null,
   "metadata": {},
   "outputs": [],
   "source": [
    "filename='./mul_show/SD_Data/mul_1000t_sd_crstrong_200_std.txt'\n",
    "data_std=np.loadtxt(filename,dtype=float)"
   ]
  },
  {
   "cell_type": "code",
   "execution_count": null,
   "metadata": {},
   "outputs": [],
   "source": [
    "times=1000\n",
    "size_n=200"
   ]
  },
  {
   "cell_type": "code",
   "execution_count": null,
   "metadata": {},
   "outputs": [],
   "source": [
    "fig,ax=plt.subplots(figsize=(20,10))\n",
    "\n",
    "c=ax.pcolor(data_std,cmap='autumn')\n",
    "fig.colorbar(c,ax=ax,shrink=0.8)\n",
    "\n",
    "plt.show()"
   ]
  },
  {
   "cell_type": "markdown",
   "metadata": {},
   "source": [
    "---"
   ]
  }
 ],
 "metadata": {
  "kernelspec": {
   "display_name": "Python 3",
   "language": "python",
   "name": "python3"
  },
  "language_info": {
   "codemirror_mode": {
    "name": "ipython",
    "version": 3
   },
   "file_extension": ".py",
   "mimetype": "text/x-python",
   "name": "python",
   "nbconvert_exporter": "python",
   "pygments_lexer": "ipython3",
   "version": "3.7.6"
  },
  "toc": {
   "base_numbering": 1,
   "nav_menu": {},
   "number_sections": true,
   "sideBar": true,
   "skip_h1_title": false,
   "title_cell": "Table of Contents",
   "title_sidebar": "Contents",
   "toc_cell": false,
   "toc_position": {
    "height": "calc(100% - 180px)",
    "left": "10px",
    "top": "150px",
    "width": "171.594px"
   },
   "toc_section_display": true,
   "toc_window_display": true
  },
  "varInspector": {
   "cols": {
    "lenName": 16,
    "lenType": 16,
    "lenVar": 40
   },
   "kernels_config": {
    "python": {
     "delete_cmd_postfix": "",
     "delete_cmd_prefix": "del ",
     "library": "var_list.py",
     "varRefreshCmd": "print(var_dic_list())"
    },
    "r": {
     "delete_cmd_postfix": ") ",
     "delete_cmd_prefix": "rm(",
     "library": "var_list.r",
     "varRefreshCmd": "cat(var_dic_list()) "
    }
   },
   "types_to_exclude": [
    "module",
    "function",
    "builtin_function_or_method",
    "instance",
    "_Feature"
   ],
   "window_display": false
  }
 },
 "nbformat": 4,
 "nbformat_minor": 2
}
