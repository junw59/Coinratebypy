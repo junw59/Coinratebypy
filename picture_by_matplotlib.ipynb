{
 "cells": [
  {
   "cell_type": "markdown",
   "metadata": {},
   "source": [
    "# 绘制图像"
   ]
  },
  {
   "cell_type": "markdown",
   "metadata": {},
   "source": [
    "%matplotlib auto\n",
    "#弹出窗绘图\n",
    "\n",
    "#%matplotlib inline\n",
    "#控制台绘图\n"
   ]
  },
  {
   "cell_type": "code",
   "execution_count": 17,
   "metadata": {},
   "outputs": [],
   "source": [
    "import matplotlib.pyplot as plt\n",
    "import numpy as np\n",
    "from mpl_toolkits.mplot3d import Axes3D\n"
   ]
  },
  {
   "cell_type": "markdown",
   "metadata": {},
   "source": [
    "## 导入数据"
   ]
  },
  {
   "cell_type": "markdown",
   "metadata": {},
   "source": [
    "## 将数据导入到内存中"
   ]
  },
  {
   "cell_type": "markdown",
   "metadata": {},
   "source": [
    "### 读取文件中的二维数据，并返回浮点型数组"
   ]
  },
  {
   "cell_type": "markdown",
   "metadata": {},
   "source": [
    "读取二维数据，输入待读取文件名，返回一个二维数组"
   ]
  },
  {
   "cell_type": "code",
   "execution_count": 10,
   "metadata": {},
   "outputs": [],
   "source": [
    "def read_data(str_doc):\n",
    "    '''输入：文件名\\n输出：二维数组'''\n",
    "    with open(str_doc,'r') as f:\n",
    "        data_r=[]\n",
    "        for line in f:\n",
    "            every_l=[]\n",
    "#            print(line)\n",
    "            for sigle_l in line.split():\n",
    "#                print(sigle_l,type(sigle_l),end='')\n",
    "                every_l.append(float(sigle_l.strip()))\n",
    "#            print(every_l,type(every_l[0]))\n",
    "            data_r.append(every_l)\n",
    "#            print('\\n')\n",
    "    return data_r\n"
   ]
  },
  {
   "cell_type": "markdown",
   "metadata": {},
   "source": [
    "data_r=read_data('result_ma002.txt')\n",
    "\n",
    "print(type(data_r[0][0]),len(data_r),len(data_r[0]))\n",
    "print(data_r)"
   ]
  },
  {
   "cell_type": "markdown",
   "metadata": {},
   "source": [
    "## 将数据在二维平面中画出"
   ]
  },
  {
   "cell_type": "markdown",
   "metadata": {},
   "source": [
    "### 定义绘制二维图像的函数"
   ]
  },
  {
   "cell_type": "markdown",
   "metadata": {},
   "source": [
    "定义一个绘制二维图像的函数，用以绘制理论分析的结果，传入参数是二维数组"
   ]
  },
  {
   "cell_type": "code",
   "execution_count": 11,
   "metadata": {},
   "outputs": [],
   "source": [
    "def pic_twodata(data_r):\n",
    "    '''输入：二维数组\\n绘制图片'''\n",
    "    plt.figure(figsize=(10,10))\n",
    "    a=np.array(data_r).reshape(len(data_r),len(data_r[0]))\n",
    "    \n",
    "    plt.imshow(a,interpolation='nearest',cmap='autumn',origin='upper')\n",
    "    plt.colorbar(shrink=0.8)\n",
    "\n",
    "    plt.title('Analytics')\n",
    "    plt.xlabel(r'$\\Delta T/T$',fontdict={'size': 16, 'color': 'k'})\n",
    "    plt.ylabel('N/B',fontdict={'size': 16, 'color': 'k'})\n",
    "    plt.xticks([0,9,19],[0,0.10,0.20],size=16)\n",
    "    plt.yticks([0,9,19],[20,10,1],size=16)\n",
    "    plt.show()\n"
   ]
  },
  {
   "cell_type": "markdown",
   "metadata": {
    "collapsed": true
   },
   "source": [
    "pic_twodata(read_data('result_ma002.txt'))"
   ]
  },
  {
   "cell_type": "markdown",
   "metadata": {},
   "source": [
    "### 利用函数画出图像"
   ]
  },
  {
   "cell_type": "markdown",
   "metadata": {},
   "source": [
    "画出二维的图像，参数是二维数组、标题名、x轴名字、y轴名字"
   ]
  },
  {
   "cell_type": "code",
   "execution_count": 12,
   "metadata": {
    "code_folding": []
   },
   "outputs": [],
   "source": [
    "def pic_data(data_p,title_p='title',xlabel_p=r'$\\Delta T/T$',ylabel_p='Event B',text=''):\n",
    "    '''输入：二维数组、标题、x轴、y轴、文字说明\\n绘制图片'''\n",
    "#    plt.figure(figsize=(10,10))\n",
    "    a=np.array(data_p).reshape(len(data_p),len(data_p[0]))\n",
    "    \n",
    "    plt.imshow(a,interpolation='nearest',cmap='autumn',origin='upper')\n",
    "    plt.colorbar(shrink=0.5)\n",
    "\n",
    "    plt.title(title_p,size=25)\n",
    "    plt.text(0,-1,text,size=15,va='bottom')\n",
    "    plt.xlabel(xlabel_p,fontdict={'size': 20, 'color': 'k'})\n",
    "    plt.ylabel(ylabel_p,fontdict={'size': 20, 'color': 'k'})\n",
    "    plt.xticks((0,len(data_p[0])-1),('0','0.2'),size=16)\n",
    "    plt.yticks((0,len(data_p)-1),('20','1'),size=16)\n",
    "#    plt.show()\n"
   ]
  },
  {
   "cell_type": "markdown",
   "metadata": {},
   "source": [
    "## 运行"
   ]
  },
  {
   "cell_type": "markdown",
   "metadata": {},
   "source": [
    "### 运行计算函数"
   ]
  },
  {
   "cell_type": "markdown",
   "metadata": {},
   "source": [
    "%%time\n",
    "%%prun\n",
    "%run ./coin_rate_culculate.ipynb"
   ]
  }
 ],
 "metadata": {
  "kernelspec": {
   "display_name": "Python 3",
   "language": "python",
   "name": "python3"
  },
  "language_info": {
   "codemirror_mode": {
    "name": "ipython",
    "version": 3
   },
   "file_extension": ".py",
   "mimetype": "text/x-python",
   "name": "python",
   "nbconvert_exporter": "python",
   "pygments_lexer": "ipython3",
   "version": "3.7.1"
  }
 },
 "nbformat": 4,
 "nbformat_minor": 2
}
