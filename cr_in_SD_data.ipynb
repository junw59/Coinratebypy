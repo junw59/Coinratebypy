{
 "cells": [
  {
   "cell_type": "markdown",
   "metadata": {},
   "source": [
    "此文件包含了对sd数据（来自公司员工的短信息交流数据）的coinrate 的计算"
   ]
  },
  {
   "cell_type": "code",
   "execution_count": null,
   "metadata": {
    "scrolled": true
   },
   "outputs": [],
   "source": [
    "%matplotlib auto\n",
    "#弹出窗绘图"
   ]
  },
  {
   "cell_type": "code",
   "execution_count": null,
   "metadata": {
    "scrolled": true
   },
   "outputs": [],
   "source": [
    "%matplotlib inline\n",
    "#控制台绘图"
   ]
  },
  {
   "cell_type": "code",
   "execution_count": null,
   "metadata": {
    "scrolled": true
   },
   "outputs": [],
   "source": [
    "import matplotlib.pyplot as plt\n",
    "import matplotlib.animation as animation\n",
    "\n",
    "import pandas as pd\n",
    "import numpy as np\n",
    "import numba as nb\n",
    "import networkx as nx\n",
    "\n",
    "from scipy import stats\n",
    "from mpl_toolkits.mplot3d import Axes3D\n",
    "\n",
    "import random\n",
    "import string\n",
    "import time\n"
   ]
  },
  {
   "cell_type": "markdown",
   "metadata": {},
   "source": [
    "---"
   ]
  },
  {
   "cell_type": "markdown",
   "metadata": {},
   "source": [
    "## 运行计算函数"
   ]
  },
  {
   "cell_type": "markdown",
   "metadata": {},
   "source": [
    "导入函数"
   ]
  },
  {
   "cell_type": "code",
   "execution_count": null,
   "metadata": {
    "scrolled": true
   },
   "outputs": [],
   "source": [
    "%%time\n",
    "#%%prun\n",
    "\n",
    "%run ./coin_rate_calculate.ipynb\n",
    "%run ./picture_by_matplotlib.ipynb"
   ]
  },
  {
   "cell_type": "markdown",
   "metadata": {},
   "source": [
    "%run ./ 当前目录\n",
    "\n",
    "%run ../ 上一级目录"
   ]
  },
  {
   "cell_type": "markdown",
   "metadata": {},
   "source": [
    "---"
   ]
  },
  {
   "cell_type": "markdown",
   "metadata": {},
   "source": [
    "## 分析sd数据"
   ]
  },
  {
   "cell_type": "markdown",
   "metadata": {},
   "source": [
    "### 读取数据"
   ]
  },
  {
   "cell_type": "markdown",
   "metadata": {},
   "source": [
    "分析文献中的sd数据（来自公司员工的短信息交流数据）"
   ]
  },
  {
   "cell_type": "code",
   "execution_count": null,
   "metadata": {
    "scrolled": true
   },
   "outputs": [],
   "source": [
    "pd.set_option('display.max_columns', 10,'display.max_rows', 10)  # 设置显示全部列数据行数据"
   ]
  },
  {
   "cell_type": "code",
   "execution_count": null,
   "metadata": {
    "scrolled": true
   },
   "outputs": [],
   "source": [
    "# 读取数据\n",
    "colname=['sender','recipient','timestamp']\n",
    "datel=pd.read_table('.\\\\data\\\\SD01.txt',sep='\\s+',header=None,names=colname,nrows=None)"
   ]
  },
  {
   "cell_type": "code",
   "execution_count": null,
   "metadata": {
    "code_folding": []
   },
   "outputs": [],
   "source": [
    "# 获取活跃的用户的信息，发送信息大于一定值的用户\n",
    "unknow=pd.value_counts(datel.loc[:,'sender'])\n",
    "indx_3=unknow[unknow>500].index\n",
    "print('num=%d\\n'%len(indx_3),indx_3)"
   ]
  },
  {
   "cell_type": "markdown",
   "metadata": {},
   "source": [
    "---"
   ]
  },
  {
   "cell_type": "code",
   "execution_count": null,
   "metadata": {
    "scrolled": true
   },
   "outputs": [],
   "source": [
    "temp1=datel[datel.sender==136].loc[:,'timestamp']\n",
    "temp2=datel[datel.sender==135].loc[:,'timestamp']\n",
    "pre_cr_(600,0,temp1,temp2)"
   ]
  },
  {
   "cell_type": "code",
   "execution_count": null,
   "metadata": {
    "scrolled": true
   },
   "outputs": [],
   "source": [
    "%%time\n",
    "pre_cr_(600,0,temp1,temp2)"
   ]
  },
  {
   "cell_type": "code",
   "execution_count": null,
   "metadata": {
    "scrolled": true
   },
   "outputs": [],
   "source": [
    "%%time\n",
    "pre_coin_r(600,0,temp1,temp2)"
   ]
  },
  {
   "cell_type": "code",
   "execution_count": null,
   "metadata": {
    "scrolled": true
   },
   "outputs": [],
   "source": [
    "pre_cr_center(600,0,temp1,temp2)"
   ]
  },
  {
   "cell_type": "markdown",
   "metadata": {},
   "source": [
    "---"
   ]
  },
  {
   "cell_type": "markdown",
   "metadata": {},
   "source": [
    "### 计算coinrate"
   ]
  },
  {
   "cell_type": "code",
   "execution_count": null,
   "metadata": {
    "scrolled": true
   },
   "outputs": [],
   "source": [
    "# 生成二维空表格\n",
    "neta=pd.DataFrame(np.zeros((len(indx_3),len(indx_3))),index=indx_3,columns=indx_3)\n",
    "neta"
   ]
  },
  {
   "cell_type": "code",
   "execution_count": null,
   "metadata": {
    "scrolled": true
   },
   "outputs": [],
   "source": [
    "# 二维数据中，行对象作为列对象的pre来计算,行对象与列对象的关联占行对象的比例\n",
    "# 将计算得到的coinrate填充到二维空表格\n",
    "\n",
    "for ind in indx_3:\n",
    "    for col in indx_3:\n",
    "        if ind==col:\n",
    "            continue\n",
    "        tp1=datel[datel.sender==ind].loc[:,'timestamp']\n",
    "        tp2=datel[datel.sender==col].loc[:,'timestamp']\n",
    "        neta.loc[ind,col]=pre_cr_(600,0,tp1,tp2)"
   ]
  },
  {
   "cell_type": "code",
   "execution_count": null,
   "metadata": {
    "scrolled": true
   },
   "outputs": [],
   "source": [
    "# 更改表格字体颜色的准备\n",
    "def showcolor(val):\n",
    "    if val>0.5:\n",
    "        color='red'\n",
    "    elif val>0.2:\n",
    "        color='green'\n",
    "    else :\n",
    "        color='blank'\n",
    "    return 'color:%s'%color"
   ]
  },
  {
   "cell_type": "code",
   "execution_count": null,
   "metadata": {
    "scrolled": true
   },
   "outputs": [],
   "source": [
    "# 存储变量到其他文件中也可使用\n",
    "new=neta.round(2)\n",
    "%store new\n",
    "%store indx_3"
   ]
  },
  {
   "cell_type": "code",
   "execution_count": null,
   "metadata": {
    "code_folding": [],
    "scrolled": true
   },
   "outputs": [],
   "source": [
    "# 更改表格的颜色并展示\n",
    "neta.round(decimals=2).style.applymap(showcolor)"
   ]
  },
  {
   "cell_type": "markdown",
   "metadata": {},
   "source": [
    "---"
   ]
  },
  {
   "cell_type": "markdown",
   "metadata": {},
   "source": [
    "### 直接通过数据计算"
   ]
  },
  {
   "cell_type": "code",
   "execution_count": null,
   "metadata": {
    "scrolled": true
   },
   "outputs": [],
   "source": [
    "# 直接从数据中的收发信人数据计算关系\n",
    "def send_dt(sd):\n",
    "    '''发信人sd，返回信息发送情况字典：sender ；rc(收信人及收信的比例)\n",
    "    '''\n",
    "#     发信人sd的收信人列表\n",
    "    showz=datel[datel.sender==sd].loc[:,'recipient']\n",
    "#     计算各个收信人的收信数量\n",
    "    showzc=pd.value_counts(showz)\n",
    "    rate=showzc.iloc[0]/showz.count()  #计算sender发送的信息中发给的最多的人的信息占比\n",
    "    mro=showzc.index[0]\n",
    "    sed_rc={'sender':sd,'rc':(showzc/showz.count())}\n",
    "#     print('sender is %5d and max rate object %5d is %.3f'%(sd,mro,rate),mro in indx_3)\n",
    "    return sed_rc\n",
    "    "
   ]
  },
  {
   "cell_type": "code",
   "execution_count": null,
   "metadata": {
    "code_folding": []
   },
   "outputs": [],
   "source": [
    "# 展示所有发信人联系最密切的对象\n",
    "for i in indx_3:\n",
    "    temp=send_dt(i)\n",
    "    print(temp)"
   ]
  },
  {
   "cell_type": "markdown",
   "metadata": {},
   "source": [
    "---"
   ]
  },
  {
   "cell_type": "markdown",
   "metadata": {},
   "source": [
    "### 计算coinrate得出的社交网络图"
   ]
  },
  {
   "cell_type": "markdown",
   "metadata": {},
   "source": [
    "#### 设置节点和边"
   ]
  },
  {
   "cell_type": "markdown",
   "metadata": {},
   "source": [
    "用箭头表示联系的流向，例如：a--->b，意味着a的信息大多发给了b"
   ]
  },
  {
   "cell_type": "code",
   "execution_count": null,
   "metadata": {},
   "outputs": [],
   "source": [
    "# 挑选coinrate的最大值\n",
    "max_col_idx=np.argmax(np.array(neta),axis=0)\n",
    "\n",
    "# 对最大值连边\n",
    "max_list_edges=[]\n",
    "for i in range(len(indx_3)):\n",
    "    max_list_edges.append((indx_3[i],indx_3[max_col_idx[i]]))\n"
   ]
  },
  {
   "cell_type": "code",
   "execution_count": null,
   "metadata": {},
   "outputs": [],
   "source": [
    "print(data_5)\n",
    "print(max_list_edges)"
   ]
  },
  {
   "cell_type": "markdown",
   "metadata": {},
   "source": [
    "---"
   ]
  },
  {
   "cell_type": "code",
   "execution_count": null,
   "metadata": {},
   "outputs": [],
   "source": [
    "# 挑选大于指定数值的数的位置，第一个数是行，第二个数是列\n",
    "data_5=np.where(neta>0.5)\n",
    "\n",
    "# 对指定的数设置连边\n",
    "da5_edge=[]\n",
    "for i in range(len(data_5[0])):\n",
    "    x1=data_5[0][i]\n",
    "    x2=data_5[1][i]\n",
    "    da5_edge.append((indx_3[x1],indx_3[x2]))\n",
    "    print(x1,x2,'\\tindex:\\t',indx_3[x1],indx_3[x2])\n",
    "print(da5_edge)"
   ]
  },
  {
   "cell_type": "code",
   "execution_count": null,
   "metadata": {},
   "outputs": [],
   "source": [
    "# 挑选大于指定数值的数的位置，第一个数是行，第二个数是列\n",
    "data_5=np.where(neta>0.5)\n",
    "\n",
    "# 对指定的数设置连边\n",
    "da5_edge_re=[]\n",
    "for i in range(len(data_5[0])):\n",
    "    x1=data_5[0][i]\n",
    "    x2=data_5[1][i]\n",
    "    if x2==0 or x2==1 : continue\n",
    "    da5_edge_re.append((indx_3[x1],indx_3[x2]))\n",
    "    print(x1,x2,'\\tindex:\\t',indx_3[x1],indx_3[x2])\n",
    "print(da5_edge_re)\n",
    "\n",
    "# 设置135和136仅有一条连边\n",
    "da5_edge_re.append((135,136))\n",
    "da5_edge_re.append((136,135))"
   ]
  },
  {
   "cell_type": "markdown",
   "metadata": {},
   "source": [
    "---"
   ]
  },
  {
   "cell_type": "markdown",
   "metadata": {},
   "source": [
    "#### 画出有向网络图"
   ]
  },
  {
   "cell_type": "code",
   "execution_count": null,
   "metadata": {
    "scrolled": true
   },
   "outputs": [],
   "source": [
    "# 创建有向网络图，并添加节点和连边\n",
    "\n",
    "sd_g=nx.DiGraph()\n",
    "sd_g.add_nodes_from(indx_3)\n",
    "sd_g.add_edges_from(da5_edge)\n",
    "# sd_g.add_edges_from(max_list_edges)"
   ]
  },
  {
   "cell_type": "code",
   "execution_count": null,
   "metadata": {
    "scrolled": true
   },
   "outputs": [],
   "source": [
    "# 这个是来自SD01的数据，挑选出了发送信息数大于一定值的用户,绘制出了网络图\n",
    "\n",
    "# 支持中文\n",
    "plt.rcParams['font.sans-serif'] = ['SimHei']  # 用来正常显示中文标签\n",
    "plt.rcParams['axes.unicode_minus'] = False  # 用来正常显示负号\n",
    "# 有中文出现，需要用u'内容'\n",
    "\n",
    "plt.figure(figsize=(20,20))\n",
    "# text=u'节点是发送信息数大于500的用户,\\n用户数是%d,coinrate>0.5就连边'%(len(indx_3))\n",
    "text=u'节点是发送信息数大于500的用户,\\n用户数是%d,coinrate>0.5,且去除了多连边'%(len(indx_3))\n",
    "\n",
    "nx.draw(sd_g,\n",
    "        with_labels=True,\n",
    "        node_color='SpringGreen',\n",
    "        edge_color='royalblue',\n",
    "        node_size=500,\n",
    "        width=1.5,\n",
    "        arrowstyle='->',\n",
    "        pos=nx.circular_layout(sd_g),        \n",
    "#         pos=nx.kamada_kawai_layout(sd_g),\n",
    "        )\n",
    "# plt.title('network')\n",
    "plt.text(0,0,text,fontdict={'color':'orangered','size':20})\n",
    "# plt.savefig('.\\\\data\\\\network_SD01_u500_c_by_circular_.5.png')\n",
    "# plt.savefig('.\\\\data\\\\network_SD01_u500_c_by_circular_re.png')\n",
    "plt.show()"
   ]
  },
  {
   "cell_type": "markdown",
   "metadata": {},
   "source": [
    "---"
   ]
  },
  {
   "cell_type": "markdown",
   "metadata": {},
   "source": [
    "### 通过数据得出的社交网络图"
   ]
  },
  {
   "cell_type": "code",
   "execution_count": null,
   "metadata": {},
   "outputs": [],
   "source": [
    "# 设置节点的连边，对数据的发信和收信人直接统计，若收信人也在节点中则添加该边\n",
    "\n",
    "edge_lists=[]\n",
    "for sd in indx_3:\n",
    "    senre=send_dt(sd)['rc']\n",
    "    filt_d=senre[senre>0.5]\n",
    "    for i in range(len(filt_d)):\n",
    "        obj=filt_d.index[i]\n",
    "        if obj in indx_3:\n",
    "            edge_lists.append((sd,obj))\n",
    "#         print(filt_d.index[i],filt_d.iloc[i])\n",
    "#         print('next:\\n')"
   ]
  },
  {
   "cell_type": "code",
   "execution_count": null,
   "metadata": {
    "scrolled": true
   },
   "outputs": [],
   "source": [
    "# 创建有向网络图，并添加节点和连边\n",
    "\n",
    "sd_og=nx.DiGraph()\n",
    "sd_og.add_nodes_from(indx_3)\n",
    "sd_og.add_edges_from(edge_lists)"
   ]
  },
  {
   "cell_type": "code",
   "execution_count": null,
   "metadata": {},
   "outputs": [],
   "source": [
    "# 这个是来自SD01的数据，挑选出了发送信息数大于一定值的用户,绘制出了网络图\n",
    "\n",
    "# 支持中文\n",
    "plt.rcParams['font.sans-serif'] = ['SimHei']  # 用来正常显示中文标签\n",
    "plt.rcParams['axes.unicode_minus'] = False  # 用来正常显示负号\n",
    "# 有中文出现，需要用u'内容'\n",
    "\n",
    "plt.figure(figsize=(20,20))\n",
    "text=u'节点是发送信息数大于500的用户,\\n用户数是{},接受了对方50%以上的信息的连边'.format(len(indx_3))\n",
    "\n",
    "nx.draw(sd_og,\n",
    "        with_labels=True,\n",
    "        node_color='SpringGreen',\n",
    "        edge_color='royalblue',\n",
    "        node_size=500,\n",
    "        width=1.5,\n",
    "        arrowstyle='->',\n",
    "        pos=nx.circular_layout(sd_og),        \n",
    "#         pos=nx.kamada_kawai_layout(sd_og),\n",
    "        )\n",
    "# plt.title('network')\n",
    "plt.text(0,0,text,fontdict={'color':'orangered','size':20})\n",
    "# plt.savefig('.\\\\data\\\\network_SD01_u500_data_by_circular.png')\n",
    "plt.show()"
   ]
  },
  {
   "cell_type": "markdown",
   "metadata": {},
   "source": [
    "---"
   ]
  },
  {
   "cell_type": "markdown",
   "metadata": {},
   "source": [
    "### 绘制网络的函数"
   ]
  },
  {
   "cell_type": "code",
   "execution_count": null,
   "metadata": {
    "scrolled": true
   },
   "outputs": [],
   "source": [
    "# u'节点是发送信息数大于500的用户,\\n用户数是{},接受了对方50%以上的信息的连边'.format(len(indx_3))\n",
    "# path='.\\\\data\\\\'+?\n",
    "\n",
    "def pic_network(pot_no,edge_lists,txt_p=u'节点网络图',path_pic=None):\n",
    "    '''绘制网络图；\n",
    "    输入参数为：节点、连边；可选文字、保存路径\n",
    "    '''\n",
    "    # 创建有向网络图，并添加节点和连边\n",
    "\n",
    "    sd_og=nx.DiGraph()\n",
    "    sd_og.add_nodes_from(pot_no)\n",
    "    sd_og.add_edges_from(edge_lists)\n",
    "\n",
    "    # 支持中文\n",
    "    plt.rcParams['font.sans-serif'] = ['SimHei']  # 用来正常显示中文标签\n",
    "    plt.rcParams['axes.unicode_minus'] = False  # 用来正常显示负号\n",
    "    # 有中文出现，需要用u'内容'\n",
    "\n",
    "    plt.figure(figsize=(20,20))\n",
    "\n",
    "    nx.draw(sd_og,\n",
    "            with_labels=True,\n",
    "            node_color='SpringGreen',\n",
    "            edge_color='royalblue',\n",
    "            node_size=500,\n",
    "            width=1.5,\n",
    "            arrowstyle='->',\n",
    "            pos=nx.circular_layout(sd_og),        \n",
    "    #         pos=nx.kamada_kawai_layout(sd_og),\n",
    "            )\n",
    "    # plt.title('network')\n",
    "    plt.text(0,0,txt_p,fontdict={'color':'orangered','size':20})\n",
    "    if not path_pic==None:\n",
    "        plt.savefig(path_pic)\n",
    "    plt.show()"
   ]
  },
  {
   "cell_type": "markdown",
   "metadata": {},
   "source": [
    "---"
   ]
  },
  {
   "cell_type": "markdown",
   "metadata": {},
   "source": [
    "### 绘图"
   ]
  },
  {
   "cell_type": "code",
   "execution_count": null,
   "metadata": {},
   "outputs": [],
   "source": [
    "# 设置节点的连边，对数据的发信和收信人直接统计，若收信人也在节点中则添加该边\n",
    "# 挑选了收信人中最大比例的对象\n",
    "\n",
    "max_edge_lists=[]\n",
    "for sd in indx_3:\n",
    "    senre=send_dt(sd)['rc']\n",
    "#     filt_d=senre[senre>0.5]\n",
    "    obj=senre.index[0]\n",
    "    if obj in indx_3:\n",
    "        max_edge_lists.append((sd,obj))\n",
    "        print((sd,obj))\n",
    "        print('next:\\n')"
   ]
  },
  {
   "cell_type": "code",
   "execution_count": null,
   "metadata": {},
   "outputs": [],
   "source": [
    "txt=u'节点是发送信息数大于500的用户,\\n用户数是{},接受了最多的信息的对象连边'.format(len(indx_3))\n",
    "path='.\\\\data\\\\network_SD01_u500_data_by_circular_max.png'\n",
    "pic_network(indx_3,edge_lists,txt_p=txt,path_pic=path)"
   ]
  },
  {
   "cell_type": "markdown",
   "metadata": {},
   "source": [
    "---"
   ]
  },
  {
   "cell_type": "markdown",
   "metadata": {},
   "source": [
    "### 网络的相似度"
   ]
  },
  {
   "cell_type": "code",
   "execution_count": null,
   "metadata": {},
   "outputs": [],
   "source": [
    "def similar_edge(e1,e2):\n",
    "    '''计算两个连边集合的相似对度，输入两个连边的列表，输出(a&b)/(a|b)\n",
    "    '''\n",
    "    a1=set(e1)\n",
    "    b1=set(e2)\n",
    "    return len(a1 & b1)/len(a1 | b1)"
   ]
  },
  {
   "cell_type": "code",
   "execution_count": null,
   "metadata": {},
   "outputs": [],
   "source": [
    "print(len(da5_edge),'\\n',da5_edge)\n",
    "print(len(max_list_edges),'\\n',max_list_edges)"
   ]
  },
  {
   "cell_type": "code",
   "execution_count": null,
   "metadata": {},
   "outputs": [],
   "source": [
    "print(len(edge_lists),'\\n',edge_lists)\n",
    "print(len(max_edge_lists),'\\n',max_edge_lists)"
   ]
  },
  {
   "cell_type": "code",
   "execution_count": null,
   "metadata": {},
   "outputs": [],
   "source": [
    "a1=set(da5_edge)\n",
    "a2=set(max_list_edges)\n",
    "a3=set(da5_edge_re)\n",
    "b1=set(edge_lists)\n",
    "b2=set(max_edge_lists)"
   ]
  },
  {
   "cell_type": "code",
   "execution_count": null,
   "metadata": {},
   "outputs": [],
   "source": [
    "print(a1,'\\n',a2,'\\n',a3,'\\n',b1,'\\n',b2,'\\n')"
   ]
  },
  {
   "cell_type": "code",
   "execution_count": null,
   "metadata": {},
   "outputs": [],
   "source": [
    "cr={'cr.5':da5_edge,'cr_max':max_list_edges,'cr.5_re':da5_edge_re}\n",
    "da={'data.5':edge_lists,'data_max':max_edge_lists}"
   ]
  },
  {
   "cell_type": "code",
   "execution_count": null,
   "metadata": {},
   "outputs": [],
   "source": [
    "df=pd.DataFrame(np.zeros((3,2)),index=list(cr),columns=list(da))"
   ]
  },
  {
   "cell_type": "code",
   "execution_count": null,
   "metadata": {},
   "outputs": [],
   "source": [
    "for ind in list(cr):\n",
    "    for col in list(da):\n",
    "        df.loc[ind,col]=similar_edge(cr[ind],da[col])"
   ]
  },
  {
   "cell_type": "code",
   "execution_count": null,
   "metadata": {},
   "outputs": [],
   "source": [
    "all_data=dict(cr,**da)"
   ]
  },
  {
   "cell_type": "code",
   "execution_count": null,
   "metadata": {},
   "outputs": [],
   "source": [
    "ndf=pd.DataFrame(np.zeros((5,5)),index=list(all_data),columns=list(all_data))"
   ]
  },
  {
   "cell_type": "code",
   "execution_count": null,
   "metadata": {},
   "outputs": [],
   "source": [
    "for ind in list(all_data):\n",
    "    for col in list(all_data):\n",
    "#         if ind == col:\n",
    "#             continue\n",
    "        ndf.loc[ind,col]=similar_edge(all_data[ind],all_data[col])"
   ]
  },
  {
   "cell_type": "code",
   "execution_count": null,
   "metadata": {},
   "outputs": [],
   "source": [
    "ndf.round(decimals=2)"
   ]
  },
  {
   "cell_type": "code",
   "execution_count": null,
   "metadata": {},
   "outputs": [],
   "source": []
  }
 ],
 "metadata": {
  "kernelspec": {
   "display_name": "Python 3",
   "language": "python",
   "name": "python3"
  },
  "language_info": {
   "codemirror_mode": {
    "name": "ipython",
    "version": 3
   },
   "file_extension": ".py",
   "mimetype": "text/x-python",
   "name": "python",
   "nbconvert_exporter": "python",
   "pygments_lexer": "ipython3",
   "version": "3.7.1"
  },
  "toc": {
   "base_numbering": 1,
   "nav_menu": {
    "height": "200px",
    "width": "286px"
   },
   "number_sections": true,
   "sideBar": true,
   "skip_h1_title": false,
   "title_cell": "Table of Contents",
   "title_sidebar": "Contents",
   "toc_cell": false,
   "toc_position": {
    "height": "calc(100% - 180px)",
    "left": "10px",
    "top": "150px",
    "width": "165px"
   },
   "toc_section_display": true,
   "toc_window_display": false
  },
  "varInspector": {
   "cols": {
    "lenName": 16,
    "lenType": 16,
    "lenVar": 40
   },
   "kernels_config": {
    "python": {
     "delete_cmd_postfix": "",
     "delete_cmd_prefix": "del ",
     "library": "var_list.py",
     "varRefreshCmd": "print(var_dic_list())"
    },
    "r": {
     "delete_cmd_postfix": ") ",
     "delete_cmd_prefix": "rm(",
     "library": "var_list.r",
     "varRefreshCmd": "cat(var_dic_list()) "
    }
   },
   "position": {
    "height": "413.5px",
    "left": "-5px",
    "right": "20px",
    "top": "43px",
    "width": "503px"
   },
   "types_to_exclude": [
    "module",
    "function",
    "builtin_function_or_method",
    "instance",
    "_Feature"
   ],
   "window_display": false
  }
 },
 "nbformat": 4,
 "nbformat_minor": 2
}
