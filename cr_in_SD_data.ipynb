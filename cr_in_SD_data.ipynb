{
 "cells": [
  {
   "cell_type": "markdown",
   "metadata": {},
   "source": [
    "此文件包含了对sd数据（来自公司员工的短信息交流数据）的coinrate 的计算"
   ]
  },
  {
   "cell_type": "code",
   "execution_count": null,
   "metadata": {
    "scrolled": true
   },
   "outputs": [],
   "source": [
    "%matplotlib auto\n",
    "#弹出窗绘图"
   ]
  },
  {
   "cell_type": "code",
   "execution_count": 1,
   "metadata": {
    "scrolled": true
   },
   "outputs": [],
   "source": [
    "%matplotlib inline\n",
    "#控制台绘图"
   ]
  },
  {
   "cell_type": "code",
   "execution_count": 2,
   "metadata": {
    "scrolled": true
   },
   "outputs": [],
   "source": [
    "import matplotlib.pyplot as plt\n",
    "import matplotlib.animation as animation\n",
    "\n",
    "import pandas as pd\n",
    "import numpy as np\n",
    "import numba as nb\n",
    "import networkx as nx\n",
    "\n",
    "from scipy import stats\n",
    "from mpl_toolkits.mplot3d import Axes3D\n",
    "\n",
    "import random\n",
    "import string\n",
    "import time\n"
   ]
  },
  {
   "cell_type": "markdown",
   "metadata": {},
   "source": [
    "---"
   ]
  },
  {
   "cell_type": "markdown",
   "metadata": {},
   "source": [
    "## 运行计算函数"
   ]
  },
  {
   "cell_type": "markdown",
   "metadata": {},
   "source": [
    "导入函数"
   ]
  },
  {
   "cell_type": "code",
   "execution_count": 3,
   "metadata": {
    "scrolled": true
   },
   "outputs": [
    {
     "name": "stdout",
     "output_type": "stream",
     "text": [
      "coin rate calculate succeed!\n",
      "picture function succeed!\n",
      "Wall time: 616 ms\n"
     ]
    }
   ],
   "source": [
    "%%time\n",
    "#%%prun\n",
    "\n",
    "%run ./coin_rate_calculate.ipynb\n",
    "%run ./picture_by_matplotlib.ipynb"
   ]
  },
  {
   "cell_type": "markdown",
   "metadata": {},
   "source": [
    "%run ./ 当前目录\n",
    "\n",
    "%run ../ 上一级目录"
   ]
  },
  {
   "cell_type": "markdown",
   "metadata": {},
   "source": [
    "---"
   ]
  },
  {
   "cell_type": "markdown",
   "metadata": {},
   "source": [
    "## 分析sd数据"
   ]
  },
  {
   "cell_type": "markdown",
   "metadata": {},
   "source": [
    "### 读取数据"
   ]
  },
  {
   "cell_type": "markdown",
   "metadata": {},
   "source": [
    "分析文献中的sd数据（来自公司员工的短信息交流数据）"
   ]
  },
  {
   "cell_type": "code",
   "execution_count": 4,
   "metadata": {
    "scrolled": true
   },
   "outputs": [],
   "source": [
    "pd.set_option('display.max_columns', 10,'display.max_rows', 10)  # 设置显示全部列数据行数据"
   ]
  },
  {
   "cell_type": "code",
   "execution_count": 5,
   "metadata": {
    "scrolled": true
   },
   "outputs": [],
   "source": [
    "# 读取数据\n",
    "colname=['sender','recipient','timestamp']\n",
    "datel=pd.read_table('.\\\\data\\\\SD01.txt',sep='\\s+',header=None,names=colname,nrows=None)"
   ]
  },
  {
   "cell_type": "code",
   "execution_count": 6,
   "metadata": {
    "code_folding": []
   },
   "outputs": [
    {
     "name": "stdout",
     "output_type": "stream",
     "text": [
      "num=86\n",
      " Int64Index([  136,   135,    63,  1121,  1120,   812,   602,  6113,   353,\n",
      "            34895,   977,    35,  1236,  8880,  1219,   603,   225,     9,\n",
      "               36,   264,    80,  1218,   138,  1090,   172,   354,  1238,\n",
      "              232,    79,  1346,   212,  1250, 26736, 33773,   226,  5887,\n",
      "              211,   171,  8342,    85,   101,  3735,   231,  1041,  3736,\n",
      "             1966,  1283,   137,   512,   102,    86,   209,  1668,   368,\n",
      "              981,   514,    92,  1000,  1438,   125,   178,  3038,   145,\n",
      "              840, 14729,   177,  4383,  1324,  1013,   210,  2600, 21126,\n",
      "             1074,     3,  3494,   960, 27342,  1012,  1669,  1323,  5418,\n",
      "             2200, 12841,  1528,  5413,  8545],\n",
      "           dtype='int64')\n"
     ]
    }
   ],
   "source": [
    "# 获取活跃的用户的信息，发送信息大于一定值的用户\n",
    "unknow=pd.value_counts(datel.loc[:,'sender'])\n",
    "indx_3=unknow[unknow>500].index\n",
    "print('num=%d\\n'%len(indx_3),indx_3)"
   ]
  },
  {
   "cell_type": "markdown",
   "metadata": {},
   "source": [
    "---"
   ]
  },
  {
   "cell_type": "code",
   "execution_count": null,
   "metadata": {
    "scrolled": true
   },
   "outputs": [],
   "source": [
    "temp1=datel[datel.sender==136].loc[:,'timestamp']\n",
    "temp2=datel[datel.sender==135].loc[:,'timestamp']\n",
    "pre_cr_(600,0,temp1,temp2)"
   ]
  },
  {
   "cell_type": "code",
   "execution_count": null,
   "metadata": {
    "scrolled": true
   },
   "outputs": [],
   "source": [
    "%%time\n",
    "pre_cr_(600,0,temp1,temp2)"
   ]
  },
  {
   "cell_type": "code",
   "execution_count": null,
   "metadata": {
    "scrolled": true
   },
   "outputs": [],
   "source": [
    "%%time\n",
    "pre_coin_r(600,0,temp1,temp2)"
   ]
  },
  {
   "cell_type": "code",
   "execution_count": null,
   "metadata": {
    "scrolled": true
   },
   "outputs": [],
   "source": [
    "pre_cr_center(600,0,temp1,temp2)"
   ]
  },
  {
   "cell_type": "markdown",
   "metadata": {},
   "source": [
    "---"
   ]
  },
  {
   "cell_type": "markdown",
   "metadata": {},
   "source": [
    "### 计算coinrate"
   ]
  },
  {
   "cell_type": "code",
   "execution_count": 7,
   "metadata": {
    "scrolled": true
   },
   "outputs": [
    {
     "data": {
      "text/html": [
       "<div>\n",
       "<style scoped>\n",
       "    .dataframe tbody tr th:only-of-type {\n",
       "        vertical-align: middle;\n",
       "    }\n",
       "\n",
       "    .dataframe tbody tr th {\n",
       "        vertical-align: top;\n",
       "    }\n",
       "\n",
       "    .dataframe thead th {\n",
       "        text-align: right;\n",
       "    }\n",
       "</style>\n",
       "<table border=\"1\" class=\"dataframe\">\n",
       "  <thead>\n",
       "    <tr style=\"text-align: right;\">\n",
       "      <th></th>\n",
       "      <th>136</th>\n",
       "      <th>135</th>\n",
       "      <th>63</th>\n",
       "      <th>1121</th>\n",
       "      <th>1120</th>\n",
       "      <th>...</th>\n",
       "      <th>2200</th>\n",
       "      <th>12841</th>\n",
       "      <th>1528</th>\n",
       "      <th>5413</th>\n",
       "      <th>8545</th>\n",
       "    </tr>\n",
       "  </thead>\n",
       "  <tbody>\n",
       "    <tr>\n",
       "      <th>136</th>\n",
       "      <td>0.0</td>\n",
       "      <td>0.0</td>\n",
       "      <td>0.0</td>\n",
       "      <td>0.0</td>\n",
       "      <td>0.0</td>\n",
       "      <td>...</td>\n",
       "      <td>0.0</td>\n",
       "      <td>0.0</td>\n",
       "      <td>0.0</td>\n",
       "      <td>0.0</td>\n",
       "      <td>0.0</td>\n",
       "    </tr>\n",
       "    <tr>\n",
       "      <th>135</th>\n",
       "      <td>0.0</td>\n",
       "      <td>0.0</td>\n",
       "      <td>0.0</td>\n",
       "      <td>0.0</td>\n",
       "      <td>0.0</td>\n",
       "      <td>...</td>\n",
       "      <td>0.0</td>\n",
       "      <td>0.0</td>\n",
       "      <td>0.0</td>\n",
       "      <td>0.0</td>\n",
       "      <td>0.0</td>\n",
       "    </tr>\n",
       "    <tr>\n",
       "      <th>63</th>\n",
       "      <td>0.0</td>\n",
       "      <td>0.0</td>\n",
       "      <td>0.0</td>\n",
       "      <td>0.0</td>\n",
       "      <td>0.0</td>\n",
       "      <td>...</td>\n",
       "      <td>0.0</td>\n",
       "      <td>0.0</td>\n",
       "      <td>0.0</td>\n",
       "      <td>0.0</td>\n",
       "      <td>0.0</td>\n",
       "    </tr>\n",
       "    <tr>\n",
       "      <th>1121</th>\n",
       "      <td>0.0</td>\n",
       "      <td>0.0</td>\n",
       "      <td>0.0</td>\n",
       "      <td>0.0</td>\n",
       "      <td>0.0</td>\n",
       "      <td>...</td>\n",
       "      <td>0.0</td>\n",
       "      <td>0.0</td>\n",
       "      <td>0.0</td>\n",
       "      <td>0.0</td>\n",
       "      <td>0.0</td>\n",
       "    </tr>\n",
       "    <tr>\n",
       "      <th>1120</th>\n",
       "      <td>0.0</td>\n",
       "      <td>0.0</td>\n",
       "      <td>0.0</td>\n",
       "      <td>0.0</td>\n",
       "      <td>0.0</td>\n",
       "      <td>...</td>\n",
       "      <td>0.0</td>\n",
       "      <td>0.0</td>\n",
       "      <td>0.0</td>\n",
       "      <td>0.0</td>\n",
       "      <td>0.0</td>\n",
       "    </tr>\n",
       "    <tr>\n",
       "      <th>...</th>\n",
       "      <td>...</td>\n",
       "      <td>...</td>\n",
       "      <td>...</td>\n",
       "      <td>...</td>\n",
       "      <td>...</td>\n",
       "      <td>...</td>\n",
       "      <td>...</td>\n",
       "      <td>...</td>\n",
       "      <td>...</td>\n",
       "      <td>...</td>\n",
       "      <td>...</td>\n",
       "    </tr>\n",
       "    <tr>\n",
       "      <th>2200</th>\n",
       "      <td>0.0</td>\n",
       "      <td>0.0</td>\n",
       "      <td>0.0</td>\n",
       "      <td>0.0</td>\n",
       "      <td>0.0</td>\n",
       "      <td>...</td>\n",
       "      <td>0.0</td>\n",
       "      <td>0.0</td>\n",
       "      <td>0.0</td>\n",
       "      <td>0.0</td>\n",
       "      <td>0.0</td>\n",
       "    </tr>\n",
       "    <tr>\n",
       "      <th>12841</th>\n",
       "      <td>0.0</td>\n",
       "      <td>0.0</td>\n",
       "      <td>0.0</td>\n",
       "      <td>0.0</td>\n",
       "      <td>0.0</td>\n",
       "      <td>...</td>\n",
       "      <td>0.0</td>\n",
       "      <td>0.0</td>\n",
       "      <td>0.0</td>\n",
       "      <td>0.0</td>\n",
       "      <td>0.0</td>\n",
       "    </tr>\n",
       "    <tr>\n",
       "      <th>1528</th>\n",
       "      <td>0.0</td>\n",
       "      <td>0.0</td>\n",
       "      <td>0.0</td>\n",
       "      <td>0.0</td>\n",
       "      <td>0.0</td>\n",
       "      <td>...</td>\n",
       "      <td>0.0</td>\n",
       "      <td>0.0</td>\n",
       "      <td>0.0</td>\n",
       "      <td>0.0</td>\n",
       "      <td>0.0</td>\n",
       "    </tr>\n",
       "    <tr>\n",
       "      <th>5413</th>\n",
       "      <td>0.0</td>\n",
       "      <td>0.0</td>\n",
       "      <td>0.0</td>\n",
       "      <td>0.0</td>\n",
       "      <td>0.0</td>\n",
       "      <td>...</td>\n",
       "      <td>0.0</td>\n",
       "      <td>0.0</td>\n",
       "      <td>0.0</td>\n",
       "      <td>0.0</td>\n",
       "      <td>0.0</td>\n",
       "    </tr>\n",
       "    <tr>\n",
       "      <th>8545</th>\n",
       "      <td>0.0</td>\n",
       "      <td>0.0</td>\n",
       "      <td>0.0</td>\n",
       "      <td>0.0</td>\n",
       "      <td>0.0</td>\n",
       "      <td>...</td>\n",
       "      <td>0.0</td>\n",
       "      <td>0.0</td>\n",
       "      <td>0.0</td>\n",
       "      <td>0.0</td>\n",
       "      <td>0.0</td>\n",
       "    </tr>\n",
       "  </tbody>\n",
       "</table>\n",
       "<p>86 rows × 86 columns</p>\n",
       "</div>"
      ],
      "text/plain": [
       "       136    135    63     1121   1120   ...    2200   12841  1528   5413   \\\n",
       "136      0.0    0.0    0.0    0.0    0.0  ...      0.0    0.0    0.0    0.0   \n",
       "135      0.0    0.0    0.0    0.0    0.0  ...      0.0    0.0    0.0    0.0   \n",
       "63       0.0    0.0    0.0    0.0    0.0  ...      0.0    0.0    0.0    0.0   \n",
       "1121     0.0    0.0    0.0    0.0    0.0  ...      0.0    0.0    0.0    0.0   \n",
       "1120     0.0    0.0    0.0    0.0    0.0  ...      0.0    0.0    0.0    0.0   \n",
       "...      ...    ...    ...    ...    ...  ...      ...    ...    ...    ...   \n",
       "2200     0.0    0.0    0.0    0.0    0.0  ...      0.0    0.0    0.0    0.0   \n",
       "12841    0.0    0.0    0.0    0.0    0.0  ...      0.0    0.0    0.0    0.0   \n",
       "1528     0.0    0.0    0.0    0.0    0.0  ...      0.0    0.0    0.0    0.0   \n",
       "5413     0.0    0.0    0.0    0.0    0.0  ...      0.0    0.0    0.0    0.0   \n",
       "8545     0.0    0.0    0.0    0.0    0.0  ...      0.0    0.0    0.0    0.0   \n",
       "\n",
       "       8545   \n",
       "136      0.0  \n",
       "135      0.0  \n",
       "63       0.0  \n",
       "1121     0.0  \n",
       "1120     0.0  \n",
       "...      ...  \n",
       "2200     0.0  \n",
       "12841    0.0  \n",
       "1528     0.0  \n",
       "5413     0.0  \n",
       "8545     0.0  \n",
       "\n",
       "[86 rows x 86 columns]"
      ]
     },
     "execution_count": 7,
     "metadata": {},
     "output_type": "execute_result"
    }
   ],
   "source": [
    "# 生成二维空表格\n",
    "neta=pd.DataFrame(np.zeros((len(indx_3),len(indx_3))),index=indx_3,columns=indx_3)\n",
    "neta"
   ]
  },
  {
   "cell_type": "code",
   "execution_count": 8,
   "metadata": {
    "scrolled": true
   },
   "outputs": [],
   "source": [
    "# 二维数据中，行对象作为列对象的pre来计算,行对象与列对象的关联占行对象的比例\n",
    "# 将计算得到的coinrate填充到二维空表格\n",
    "\n",
    "for ind in indx_3:\n",
    "    for col in indx_3:\n",
    "        if ind==col:\n",
    "            continue\n",
    "        tp1=datel[datel.sender==ind].loc[:,'timestamp']\n",
    "        tp2=datel[datel.sender==col].loc[:,'timestamp']\n",
    "        neta.loc[ind,col]=pre_cr_(600,0,tp1,tp2)"
   ]
  },
  {
   "cell_type": "code",
   "execution_count": 9,
   "metadata": {
    "scrolled": true
   },
   "outputs": [],
   "source": [
    "# 更改表格字体颜色的准备\n",
    "def showcolor(val):\n",
    "    if val>0.5:\n",
    "        color='red'\n",
    "    elif val>0.2:\n",
    "        color='green'\n",
    "    else :\n",
    "        color='blank'\n",
    "    return 'color:%s'%color"
   ]
  },
  {
   "cell_type": "code",
   "execution_count": null,
   "metadata": {
    "scrolled": true
   },
   "outputs": [],
   "source": [
    "# 存储变量到其他文件中也可使用\n",
    "new=neta.round(2)\n",
    "%store new\n",
    "%store indx_3"
   ]
  },
  {
   "cell_type": "code",
   "execution_count": null,
   "metadata": {
    "code_folding": [],
    "scrolled": true
   },
   "outputs": [],
   "source": [
    "# 更改表格的颜色并展示\n",
    "neta.round(decimals=2).style.applymap(showcolor)"
   ]
  },
  {
   "cell_type": "markdown",
   "metadata": {},
   "source": [
    "---"
   ]
  },
  {
   "cell_type": "markdown",
   "metadata": {},
   "source": [
    "### 直接通过数据计算"
   ]
  },
  {
   "cell_type": "code",
   "execution_count": 10,
   "metadata": {
    "scrolled": true
   },
   "outputs": [],
   "source": [
    "# 直接从数据中的收发信人数据计算关系\n",
    "def send_dt(sd):\n",
    "    '''发信人sd，返回信息发送情况字典：sender ；rc(收信人及收信的比例)\n",
    "    '''\n",
    "#     发信人sd的收信人列表\n",
    "    showz=datel[datel.sender==sd].loc[:,'recipient']\n",
    "#     计算各个收信人的收信数量\n",
    "    showzc=pd.value_counts(showz)\n",
    "    rate=showzc.iloc[0]/showz.count()  #计算sender发送的信息中发给的最多的人的信息占比\n",
    "    mro=showzc.index[0]\n",
    "    sed_rc={'sender':sd,'rc':(showzc/showz.count())}\n",
    "#     print('sender is %5d and max rate object %5d is %.3f'%(sd,mro,rate),mro in indx_3)\n",
    "    return sed_rc\n",
    "    "
   ]
  },
  {
   "cell_type": "code",
   "execution_count": 11,
   "metadata": {
    "code_folding": [],
    "collapsed": true
   },
   "outputs": [
    {
     "name": "stdout",
     "output_type": "stream",
     "text": [
      "{'sender': 136, 'rc': 135     0.975743\n",
      "3533    0.014408\n",
      "5128    0.003648\n",
      "2031    0.002553\n",
      "4021    0.001824\n",
      "3785    0.001094\n",
      "4022    0.000547\n",
      "136     0.000182\n",
      "Name: recipient, dtype: float64}\n",
      "{'sender': 135, 'rc': 136      0.987235\n",
      "2031     0.009677\n",
      "26187    0.002677\n",
      "135      0.000412\n",
      "Name: recipient, dtype: float64}\n",
      "{'sender': 63, 'rc': 64       0.959210\n",
      "38207    0.030593\n",
      "2004     0.005736\n",
      "44076    0.002231\n",
      "2008     0.000956\n",
      "7978     0.000637\n",
      "29178    0.000637\n",
      "Name: recipient, dtype: float64}\n",
      "{'sender': 1121, 'rc': 1120     0.965686\n",
      "14364    0.026395\n",
      "5157     0.006410\n",
      "1974     0.001131\n",
      "1906     0.000377\n",
      "Name: recipient, dtype: float64}\n",
      "{'sender': 1120, 'rc': 1121     0.982666\n",
      "16383    0.011969\n",
      "31550    0.002889\n",
      "17783    0.002064\n",
      "1120     0.000413\n",
      "Name: recipient, dtype: float64}\n",
      "{'sender': 812, 'rc': 921      0.251852\n",
      "4165     0.146841\n",
      "3243     0.146405\n",
      "2021     0.143791\n",
      "813      0.096296\n",
      "           ...   \n",
      "4287     0.000871\n",
      "4413     0.000436\n",
      "4346     0.000436\n",
      "43777    0.000436\n",
      "42526    0.000436\n",
      "Name: recipient, Length: 40, dtype: float64}\n",
      "{'sender': 602, 'rc': 603      0.994379\n",
      "20944    0.003577\n",
      "42842    0.001022\n",
      "602      0.001022\n",
      "Name: recipient, dtype: float64}\n",
      "{'sender': 6113, 'rc': 15248    0.361488\n",
      "28316    0.262847\n",
      "40217    0.110455\n",
      "32103    0.105729\n",
      "28006    0.041347\n",
      "           ...   \n",
      "6112     0.000591\n",
      "31778    0.000591\n",
      "1919     0.000591\n",
      "34991    0.000591\n",
      "6113     0.000591\n",
      "Name: recipient, Length: 23, dtype: float64}\n",
      "{'sender': 353, 'rc': 354     0.971705\n",
      "6766    0.007591\n",
      "273     0.005521\n",
      "5494    0.004141\n",
      "7459    0.002070\n",
      "          ...   \n",
      "1929    0.000690\n",
      "2982    0.000690\n",
      "5109    0.000690\n",
      "1156    0.000690\n",
      "8199    0.000690\n",
      "Name: recipient, Length: 17, dtype: float64}\n",
      "{'sender': 34895, 'rc': 34905    0.027624\n",
      "35841    0.015193\n",
      "35347    0.007597\n",
      "35352    0.006906\n",
      "35350    0.006906\n",
      "           ...   \n",
      "37353    0.000691\n",
      "37311    0.000691\n",
      "35174    0.000691\n",
      "37309    0.000691\n",
      "37119    0.000691\n",
      "Name: recipient, Length: 406, dtype: float64}\n",
      "{'sender': 977, 'rc': 978      0.823939\n",
      "1624     0.032011\n",
      "985      0.028532\n",
      "12245    0.027836\n",
      "8392     0.025052\n",
      "44138    0.024356\n",
      "34742    0.015310\n",
      "11506    0.012526\n",
      "42425    0.009047\n",
      "977      0.001392\n",
      "Name: recipient, dtype: float64}\n",
      "{'sender': 35, 'rc': 36       0.981967\n",
      "3048     0.011475\n",
      "14137    0.003279\n",
      "3413     0.001639\n",
      "3412     0.001639\n",
      "Name: recipient, dtype: float64}\n",
      "{'sender': 1236, 'rc': 1237     0.98989\n",
      "29094    0.00674\n",
      "22159    0.00337\n",
      "Name: recipient, dtype: float64}\n",
      "{'sender': 8880, 'rc': 8881     0.999153\n",
      "16535    0.000847\n",
      "Name: recipient, dtype: float64}\n",
      "{'sender': 1219, 'rc': 1218    1.0\n",
      "Name: recipient, dtype: float64}\n",
      "{'sender': 603, 'rc': 602      0.985507\n",
      "5891     0.007673\n",
      "616      0.005968\n",
      "26063    0.000853\n",
      "Name: recipient, dtype: float64}\n",
      "{'sender': 225, 'rc': 226      0.907623\n",
      "5811     0.081614\n",
      "17413    0.006278\n",
      "3325     0.001794\n",
      "3326     0.000897\n",
      "1061     0.000897\n",
      "2578     0.000897\n",
      "Name: recipient, dtype: float64}\n",
      "{'sender': 9, 'rc': 10       0.230072\n",
      "32627    0.168478\n",
      "34917    0.142210\n",
      "469      0.137681\n",
      "507      0.115036\n",
      "           ...   \n",
      "5560     0.002717\n",
      "42121    0.000906\n",
      "44303    0.000906\n",
      "32899    0.000906\n",
      "38206    0.000906\n",
      "Name: recipient, Length: 23, dtype: float64}\n",
      "{'sender': 36, 'rc': 35    1.0\n",
      "Name: recipient, dtype: float64}\n",
      "{'sender': 264, 'rc': 1189     0.223048\n",
      "263      0.193309\n",
      "39613    0.092007\n",
      "32162    0.063197\n",
      "1488     0.044610\n",
      "           ...   \n",
      "43776    0.000929\n",
      "37987    0.000929\n",
      "9655     0.000929\n",
      "5537     0.000929\n",
      "1948     0.000929\n",
      "Name: recipient, Length: 57, dtype: float64}\n",
      "{'sender': 80, 'rc': 79       0.859142\n",
      "9880     0.070896\n",
      "21401    0.067164\n",
      "80       0.001866\n",
      "163      0.000933\n",
      "Name: recipient, dtype: float64}\n",
      "{'sender': 1218, 'rc': 1219     0.991437\n",
      "20752    0.006660\n",
      "20750    0.001903\n",
      "Name: recipient, dtype: float64}\n",
      "{'sender': 138, 'rc': 137      0.969874\n",
      "40656    0.030126\n",
      "Name: recipient, dtype: float64}\n",
      "{'sender': 1090, 'rc': 1091     0.908113\n",
      "11385    0.086999\n",
      "15644    0.001955\n",
      "11259    0.000978\n",
      "34345    0.000978\n",
      "21820    0.000978\n",
      "Name: recipient, dtype: float64}\n",
      "{'sender': 172, 'rc': 171      0.829830\n",
      "22       0.126126\n",
      "36458    0.012012\n",
      "13595    0.010010\n",
      "3582     0.005005\n",
      "           ...   \n",
      "172      0.002002\n",
      "10520    0.001001\n",
      "116      0.001001\n",
      "90       0.001001\n",
      "13       0.001001\n",
      "Name: recipient, Length: 14, dtype: float64}\n",
      "{'sender': 354, 'rc': 353     0.984925\n",
      "5109    0.014070\n",
      "6784    0.001005\n",
      "Name: recipient, dtype: float64}\n",
      "{'sender': 1238, 'rc': 1239     0.972700\n",
      "1328     0.014156\n",
      "17354    0.008089\n",
      "1898     0.005056\n",
      "Name: recipient, dtype: float64}\n",
      "{'sender': 232, 'rc': 231      0.834016\n",
      "11866    0.032787\n",
      "11864    0.030738\n",
      "2289     0.020492\n",
      "7392     0.011270\n",
      "           ...   \n",
      "2229     0.001025\n",
      "8348     0.001025\n",
      "2123     0.001025\n",
      "31809    0.001025\n",
      "8168     0.001025\n",
      "Name: recipient, Length: 28, dtype: float64}\n",
      "{'sender': 79, 'rc': 80       0.994867\n",
      "21401    0.004107\n",
      "24378    0.001027\n",
      "Name: recipient, dtype: float64}\n",
      "{'sender': 1346, 'rc': 1347     0.818966\n",
      "9920     0.061422\n",
      "8845     0.052802\n",
      "5182     0.030172\n",
      "3116     0.010776\n",
      "           ...   \n",
      "31977    0.004310\n",
      "25684    0.003233\n",
      "2764     0.002155\n",
      "6280     0.001078\n",
      "3114     0.001078\n",
      "Name: recipient, Length: 12, dtype: float64}\n",
      "{'sender': 212, 'rc': 211      0.974128\n",
      "14804    0.016873\n",
      "27104    0.008999\n",
      "Name: recipient, dtype: float64}\n",
      "{'sender': 1250, 'rc': 1251     0.967120\n",
      "6259     0.020408\n",
      "28267    0.004535\n",
      "991      0.002268\n",
      "27045    0.002268\n",
      "12190    0.001134\n",
      "7037     0.001134\n",
      "1250     0.001134\n",
      "Name: recipient, dtype: float64}\n",
      "{'sender': 26736, 'rc': 27342    0.238543\n",
      "23298    0.226792\n",
      "40152    0.198590\n",
      "1920     0.176263\n",
      "28316    0.102233\n",
      "6113     0.029377\n",
      "15384    0.028202\n",
      "Name: recipient, dtype: float64}\n",
      "{'sender': 33773, 'rc': 33774    0.986905\n",
      "33776    0.013095\n",
      "Name: recipient, dtype: float64}\n",
      "{'sender': 226, 'rc': 225      0.837709\n",
      "2578     0.101432\n",
      "23530    0.014320\n",
      "4909     0.014320\n",
      "5811     0.013126\n",
      "           ...   \n",
      "1061     0.002387\n",
      "2005     0.001193\n",
      "2001     0.001193\n",
      "22038    0.001193\n",
      "226      0.001193\n",
      "Name: recipient, Length: 14, dtype: float64}\n",
      "{'sender': 5887, 'rc': 34905    0.050179\n",
      "37888    0.016726\n",
      "37895    0.013142\n",
      "37939    0.013142\n",
      "37731    0.011947\n",
      "           ...   \n",
      "38674    0.001195\n",
      "38615    0.001195\n",
      "38614    0.001195\n",
      "38613    0.001195\n",
      "21843    0.001195\n",
      "Name: recipient, Length: 193, dtype: float64}\n",
      "{'sender': 211, 'rc': 212      0.918660\n",
      "7896     0.062201\n",
      "5034     0.010766\n",
      "14804    0.002392\n",
      "27050    0.002392\n",
      "5135     0.002392\n",
      "9407     0.001196\n",
      "Name: recipient, dtype: float64}\n",
      "{'sender': 171, 'rc': 172     0.888756\n",
      "22      0.051435\n",
      "4427    0.037081\n",
      "19      0.015550\n",
      "1797    0.002392\n",
      "178     0.001196\n",
      "4178    0.001196\n",
      "4140    0.001196\n",
      "13      0.001196\n",
      "Name: recipient, dtype: float64}\n",
      "{'sender': 8342, 'rc': 8343     0.984108\n",
      "13939    0.007335\n",
      "15118    0.003667\n",
      "5327     0.002445\n",
      "8707     0.001222\n",
      "42335    0.001222\n",
      "Name: recipient, dtype: float64}\n",
      "{'sender': 85, 'rc': 235      0.373116\n",
      "84       0.360553\n",
      "1694     0.110553\n",
      "2195     0.106784\n",
      "2000     0.023869\n",
      "7221     0.023869\n",
      "42550    0.001256\n",
      "Name: recipient, dtype: float64}\n",
      "{'sender': 101, 'rc': 102     0.992347\n",
      "7788    0.006378\n",
      "8715    0.001276\n",
      "Name: recipient, dtype: float64}\n",
      "{'sender': 3735, 'rc': 3736     0.987130\n",
      "22494    0.011583\n",
      "3735     0.001287\n",
      "Name: recipient, dtype: float64}\n",
      "{'sender': 231, 'rc': 232      0.967405\n",
      "4479     0.029987\n",
      "33413    0.001304\n",
      "11864    0.001304\n",
      "Name: recipient, dtype: float64}\n",
      "{'sender': 1041, 'rc': 1042    0.993430\n",
      "9771    0.003942\n",
      "1041    0.002628\n",
      "Name: recipient, dtype: float64}\n",
      "{'sender': 3736, 'rc': 3735     0.976253\n",
      "40561    0.022427\n",
      "25333    0.001319\n",
      "Name: recipient, dtype: float64}\n",
      "{'sender': 1966, 'rc': 1967     0.981481\n",
      "14505    0.017196\n",
      "16178    0.001323\n",
      "Name: recipient, dtype: float64}\n",
      "{'sender': 1283, 'rc': 1284     0.893191\n",
      "3029     0.090788\n",
      "22662    0.008011\n",
      "13193    0.005340\n",
      "9748     0.002670\n",
      "Name: recipient, dtype: float64}\n",
      "{'sender': 137, 'rc': 138      0.998654\n",
      "26925    0.001346\n",
      "Name: recipient, dtype: float64}\n",
      "{'sender': 512, 'rc': 3        0.427793\n",
      "2788     0.265668\n",
      "9212     0.113079\n",
      "3336     0.059946\n",
      "12078    0.042234\n",
      "           ...   \n",
      "41034    0.005450\n",
      "2008     0.004087\n",
      "7594     0.002725\n",
      "11495    0.002725\n",
      "217      0.002725\n",
      "Name: recipient, Length: 13, dtype: float64}\n",
      "{'sender': 102, 'rc': 101    0.997249\n",
      "102    0.002751\n",
      "Name: recipient, dtype: float64}\n",
      "{'sender': 86, 'rc': 24827    0.545839\n",
      "87       0.320169\n",
      "26043    0.112835\n",
      "15216    0.007052\n",
      "29468    0.005642\n",
      "13964    0.005642\n",
      "44020    0.001410\n",
      "24062    0.001410\n",
      "Name: recipient, dtype: float64}\n",
      "{'sender': 209, 'rc': 210    1.0\n",
      "Name: recipient, dtype: float64}\n",
      "{'sender': 1668, 'rc': 1669     0.864106\n",
      "7977     0.033973\n",
      "513      0.032496\n",
      "3279     0.020679\n",
      "24327    0.013294\n",
      "8878     0.013294\n",
      "13566    0.008863\n",
      "37075    0.007386\n",
      "26722    0.005908\n",
      "Name: recipient, dtype: float64}\n",
      "{'sender': 368, 'rc': 369      0.949765\n",
      "2717     0.026688\n",
      "17369    0.012559\n",
      "1578     0.004710\n",
      "44015    0.001570\n",
      "43918    0.001570\n",
      "9762     0.001570\n",
      "11745    0.001570\n",
      "Name: recipient, dtype: float64}\n",
      "{'sender': 981, 'rc': 982    1.0\n",
      "Name: recipient, dtype: float64}\n"
     ]
    },
    {
     "name": "stdout",
     "output_type": "stream",
     "text": [
      "{'sender': 514, 'rc': 515      0.990148\n",
      "27846    0.006568\n",
      "12185    0.001642\n",
      "32568    0.001642\n",
      "Name: recipient, dtype: float64}\n",
      "{'sender': 92, 'rc': 122      0.189189\n",
      "2256     0.070946\n",
      "3357     0.067568\n",
      "2987     0.055743\n",
      "10598    0.035473\n",
      "           ...   \n",
      "35301    0.001689\n",
      "35300    0.001689\n",
      "34265    0.001689\n",
      "34264    0.001689\n",
      "34816    0.001689\n",
      "Name: recipient, Length: 194, dtype: float64}\n",
      "{'sender': 1000, 'rc': 1001     0.998305\n",
      "33925    0.001695\n",
      "Name: recipient, dtype: float64}\n",
      "{'sender': 1438, 'rc': 1439     0.066102\n",
      "2359     0.050847\n",
      "4574     0.047458\n",
      "5396     0.038983\n",
      "1572     0.035593\n",
      "           ...   \n",
      "32338    0.001695\n",
      "11501    0.001695\n",
      "19307    0.001695\n",
      "28895    0.001695\n",
      "11613    0.001695\n",
      "Name: recipient, Length: 145, dtype: float64}\n",
      "{'sender': 125, 'rc': 126     0.897785\n",
      "2650    0.100511\n",
      "4546    0.001704\n",
      "Name: recipient, dtype: float64}\n",
      "{'sender': 178, 'rc': 177      0.762393\n",
      "944      0.105983\n",
      "7947     0.037607\n",
      "379      0.035897\n",
      "14       0.018803\n",
      "33076    0.013675\n",
      "19       0.011966\n",
      "13       0.010256\n",
      "4058     0.001709\n",
      "943      0.001709\n",
      "Name: recipient, dtype: float64}\n",
      "{'sender': 3038, 'rc': 3039     0.994863\n",
      "43487    0.003425\n",
      "24955    0.001712\n",
      "Name: recipient, dtype: float64}\n",
      "{'sender': 145, 'rc': 146      0.998285\n",
      "11271    0.001715\n",
      "Name: recipient, dtype: float64}\n",
      "{'sender': 840, 'rc': 839      0.588235\n",
      "6463     0.050173\n",
      "8197     0.044983\n",
      "24194    0.029412\n",
      "3501     0.029412\n",
      "           ...   \n",
      "35358    0.001730\n",
      "21999    0.001730\n",
      "25992    0.001730\n",
      "7527     0.001730\n",
      "40929    0.001730\n",
      "Name: recipient, Length: 51, dtype: float64}\n",
      "{'sender': 14729, 'rc': 14728    1.0\n",
      "Name: recipient, dtype: float64}\n",
      "{'sender': 177, 'rc': 178      0.765018\n",
      "1797     0.183746\n",
      "13       0.019435\n",
      "4427     0.012367\n",
      "14       0.007067\n",
      "           ...   \n",
      "10012    0.001767\n",
      "3581     0.001767\n",
      "1339     0.001767\n",
      "10520    0.001767\n",
      "2213     0.001767\n",
      "Name: recipient, Length: 11, dtype: float64}\n",
      "{'sender': 4383, 'rc': 4405    0.156863\n",
      "4384    0.155080\n",
      "4392    0.153298\n",
      "4391    0.153298\n",
      "4389    0.153298\n",
      "4395    0.149733\n",
      "4399    0.078431\n",
      "Name: recipient, dtype: float64}\n",
      "{'sender': 1324, 'rc': 1323     0.893885\n",
      "2506     0.017986\n",
      "5109     0.010791\n",
      "5105     0.010791\n",
      "34111    0.008993\n",
      "           ...   \n",
      "3597     0.003597\n",
      "18991    0.001799\n",
      "2812     0.001799\n",
      "8496     0.001799\n",
      "5102     0.001799\n",
      "Name: recipient, Length: 20, dtype: float64}\n",
      "{'sender': 1013, 'rc': 1012    1.0\n",
      "Name: recipient, dtype: float64}\n",
      "{'sender': 210, 'rc': 209    1.0\n",
      "Name: recipient, dtype: float64}\n",
      "{'sender': 2600, 'rc': 8545     0.912409\n",
      "24496    0.083942\n",
      "2601     0.003650\n",
      "Name: recipient, dtype: float64}\n",
      "{'sender': 21126, 'rc': 21127    0.998172\n",
      "26586    0.001828\n",
      "Name: recipient, dtype: float64}\n",
      "{'sender': 1074, 'rc': 18712    0.535912\n",
      "1075     0.454880\n",
      "22158    0.005525\n",
      "33262    0.001842\n",
      "34956    0.001842\n",
      "Name: recipient, dtype: float64}\n",
      "{'sender': 3, 'rc': 512      0.721707\n",
      "2788     0.059369\n",
      "8903     0.053803\n",
      "330      0.029685\n",
      "4        0.029685\n",
      "           ...   \n",
      "217      0.011132\n",
      "329      0.009276\n",
      "24046    0.007421\n",
      "3        0.005566\n",
      "2895     0.001855\n",
      "Name: recipient, Length: 13, dtype: float64}\n",
      "{'sender': 3494, 'rc': 3495    1.0\n",
      "Name: recipient, dtype: float64}\n",
      "{'sender': 960, 'rc': 3315     0.538175\n",
      "961      0.150838\n",
      "3878     0.054004\n",
      "5418     0.044693\n",
      "1189     0.033520\n",
      "           ...   \n",
      "16238    0.001862\n",
      "8083     0.001862\n",
      "956      0.001862\n",
      "1995     0.001862\n",
      "6161     0.001862\n",
      "Name: recipient, Length: 26, dtype: float64}\n",
      "{'sender': 27342, 'rc': 26736    0.455056\n",
      "20029    0.241573\n",
      "1920     0.106742\n",
      "31778    0.089888\n",
      "38732    0.061798\n",
      "38908    0.043071\n",
      "1919     0.001873\n",
      "Name: recipient, dtype: float64}\n",
      "{'sender': 1012, 'rc': 1013     0.988722\n",
      "21648    0.005639\n",
      "3876     0.003759\n",
      "30095    0.001880\n",
      "Name: recipient, dtype: float64}\n",
      "{'sender': 1669, 'rc': 1668    0.945180\n",
      "8878    0.030246\n",
      "513     0.018904\n",
      "7977    0.005671\n",
      "Name: recipient, dtype: float64}\n",
      "{'sender': 1323, 'rc': 1324     0.910646\n",
      "22145    0.028517\n",
      "2510     0.009506\n",
      "840      0.005703\n",
      "3197     0.005703\n",
      "           ...   \n",
      "13154    0.001901\n",
      "26217    0.001901\n",
      "6857     0.001901\n",
      "12047    0.001901\n",
      "6234     0.001901\n",
      "Name: recipient, Length: 21, dtype: float64}\n",
      "{'sender': 5418, 'rc': 7608     0.479008\n",
      "960      0.070611\n",
      "3878     0.047710\n",
      "1189     0.047710\n",
      "42348    0.036260\n",
      "           ...   \n",
      "6222     0.001908\n",
      "5177     0.001908\n",
      "13745    0.001908\n",
      "15228    0.001908\n",
      "5414     0.001908\n",
      "Name: recipient, Length: 40, dtype: float64}\n",
      "{'sender': 2200, 'rc': 2201     0.859615\n",
      "2240     0.025000\n",
      "5540     0.019231\n",
      "11593    0.019231\n",
      "1212     0.019231\n",
      "           ...   \n",
      "4540     0.003846\n",
      "264      0.003846\n",
      "5967     0.001923\n",
      "3886     0.001923\n",
      "7572     0.001923\n",
      "Name: recipient, Length: 15, dtype: float64}\n",
      "{'sender': 12841, 'rc': 12840    1.0\n",
      "Name: recipient, dtype: float64}\n",
      "{'sender': 1528, 'rc': 1527    0.645669\n",
      "2964    0.301181\n",
      "8872    0.051181\n",
      "1528    0.001969\n",
      "Name: recipient, dtype: float64}\n",
      "{'sender': 5413, 'rc': 23298    0.554241\n",
      "20029    0.185404\n",
      "5408     0.057199\n",
      "1920     0.047337\n",
      "6113     0.037475\n",
      "           ...   \n",
      "21843    0.023669\n",
      "21842    0.021696\n",
      "24388    0.017751\n",
      "1919     0.001972\n",
      "5887     0.001972\n",
      "Name: recipient, Length: 12, dtype: float64}\n",
      "{'sender': 8545, 'rc': 2600     0.958498\n",
      "16062    0.023715\n",
      "6002     0.011858\n",
      "20951    0.003953\n",
      "8545     0.001976\n",
      "Name: recipient, dtype: float64}\n"
     ]
    }
   ],
   "source": [
    "# 展示所有发信人联系最密切的对象\n",
    "for i in indx_3:\n",
    "    temp=send_dt(i)\n",
    "    print(temp)"
   ]
  },
  {
   "cell_type": "markdown",
   "metadata": {},
   "source": [
    "---"
   ]
  },
  {
   "cell_type": "markdown",
   "metadata": {},
   "source": [
    "### 计算coinrate得出的社交网络图"
   ]
  },
  {
   "cell_type": "markdown",
   "metadata": {},
   "source": [
    "#### 设置节点和边"
   ]
  },
  {
   "cell_type": "markdown",
   "metadata": {},
   "source": [
    "用箭头表示联系的流向，例如：a--->b，意味着a的信息大多发给了b"
   ]
  },
  {
   "cell_type": "code",
   "execution_count": 12,
   "metadata": {},
   "outputs": [],
   "source": [
    "# 挑选coinrate的最大值\n",
    "max_col_idx=np.argmax(np.array(neta),axis=0)\n",
    "\n",
    "# 对最大值连边\n",
    "max_list_edges=[]\n",
    "for i in range(len(indx_3)):\n",
    "    max_list_edges.append((indx_3[i],indx_3[max_col_idx[i]]))\n"
   ]
  },
  {
   "cell_type": "code",
   "execution_count": 20,
   "metadata": {},
   "outputs": [
    {
     "name": "stdout",
     "output_type": "stream",
     "text": [
      "(array([ 0,  1,  3,  4,  6,  8, 11, 14, 15, 18, 20, 21, 22, 24, 25, 27, 28,\n",
      "       30, 33, 34, 36, 37, 40, 41, 41, 42, 44, 44, 47, 49, 51, 52, 60, 65,\n",
      "       67, 68, 69, 70, 70, 73, 74, 76, 76, 77, 78, 79, 82, 85, 85],\n",
      "      dtype=int64), array([ 1,  0,  4,  3, 15, 25, 18, 21,  6, 11, 28, 14, 47, 37,  8, 42, 20,\n",
      "       36,  0, 16, 30, 24, 49,  0, 44, 27,  0, 41, 22, 40, 69, 78, 65, 60,\n",
      "       79, 77, 51,  0, 85, 48,  0,  0,  1, 68, 52, 67,  0,  0, 70],\n",
      "      dtype=int64))\n",
      "[(136, 135), (135, 136), (63, 5887), (1121, 1120), (1120, 1121), (812, 5887), (602, 603), (6113, 5887), (353, 354), (34895, 4383), (977, 27342), (35, 36), (1236, 6113), (8880, 3735), (1219, 1218), (603, 602), (225, 226), (9, 8880), (36, 35), (264, 5887), (80, 79), (1218, 1219), (138, 137), (1090, 27342), (172, 171), (354, 353), (1238, 3494), (232, 231), (79, 80), (1346, 92), (212, 211), (1250, 3494), (26736, 27342), (33773, 5887), (226, 225), (5887, 6113), (211, 212), (171, 172), (8342, 3494), (85, 5418), (101, 102), (3735, 3736), (231, 232), (1041, 3735), (3736, 3735), (1966, 3494), (1283, 5413), (137, 138), (512, 3), (102, 101), (86, 3494), (209, 210), (1668, 1669), (368, 5413), (981, 3494), (514, 5413), (92, 514), (1000, 6113), (1438, 6113), (125, 8880), (178, 177), (3038, 3494), (145, 514), (840, 137), (14729, 6113), (177, 178), (4383, 34895), (1324, 1323), (1013, 1012), (210, 209), (2600, 8545), (21126, 5887), (1074, 26736), (3, 512), (3494, 3038), (960, 5418), (27342, 26736), (1012, 1013), (1669, 1668), (1323, 1324), (5418, 33773), (2200, 2600), (12841, 26736), (1528, 92), (5413, 1283), (8545, 2600)]\n"
     ]
    }
   ],
   "source": [
    "print(data_5)\n",
    "print(max_list_edges)"
   ]
  },
  {
   "cell_type": "markdown",
   "metadata": {},
   "source": [
    "---"
   ]
  },
  {
   "cell_type": "code",
   "execution_count": 62,
   "metadata": {
    "collapsed": true
   },
   "outputs": [
    {
     "name": "stdout",
     "output_type": "stream",
     "text": [
      "0 1 \tindex:\t 136 135\n",
      "1 0 \tindex:\t 135 136\n",
      "3 4 \tindex:\t 1121 1120\n",
      "4 3 \tindex:\t 1120 1121\n",
      "6 15 \tindex:\t 602 603\n",
      "8 25 \tindex:\t 353 354\n",
      "11 18 \tindex:\t 35 36\n",
      "14 21 \tindex:\t 1219 1218\n",
      "15 6 \tindex:\t 603 602\n",
      "18 11 \tindex:\t 36 35\n",
      "20 28 \tindex:\t 80 79\n",
      "21 14 \tindex:\t 1218 1219\n",
      "22 47 \tindex:\t 138 137\n",
      "24 37 \tindex:\t 172 171\n",
      "25 8 \tindex:\t 354 353\n",
      "27 42 \tindex:\t 232 231\n",
      "28 20 \tindex:\t 79 80\n",
      "30 36 \tindex:\t 212 211\n",
      "33 0 \tindex:\t 33773 136\n",
      "34 16 \tindex:\t 226 225\n",
      "36 30 \tindex:\t 211 212\n",
      "37 24 \tindex:\t 171 172\n",
      "40 49 \tindex:\t 101 102\n",
      "41 0 \tindex:\t 3735 136\n",
      "41 44 \tindex:\t 3735 3736\n",
      "42 27 \tindex:\t 231 232\n",
      "44 0 \tindex:\t 3736 136\n",
      "44 41 \tindex:\t 3736 3735\n",
      "47 22 \tindex:\t 137 138\n",
      "49 40 \tindex:\t 102 101\n",
      "51 69 \tindex:\t 209 210\n",
      "52 78 \tindex:\t 1668 1669\n",
      "60 65 \tindex:\t 178 177\n",
      "65 60 \tindex:\t 177 178\n",
      "67 79 \tindex:\t 1324 1323\n",
      "68 77 \tindex:\t 1013 1012\n",
      "69 51 \tindex:\t 210 209\n",
      "70 0 \tindex:\t 2600 136\n",
      "70 85 \tindex:\t 2600 8545\n",
      "73 48 \tindex:\t 3 512\n",
      "74 0 \tindex:\t 3494 136\n",
      "76 0 \tindex:\t 27342 136\n",
      "76 1 \tindex:\t 27342 135\n",
      "77 68 \tindex:\t 1012 1013\n",
      "78 52 \tindex:\t 1669 1668\n",
      "79 67 \tindex:\t 1323 1324\n",
      "82 0 \tindex:\t 12841 136\n",
      "85 0 \tindex:\t 8545 136\n",
      "85 70 \tindex:\t 8545 2600\n",
      "[(136, 135), (135, 136), (1121, 1120), (1120, 1121), (602, 603), (353, 354), (35, 36), (1219, 1218), (603, 602), (36, 35), (80, 79), (1218, 1219), (138, 137), (172, 171), (354, 353), (232, 231), (79, 80), (212, 211), (33773, 136), (226, 225), (211, 212), (171, 172), (101, 102), (3735, 136), (3735, 3736), (231, 232), (3736, 136), (3736, 3735), (137, 138), (102, 101), (209, 210), (1668, 1669), (178, 177), (177, 178), (1324, 1323), (1013, 1012), (210, 209), (2600, 136), (2600, 8545), (3, 512), (3494, 136), (27342, 136), (27342, 135), (1012, 1013), (1669, 1668), (1323, 1324), (12841, 136), (8545, 136), (8545, 2600)]\n"
     ]
    }
   ],
   "source": [
    "# 挑选大于指定数值的数的位置，第一个数是行，第二个数是列\n",
    "data_5=np.where(neta>0.5)\n",
    "\n",
    "# 对指定的数设置连边\n",
    "da5_edge=[]\n",
    "for i in range(len(data_5[0])):\n",
    "    x1=data_5[0][i]\n",
    "    x2=data_5[1][i]\n",
    "    da5_edge.append((indx_3[x1],indx_3[x2]))\n",
    "    print(x1,x2,'\\tindex:\\t',indx_3[x1],indx_3[x2])\n",
    "print(da5_edge)"
   ]
  },
  {
   "cell_type": "code",
   "execution_count": 90,
   "metadata": {
    "collapsed": true
   },
   "outputs": [
    {
     "name": "stdout",
     "output_type": "stream",
     "text": [
      "3 4 \tindex:\t 1121 1120\n",
      "4 3 \tindex:\t 1120 1121\n",
      "6 15 \tindex:\t 602 603\n",
      "8 25 \tindex:\t 353 354\n",
      "11 18 \tindex:\t 35 36\n",
      "14 21 \tindex:\t 1219 1218\n",
      "15 6 \tindex:\t 603 602\n",
      "18 11 \tindex:\t 36 35\n",
      "20 28 \tindex:\t 80 79\n",
      "21 14 \tindex:\t 1218 1219\n",
      "22 47 \tindex:\t 138 137\n",
      "24 37 \tindex:\t 172 171\n",
      "25 8 \tindex:\t 354 353\n",
      "27 42 \tindex:\t 232 231\n",
      "28 20 \tindex:\t 79 80\n",
      "30 36 \tindex:\t 212 211\n",
      "34 16 \tindex:\t 226 225\n",
      "36 30 \tindex:\t 211 212\n",
      "37 24 \tindex:\t 171 172\n",
      "40 49 \tindex:\t 101 102\n",
      "41 44 \tindex:\t 3735 3736\n",
      "42 27 \tindex:\t 231 232\n",
      "44 41 \tindex:\t 3736 3735\n",
      "47 22 \tindex:\t 137 138\n",
      "49 40 \tindex:\t 102 101\n",
      "51 69 \tindex:\t 209 210\n",
      "52 78 \tindex:\t 1668 1669\n",
      "60 65 \tindex:\t 178 177\n",
      "65 60 \tindex:\t 177 178\n",
      "67 79 \tindex:\t 1324 1323\n",
      "68 77 \tindex:\t 1013 1012\n",
      "69 51 \tindex:\t 210 209\n",
      "70 85 \tindex:\t 2600 8545\n",
      "73 48 \tindex:\t 3 512\n",
      "77 68 \tindex:\t 1012 1013\n",
      "78 52 \tindex:\t 1669 1668\n",
      "79 67 \tindex:\t 1323 1324\n",
      "85 70 \tindex:\t 8545 2600\n",
      "[(1121, 1120), (1120, 1121), (602, 603), (353, 354), (35, 36), (1219, 1218), (603, 602), (36, 35), (80, 79), (1218, 1219), (138, 137), (172, 171), (354, 353), (232, 231), (79, 80), (212, 211), (226, 225), (211, 212), (171, 172), (101, 102), (3735, 3736), (231, 232), (3736, 3735), (137, 138), (102, 101), (209, 210), (1668, 1669), (178, 177), (177, 178), (1324, 1323), (1013, 1012), (210, 209), (2600, 8545), (3, 512), (1012, 1013), (1669, 1668), (1323, 1324), (8545, 2600)]\n"
     ]
    }
   ],
   "source": [
    "# 挑选大于指定数值的数的位置，第一个数是行，第二个数是列\n",
    "data_5=np.where(neta>0.5)\n",
    "\n",
    "# 对指定的数设置连边\n",
    "da5_edge_re=[]\n",
    "for i in range(len(data_5[0])):\n",
    "    x1=data_5[0][i]\n",
    "    x2=data_5[1][i]\n",
    "    if x2==0 or x2==1 : continue\n",
    "    da5_edge_re.append((indx_3[x1],indx_3[x2]))\n",
    "    print(x1,x2,'\\tindex:\\t',indx_3[x1],indx_3[x2])\n",
    "print(da5_edge_re)\n",
    "\n",
    "# 设置135和136仅有一条连边\n",
    "da5_edge_re.append((135,136))\n",
    "da5_edge_re.append((136,135))"
   ]
  },
  {
   "cell_type": "markdown",
   "metadata": {},
   "source": [
    "---"
   ]
  },
  {
   "cell_type": "markdown",
   "metadata": {},
   "source": [
    "#### 画出有向网络图"
   ]
  },
  {
   "cell_type": "code",
   "execution_count": null,
   "metadata": {
    "scrolled": true
   },
   "outputs": [],
   "source": [
    "# 创建有向网络图，并添加节点和连边\n",
    "\n",
    "sd_g=nx.DiGraph()\n",
    "sd_g.add_nodes_from(indx_3)\n",
    "sd_g.add_edges_from(da5_edge)\n",
    "# sd_g.add_edges_from(max_list_edges)"
   ]
  },
  {
   "cell_type": "code",
   "execution_count": null,
   "metadata": {
    "scrolled": true
   },
   "outputs": [],
   "source": [
    "# 这个是来自SD01的数据，挑选出了发送信息数大于一定值的用户,绘制出了网络图\n",
    "\n",
    "# 支持中文\n",
    "plt.rcParams['font.sans-serif'] = ['SimHei']  # 用来正常显示中文标签\n",
    "plt.rcParams['axes.unicode_minus'] = False  # 用来正常显示负号\n",
    "# 有中文出现，需要用u'内容'\n",
    "\n",
    "plt.figure(figsize=(20,20))\n",
    "# text=u'节点是发送信息数大于500的用户,\\n用户数是%d,coinrate>0.5就连边'%(len(indx_3))\n",
    "text=u'节点是发送信息数大于500的用户,\\n用户数是%d,coinrate>0.5,且去除了多连边'%(len(indx_3))\n",
    "\n",
    "nx.draw(sd_g,\n",
    "        with_labels=True,\n",
    "        node_color='SpringGreen',\n",
    "        edge_color='royalblue',\n",
    "        node_size=500,\n",
    "        width=1.5,\n",
    "        arrowstyle='->',\n",
    "        pos=nx.circular_layout(sd_g),        \n",
    "#         pos=nx.kamada_kawai_layout(sd_g),\n",
    "        )\n",
    "# plt.title('network')\n",
    "plt.text(0,0,text,fontdict={'color':'orangered','size':20})\n",
    "# plt.savefig('.\\\\data\\\\network_SD01_u500_c_by_circular_.5.png')\n",
    "# plt.savefig('.\\\\data\\\\network_SD01_u500_c_by_circular_re.png')\n",
    "plt.show()"
   ]
  },
  {
   "cell_type": "markdown",
   "metadata": {},
   "source": [
    "---"
   ]
  },
  {
   "cell_type": "markdown",
   "metadata": {},
   "source": [
    "### 通过数据得出的社交网络图"
   ]
  },
  {
   "cell_type": "code",
   "execution_count": 22,
   "metadata": {},
   "outputs": [],
   "source": [
    "# 设置节点的连边，对数据的发信和收信人直接统计，若收信人也在节点中则添加该边\n",
    "\n",
    "edge_lists=[]\n",
    "for sd in indx_3:\n",
    "    senre=send_dt(sd)['rc']\n",
    "    filt_d=senre[senre>0.5]\n",
    "    for i in range(len(filt_d)):\n",
    "        obj=filt_d.index[i]\n",
    "        if obj in indx_3:\n",
    "            edge_lists.append((sd,obj))\n",
    "#         print(filt_d.index[i],filt_d.iloc[i])\n",
    "#         print('next:\\n')"
   ]
  },
  {
   "cell_type": "code",
   "execution_count": null,
   "metadata": {
    "scrolled": true
   },
   "outputs": [],
   "source": [
    "# 创建有向网络图，并添加节点和连边\n",
    "\n",
    "sd_og=nx.DiGraph()\n",
    "sd_og.add_nodes_from(indx_3)\n",
    "sd_og.add_edges_from(edge_lists)"
   ]
  },
  {
   "cell_type": "code",
   "execution_count": null,
   "metadata": {},
   "outputs": [],
   "source": [
    "# 这个是来自SD01的数据，挑选出了发送信息数大于一定值的用户,绘制出了网络图\n",
    "\n",
    "# 支持中文\n",
    "plt.rcParams['font.sans-serif'] = ['SimHei']  # 用来正常显示中文标签\n",
    "plt.rcParams['axes.unicode_minus'] = False  # 用来正常显示负号\n",
    "# 有中文出现，需要用u'内容'\n",
    "\n",
    "plt.figure(figsize=(20,20))\n",
    "text=u'节点是发送信息数大于500的用户,\\n用户数是{},接受了对方50%以上的信息的连边'.format(len(indx_3))\n",
    "\n",
    "nx.draw(sd_og,\n",
    "        with_labels=True,\n",
    "        node_color='SpringGreen',\n",
    "        edge_color='royalblue',\n",
    "        node_size=500,\n",
    "        width=1.5,\n",
    "        arrowstyle='->',\n",
    "        pos=nx.circular_layout(sd_og),        \n",
    "#         pos=nx.kamada_kawai_layout(sd_og),\n",
    "        )\n",
    "# plt.title('network')\n",
    "plt.text(0,0,text,fontdict={'color':'orangered','size':20})\n",
    "# plt.savefig('.\\\\data\\\\network_SD01_u500_data_by_circular.png')\n",
    "plt.show()"
   ]
  },
  {
   "cell_type": "markdown",
   "metadata": {},
   "source": [
    "---"
   ]
  },
  {
   "cell_type": "markdown",
   "metadata": {},
   "source": [
    "### 绘制网络的函数"
   ]
  },
  {
   "cell_type": "code",
   "execution_count": null,
   "metadata": {
    "scrolled": true
   },
   "outputs": [],
   "source": [
    "# u'节点是发送信息数大于500的用户,\\n用户数是{},接受了对方50%以上的信息的连边'.format(len(indx_3))\n",
    "# path='.\\\\data\\\\'+?\n",
    "\n",
    "def pic_network(pot_no,edge_lists,txt_p=u'节点网络图',path_pic=None):\n",
    "    '''绘制网络图；\n",
    "    输入参数为：节点、连边；可选文字、保存路径\n",
    "    '''\n",
    "    # 创建有向网络图，并添加节点和连边\n",
    "\n",
    "    sd_og=nx.DiGraph()\n",
    "    sd_og.add_nodes_from(pot_no)\n",
    "    sd_og.add_edges_from(edge_lists)\n",
    "\n",
    "    # 支持中文\n",
    "    plt.rcParams['font.sans-serif'] = ['SimHei']  # 用来正常显示中文标签\n",
    "    plt.rcParams['axes.unicode_minus'] = False  # 用来正常显示负号\n",
    "    # 有中文出现，需要用u'内容'\n",
    "\n",
    "    plt.figure(figsize=(20,20))\n",
    "\n",
    "    nx.draw(sd_og,\n",
    "            with_labels=True,\n",
    "            node_color='SpringGreen',\n",
    "            edge_color='royalblue',\n",
    "            node_size=500,\n",
    "            width=1.5,\n",
    "            arrowstyle='->',\n",
    "            pos=nx.circular_layout(sd_og),        \n",
    "    #         pos=nx.kamada_kawai_layout(sd_og),\n",
    "            )\n",
    "    # plt.title('network')\n",
    "    plt.text(0,0,txt_p,fontdict={'color':'orangered','size':20})\n",
    "    if not path_pic==None:\n",
    "        plt.savefig(path_pic)\n",
    "    plt.show()"
   ]
  },
  {
   "cell_type": "markdown",
   "metadata": {},
   "source": [
    "---"
   ]
  },
  {
   "cell_type": "markdown",
   "metadata": {},
   "source": [
    "### 绘图"
   ]
  },
  {
   "cell_type": "code",
   "execution_count": 25,
   "metadata": {
    "collapsed": true
   },
   "outputs": [
    {
     "name": "stdout",
     "output_type": "stream",
     "text": [
      "(136, 135)\n",
      "next:\n",
      "\n",
      "(135, 136)\n",
      "next:\n",
      "\n",
      "(1121, 1120)\n",
      "next:\n",
      "\n",
      "(1120, 1121)\n",
      "next:\n",
      "\n",
      "(602, 603)\n",
      "next:\n",
      "\n",
      "(353, 354)\n",
      "next:\n",
      "\n",
      "(35, 36)\n",
      "next:\n",
      "\n",
      "(1219, 1218)\n",
      "next:\n",
      "\n",
      "(603, 602)\n",
      "next:\n",
      "\n",
      "(225, 226)\n",
      "next:\n",
      "\n",
      "(36, 35)\n",
      "next:\n",
      "\n",
      "(80, 79)\n",
      "next:\n",
      "\n",
      "(1218, 1219)\n",
      "next:\n",
      "\n",
      "(138, 137)\n",
      "next:\n",
      "\n",
      "(172, 171)\n",
      "next:\n",
      "\n",
      "(354, 353)\n",
      "next:\n",
      "\n",
      "(232, 231)\n",
      "next:\n",
      "\n",
      "(79, 80)\n",
      "next:\n",
      "\n",
      "(212, 211)\n",
      "next:\n",
      "\n",
      "(26736, 27342)\n",
      "next:\n",
      "\n",
      "(226, 225)\n",
      "next:\n",
      "\n",
      "(211, 212)\n",
      "next:\n",
      "\n",
      "(171, 172)\n",
      "next:\n",
      "\n",
      "(101, 102)\n",
      "next:\n",
      "\n",
      "(3735, 3736)\n",
      "next:\n",
      "\n",
      "(231, 232)\n",
      "next:\n",
      "\n",
      "(3736, 3735)\n",
      "next:\n",
      "\n",
      "(137, 138)\n",
      "next:\n",
      "\n",
      "(512, 3)\n",
      "next:\n",
      "\n",
      "(102, 101)\n",
      "next:\n",
      "\n",
      "(209, 210)\n",
      "next:\n",
      "\n",
      "(1668, 1669)\n",
      "next:\n",
      "\n",
      "(178, 177)\n",
      "next:\n",
      "\n",
      "(177, 178)\n",
      "next:\n",
      "\n",
      "(1324, 1323)\n",
      "next:\n",
      "\n",
      "(1013, 1012)\n",
      "next:\n",
      "\n",
      "(210, 209)\n",
      "next:\n",
      "\n",
      "(2600, 8545)\n",
      "next:\n",
      "\n",
      "(3, 512)\n",
      "next:\n",
      "\n",
      "(27342, 26736)\n",
      "next:\n",
      "\n",
      "(1012, 1013)\n",
      "next:\n",
      "\n",
      "(1669, 1668)\n",
      "next:\n",
      "\n",
      "(1323, 1324)\n",
      "next:\n",
      "\n",
      "(8545, 2600)\n",
      "next:\n",
      "\n"
     ]
    }
   ],
   "source": [
    "# 设置节点的连边，对数据的发信和收信人直接统计，若收信人也在节点中则添加该边\n",
    "# 挑选了收信人中最大比例的对象\n",
    "\n",
    "max_edge_lists=[]\n",
    "for sd in indx_3:\n",
    "    senre=send_dt(sd)['rc']\n",
    "#     filt_d=senre[senre>0.5]\n",
    "    obj=senre.index[0]\n",
    "    if obj in indx_3:\n",
    "        max_edge_lists.append((sd,obj))\n",
    "        print((sd,obj))\n",
    "        print('next:\\n')"
   ]
  },
  {
   "cell_type": "code",
   "execution_count": null,
   "metadata": {},
   "outputs": [],
   "source": [
    "txt=u'节点是发送信息数大于500的用户,\\n用户数是{},接受了最多的信息的对象连边'.format(len(indx_3))\n",
    "path='.\\\\data\\\\network_SD01_u500_data_by_circular_max.png'\n",
    "pic_network(indx_3,edge_lists,txt_p=txt,path_pic=path)"
   ]
  },
  {
   "cell_type": "markdown",
   "metadata": {},
   "source": [
    "---"
   ]
  },
  {
   "cell_type": "markdown",
   "metadata": {},
   "source": [
    "### 网络的相似度"
   ]
  },
  {
   "cell_type": "code",
   "execution_count": 78,
   "metadata": {},
   "outputs": [],
   "source": [
    "def similar_edge(e1,e2):\n",
    "    '''计算两个连边集合的相似对度，输入两个连边的列表，输出(a&b)/(a|b)\n",
    "    '''\n",
    "    a1=set(e1)\n",
    "    b1=set(e2)\n",
    "    return len(a1 & b1)/len(a1 | b1)"
   ]
  },
  {
   "cell_type": "code",
   "execution_count": 63,
   "metadata": {
    "collapsed": true
   },
   "outputs": [
    {
     "name": "stdout",
     "output_type": "stream",
     "text": [
      "49 \n",
      " [(136, 135), (135, 136), (1121, 1120), (1120, 1121), (602, 603), (353, 354), (35, 36), (1219, 1218), (603, 602), (36, 35), (80, 79), (1218, 1219), (138, 137), (172, 171), (354, 353), (232, 231), (79, 80), (212, 211), (33773, 136), (226, 225), (211, 212), (171, 172), (101, 102), (3735, 136), (3735, 3736), (231, 232), (3736, 136), (3736, 3735), (137, 138), (102, 101), (209, 210), (1668, 1669), (178, 177), (177, 178), (1324, 1323), (1013, 1012), (210, 209), (2600, 136), (2600, 8545), (3, 512), (3494, 136), (27342, 136), (27342, 135), (1012, 1013), (1669, 1668), (1323, 1324), (12841, 136), (8545, 136), (8545, 2600)]\n",
      "86 \n",
      " [(136, 135), (135, 136), (63, 5887), (1121, 1120), (1120, 1121), (812, 5887), (602, 603), (6113, 5887), (353, 354), (34895, 4383), (977, 27342), (35, 36), (1236, 6113), (8880, 3735), (1219, 1218), (603, 602), (225, 226), (9, 8880), (36, 35), (264, 5887), (80, 79), (1218, 1219), (138, 137), (1090, 27342), (172, 171), (354, 353), (1238, 3494), (232, 231), (79, 80), (1346, 92), (212, 211), (1250, 3494), (26736, 27342), (33773, 5887), (226, 225), (5887, 6113), (211, 212), (171, 172), (8342, 3494), (85, 5418), (101, 102), (3735, 3736), (231, 232), (1041, 3735), (3736, 3735), (1966, 3494), (1283, 5413), (137, 138), (512, 3), (102, 101), (86, 3494), (209, 210), (1668, 1669), (368, 5413), (981, 3494), (514, 5413), (92, 514), (1000, 6113), (1438, 6113), (125, 8880), (178, 177), (3038, 3494), (145, 514), (840, 137), (14729, 6113), (177, 178), (4383, 34895), (1324, 1323), (1013, 1012), (210, 209), (2600, 8545), (21126, 5887), (1074, 26736), (3, 512), (3494, 3038), (960, 5418), (27342, 26736), (1012, 1013), (1669, 1668), (1323, 1324), (5418, 33773), (2200, 2600), (12841, 26736), (1528, 92), (5413, 1283), (8545, 2600)]\n"
     ]
    }
   ],
   "source": [
    "print(len(da5_edge),'\\n',da5_edge)\n",
    "print(len(max_list_edges),'\\n',max_list_edges)"
   ]
  },
  {
   "cell_type": "code",
   "execution_count": 65,
   "metadata": {
    "collapsed": true
   },
   "outputs": [
    {
     "name": "stdout",
     "output_type": "stream",
     "text": [
      "41 \n",
      " [(136, 135), (135, 136), (1121, 1120), (1120, 1121), (602, 603), (353, 354), (35, 36), (1219, 1218), (603, 602), (225, 226), (36, 35), (80, 79), (1218, 1219), (138, 137), (172, 171), (354, 353), (232, 231), (79, 80), (212, 211), (226, 225), (211, 212), (171, 172), (101, 102), (3735, 3736), (231, 232), (3736, 3735), (137, 138), (102, 101), (209, 210), (1668, 1669), (178, 177), (177, 178), (1324, 1323), (1013, 1012), (210, 209), (2600, 8545), (3, 512), (1012, 1013), (1669, 1668), (1323, 1324), (8545, 2600)]\n",
      "44 \n",
      " [(136, 135), (135, 136), (1121, 1120), (1120, 1121), (602, 603), (353, 354), (35, 36), (1219, 1218), (603, 602), (225, 226), (36, 35), (80, 79), (1218, 1219), (138, 137), (172, 171), (354, 353), (232, 231), (79, 80), (212, 211), (26736, 27342), (226, 225), (211, 212), (171, 172), (101, 102), (3735, 3736), (231, 232), (3736, 3735), (137, 138), (512, 3), (102, 101), (209, 210), (1668, 1669), (178, 177), (177, 178), (1324, 1323), (1013, 1012), (210, 209), (2600, 8545), (3, 512), (27342, 26736), (1012, 1013), (1669, 1668), (1323, 1324), (8545, 2600)]\n"
     ]
    }
   ],
   "source": [
    "print(len(edge_lists),'\\n',edge_lists)\n",
    "print(len(max_edge_lists),'\\n',max_edge_lists)"
   ]
  },
  {
   "cell_type": "code",
   "execution_count": 97,
   "metadata": {},
   "outputs": [],
   "source": [
    "a1=set(da5_edge)\n",
    "a2=set(max_list_edges)\n",
    "a3=set(da5_edge_re)\n",
    "b1=set(edge_lists)\n",
    "b2=set(max_edge_lists)"
   ]
  },
  {
   "cell_type": "code",
   "execution_count": 98,
   "metadata": {
    "collapsed": true
   },
   "outputs": [
    {
     "name": "stdout",
     "output_type": "stream",
     "text": [
      "{(603, 602), (3736, 136), (3494, 136), (3, 512), (3735, 136), (178, 177), (2600, 136), (1121, 1120), (102, 101), (1120, 1121), (177, 178), (1013, 1012), (1012, 1013), (12841, 136), (27342, 135), (36, 35), (80, 79), (3736, 3735), (35, 36), (231, 232), (138, 137), (27342, 136), (1219, 1218), (1669, 1668), (135, 136), (101, 102), (1668, 1669), (354, 353), (226, 225), (137, 138), (210, 209), (8545, 136), (1218, 1219), (136, 135), (172, 171), (232, 231), (212, 211), (1324, 1323), (211, 212), (171, 172), (3735, 3736), (1323, 1324), (353, 354), (209, 210), (602, 603), (2600, 8545), (8545, 2600), (33773, 136), (79, 80)} \n",
      " {(4383, 34895), (1120, 1121), (177, 178), (1074, 26736), (960, 5418), (26736, 27342), (35, 36), (977, 27342), (1219, 1218), (1250, 3494), (264, 5887), (354, 353), (226, 225), (210, 209), (85, 5418), (136, 135), (125, 8880), (1438, 6113), (2200, 2600), (368, 5413), (14729, 6113), (5413, 1283), (603, 602), (21126, 5887), (1013, 1012), (1012, 1013), (36, 35), (80, 79), (8342, 3494), (1041, 3735), (3736, 3735), (138, 137), (1669, 1668), (27342, 26736), (34895, 4383), (812, 5887), (602, 603), (1346, 92), (2600, 8545), (3, 512), (5418, 33773), (178, 177), (12841, 26736), (1121, 1120), (102, 101), (3494, 3038), (1283, 5413), (1668, 1669), (840, 137), (232, 231), (1090, 27342), (171, 172), (1323, 1324), (5887, 6113), (1236, 6113), (92, 514), (9, 8880), (86, 3494), (514, 5413), (79, 80), (135, 136), (1966, 3494), (512, 3), (6113, 5887), (1000, 6113), (145, 514), (231, 232), (101, 102), (137, 138), (1218, 1219), (172, 171), (212, 211), (1324, 1323), (211, 212), (3735, 3736), (353, 354), (225, 226), (209, 210), (1528, 92), (8880, 3735), (8545, 2600), (1238, 3494), (981, 3494), (33773, 5887), (63, 5887), (3038, 3494)} \n",
      " {(603, 602), (3, 512), (178, 177), (1121, 1120), (102, 101), (1120, 1121), (177, 178), (1013, 1012), (1012, 1013), (36, 35), (80, 79), (3736, 3735), (35, 36), (231, 232), (138, 137), (1219, 1218), (1669, 1668), (101, 102), (1668, 1669), (135, 136), (354, 353), (226, 225), (137, 138), (210, 209), (1218, 1219), (172, 171), (232, 231), (212, 211), (1324, 1323), (136, 135), (171, 172), (211, 212), (3735, 3736), (1323, 1324), (353, 354), (209, 210), (602, 603), (2600, 8545), (8545, 2600), (79, 80)} \n",
      " {(603, 602), (3, 512), (178, 177), (1121, 1120), (102, 101), (1120, 1121), (177, 178), (1013, 1012), (1012, 1013), (36, 35), (80, 79), (3736, 3735), (35, 36), (231, 232), (138, 137), (1219, 1218), (1669, 1668), (135, 136), (101, 102), (1668, 1669), (354, 353), (226, 225), (137, 138), (210, 209), (1218, 1219), (136, 135), (172, 171), (232, 231), (212, 211), (1324, 1323), (211, 212), (171, 172), (3735, 3736), (1323, 1324), (353, 354), (225, 226), (209, 210), (602, 603), (2600, 8545), (8545, 2600), (79, 80)} \n",
      " {(603, 602), (3, 512), (178, 177), (1121, 1120), (512, 3), (102, 101), (1120, 1121), (177, 178), (1013, 1012), (1012, 1013), (36, 35), (80, 79), (3736, 3735), (26736, 27342), (35, 36), (231, 232), (138, 137), (1219, 1218), (1669, 1668), (27342, 26736), (135, 136), (101, 102), (1668, 1669), (354, 353), (226, 225), (137, 138), (210, 209), (1218, 1219), (136, 135), (172, 171), (232, 231), (212, 211), (1324, 1323), (211, 212), (171, 172), (3735, 3736), (1323, 1324), (353, 354), (225, 226), (209, 210), (602, 603), (2600, 8545), (8545, 2600), (79, 80)} \n",
      "\n"
     ]
    }
   ],
   "source": [
    "print(a1,'\\n',a2,'\\n',a3,'\\n',b1,'\\n',b2,'\\n')"
   ]
  },
  {
   "cell_type": "code",
   "execution_count": 100,
   "metadata": {},
   "outputs": [],
   "source": [
    "cr={'cr.5':da5_edge,'cr_max':max_list_edges,'cr.5_re':da5_edge_re}\n",
    "da={'data.5':edge_lists,'data_max':max_edge_lists}"
   ]
  },
  {
   "cell_type": "code",
   "execution_count": 106,
   "metadata": {},
   "outputs": [],
   "source": [
    "df=pd.DataFrame(np.zeros((3,2)),index=list(cr),columns=list(da))"
   ]
  },
  {
   "cell_type": "code",
   "execution_count": 111,
   "metadata": {},
   "outputs": [],
   "source": [
    "for ind in list(cr):\n",
    "    for col in list(da):\n",
    "        df.loc[ind,col]=similar_edge(cr[ind],da[col])"
   ]
  },
  {
   "cell_type": "code",
   "execution_count": 118,
   "metadata": {},
   "outputs": [],
   "source": [
    "all_data=dict(cr,**da)"
   ]
  },
  {
   "cell_type": "code",
   "execution_count": 124,
   "metadata": {},
   "outputs": [],
   "source": [
    "ndf=pd.DataFrame(np.zeros((5,5)),index=list(all_data),columns=list(all_data))"
   ]
  },
  {
   "cell_type": "code",
   "execution_count": 128,
   "metadata": {},
   "outputs": [],
   "source": [
    "for ind in list(all_data):\n",
    "    for col in list(all_data):\n",
    "#         if ind == col:\n",
    "#             continue\n",
    "        ndf.loc[ind,col]=similar_edge(all_data[ind],all_data[col])"
   ]
  },
  {
   "cell_type": "code",
   "execution_count": 130,
   "metadata": {},
   "outputs": [
    {
     "data": {
      "text/html": [
       "<div>\n",
       "<style scoped>\n",
       "    .dataframe tbody tr th:only-of-type {\n",
       "        vertical-align: middle;\n",
       "    }\n",
       "\n",
       "    .dataframe tbody tr th {\n",
       "        vertical-align: top;\n",
       "    }\n",
       "\n",
       "    .dataframe thead th {\n",
       "        text-align: right;\n",
       "    }\n",
       "</style>\n",
       "<table border=\"1\" class=\"dataframe\">\n",
       "  <thead>\n",
       "    <tr style=\"text-align: right;\">\n",
       "      <th></th>\n",
       "      <th>cr.5</th>\n",
       "      <th>cr_max</th>\n",
       "      <th>cr.5_re</th>\n",
       "      <th>data.5</th>\n",
       "      <th>data_max</th>\n",
       "    </tr>\n",
       "  </thead>\n",
       "  <tbody>\n",
       "    <tr>\n",
       "      <th>cr.5</th>\n",
       "      <td>1.00</td>\n",
       "      <td>0.42</td>\n",
       "      <td>0.82</td>\n",
       "      <td>0.80</td>\n",
       "      <td>0.75</td>\n",
       "    </tr>\n",
       "    <tr>\n",
       "      <th>cr_max</th>\n",
       "      <td>0.42</td>\n",
       "      <td>1.00</td>\n",
       "      <td>0.47</td>\n",
       "      <td>0.48</td>\n",
       "      <td>0.51</td>\n",
       "    </tr>\n",
       "    <tr>\n",
       "      <th>cr.5_re</th>\n",
       "      <td>0.82</td>\n",
       "      <td>0.47</td>\n",
       "      <td>1.00</td>\n",
       "      <td>0.98</td>\n",
       "      <td>0.91</td>\n",
       "    </tr>\n",
       "    <tr>\n",
       "      <th>data.5</th>\n",
       "      <td>0.80</td>\n",
       "      <td>0.48</td>\n",
       "      <td>0.98</td>\n",
       "      <td>1.00</td>\n",
       "      <td>0.93</td>\n",
       "    </tr>\n",
       "    <tr>\n",
       "      <th>data_max</th>\n",
       "      <td>0.75</td>\n",
       "      <td>0.51</td>\n",
       "      <td>0.91</td>\n",
       "      <td>0.93</td>\n",
       "      <td>1.00</td>\n",
       "    </tr>\n",
       "  </tbody>\n",
       "</table>\n",
       "</div>"
      ],
      "text/plain": [
       "          cr.5  cr_max  cr.5_re  data.5  data_max\n",
       "cr.5      1.00    0.42     0.82    0.80      0.75\n",
       "cr_max    0.42    1.00     0.47    0.48      0.51\n",
       "cr.5_re   0.82    0.47     1.00    0.98      0.91\n",
       "data.5    0.80    0.48     0.98    1.00      0.93\n",
       "data_max  0.75    0.51     0.91    0.93      1.00"
      ]
     },
     "execution_count": 130,
     "metadata": {},
     "output_type": "execute_result"
    }
   ],
   "source": [
    "ndf.round(decimals=2)"
   ]
  },
  {
   "cell_type": "code",
   "execution_count": null,
   "metadata": {},
   "outputs": [],
   "source": []
  }
 ],
 "metadata": {
  "kernelspec": {
   "display_name": "Python 3",
   "language": "python",
   "name": "python3"
  },
  "language_info": {
   "codemirror_mode": {
    "name": "ipython",
    "version": 3
   },
   "file_extension": ".py",
   "mimetype": "text/x-python",
   "name": "python",
   "nbconvert_exporter": "python",
   "pygments_lexer": "ipython3",
   "version": "3.7.1"
  },
  "toc": {
   "base_numbering": 1,
   "nav_menu": {
    "height": "200px",
    "width": "286px"
   },
   "number_sections": true,
   "sideBar": true,
   "skip_h1_title": false,
   "title_cell": "Table of Contents",
   "title_sidebar": "Contents",
   "toc_cell": false,
   "toc_position": {
    "height": "calc(100% - 180px)",
    "left": "10px",
    "top": "150px",
    "width": "165px"
   },
   "toc_section_display": true,
   "toc_window_display": false
  },
  "varInspector": {
   "cols": {
    "lenName": 16,
    "lenType": 16,
    "lenVar": 40
   },
   "kernels_config": {
    "python": {
     "delete_cmd_postfix": "",
     "delete_cmd_prefix": "del ",
     "library": "var_list.py",
     "varRefreshCmd": "print(var_dic_list())"
    },
    "r": {
     "delete_cmd_postfix": ") ",
     "delete_cmd_prefix": "rm(",
     "library": "var_list.r",
     "varRefreshCmd": "cat(var_dic_list()) "
    }
   },
   "position": {
    "height": "413.5px",
    "left": "-5px",
    "right": "20px",
    "top": "43px",
    "width": "503px"
   },
   "types_to_exclude": [
    "module",
    "function",
    "builtin_function_or_method",
    "instance",
    "_Feature"
   ],
   "window_display": false
  }
 },
 "nbformat": 4,
 "nbformat_minor": 2
}
