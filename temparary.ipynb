{
 "cells": [
  {
   "cell_type": "code",
   "execution_count": 1,
   "metadata": {},
   "outputs": [
    {
     "name": "stdout",
     "output_type": "stream",
     "text": [
      "Using matplotlib backend: Qt5Agg\n"
     ]
    }
   ],
   "source": [
    "%matplotlib auto\n",
    "#弹出窗绘图\n",
    "\n",
    "#%matplotlib inline\n",
    "#控制台绘图\n"
   ]
  },
  {
   "cell_type": "code",
   "execution_count": 2,
   "metadata": {},
   "outputs": [],
   "source": [
    "import matplotlib.pyplot as plt\n",
    "import matplotlib.animation as animation\n",
    "\n",
    "import numpy as np\n",
    "import random\n",
    "import string\n",
    "import time\n",
    "\n",
    "from scipy import stats\n",
    "from mpl_toolkits.mplot3d import Axes3D\n"
   ]
  },
  {
   "cell_type": "markdown",
   "metadata": {},
   "source": [
    "### 运行计算函数"
   ]
  },
  {
   "cell_type": "markdown",
   "metadata": {},
   "source": [
    "导入函数"
   ]
  },
  {
   "cell_type": "code",
   "execution_count": 3,
   "metadata": {},
   "outputs": [
    {
     "name": "stdout",
     "output_type": "stream",
     "text": [
      "Wall time: 428 ms\n"
     ]
    }
   ],
   "source": [
    "%%time\n",
    "#%%prun\n",
    "\n",
    "%run ./coin_rate_culculate.ipynb\n",
    "%run ./picture_by_matplotlib.ipynb"
   ]
  },
  {
   "cell_type": "markdown",
   "metadata": {},
   "source": [
    "---"
   ]
  },
  {
   "cell_type": "code",
   "execution_count": 6,
   "metadata": {},
   "outputs": [
    {
     "name": "stdout",
     "output_type": "stream",
     "text": [
      "0;1;2;3;4;5;6;7;8;9;10;11;12;13;14;15;16;17;18;19;20;21;22;23;24;25;26;27;28;29;30;31;32;33;34;35;36;37;38;39;40;41;42;43;44;45;46;47;48;49;50;51;52;53;54;55;56;57;58;59;60;61;62;63;64;65;66;67;68;69;70;71;72;73;74;75;76;77;78;79;80;81;82;83;84;85;86;87;88;89;90;91;92;93;94;95;96;97;98;99;\n",
      "GET IT 0.8 0.1\n",
      "0;1;2;3;4;5;6;7;8;9;10;11;12;13;14;15;16;17;18;19;20;21;22;23;24;25;26;27;28;29;30;31;32;33;34;35;36;37;38;39;40;41;42;43;44;45;46;47;48;49;50;51;52;53;54;55;56;57;58;59;60;61;62;63;64;65;66;67;68;69;70;71;72;73;74;75;76;77;78;79;80;81;82;83;84;85;86;87;88;89;90;91;92;93;94;95;96;97;98;99;\n",
      "GET IT 0.8 0.12\n",
      "0;1;2;3;4;5;6;7;8;9;10;11;12;13;14;15;16;17;18;19;20;21;22;23;24;25;26;27;28;29;30;31;32;33;34;35;36;37;38;39;40;41;42;43;44;45;46;47;48;49;50;51;52;53;54;55;56;57;58;59;60;61;62;63;64;65;66;67;68;69;70;71;72;73;74;75;76;77;78;79;80;81;82;83;84;85;86;87;88;89;90;91;92;93;94;95;96;97;98;99;\n",
      "GET IT 0.8 0.15\n",
      "0;1;2;3;4;5;6;7;8;9;10;11;12;13;14;15;16;17;18;19;20;21;22;23;24;25;26;27;28;29;30;31;32;33;34;35;36;37;38;39;40;41;42;43;44;45;46;47;48;49;50;51;52;53;54;55;56;57;58;59;60;61;62;63;64;65;66;67;68;69;70;71;72;73;74;75;76;77;78;79;80;81;82;83;84;85;86;87;88;89;90;91;92;93;94;95;96;97;98;99;\n",
      "GET IT 0.8 0.18\n",
      "0;1;2;3;4;5;6;7;8;9;10;11;12;13;14;15;16;17;18;19;20;21;22;23;24;25;26;27;28;29;30;31;32;33;34;35;36;37;38;39;40;41;42;43;44;45;46;47;48;49;50;51;52;53;54;55;56;57;58;59;60;61;62;63;64;65;66;67;68;69;70;71;72;73;74;75;76;77;78;79;80;81;82;83;84;85;86;87;88;89;90;91;92;93;94;95;96;97;98;99;\n",
      "GET IT 0.8 0.2\n"
     ]
    },
    {
     "data": {
      "image/png": "[encoded data removed]",
      "text/plain": [
       "<Figure size 720x720 with 2 Axes>"
      ]
     },
     "metadata": {
      "needs_background": "light"
     },
     "output_type": "display_data"
    }
   ],
   "source": [
    "fig = plt.figure()\n",
    "fig.set_size_inches(10,10)\n",
    "\n",
    "size_a=100\n",
    "p_a=0.3\n",
    "p_b=5\n",
    "inter=1\n",
    "d_t=0.00\n",
    "text='A=%.1f;B=%.1f\\nNb=%d;i=%.1f;dt=%.2f\\nDate:%s-%s'%((p_a,p_b,size_a*2,inter,d_t)+time.localtime()[1:3])\n",
    "twotitle='pwl-poi-mean'\n",
    "\n",
    "d1=[0.00,0.02,0.05,0.08,0.1]\n",
    "d2=[0.1,0.12,0.15,0.18,0.2]\n",
    "i1=[0.2,0.5,0.8,1]\n",
    "ims = []\n",
    "\n",
    "for i in [0.8]:\n",
    "    inter=i\n",
    "    \n",
    "    for j in d2:\n",
    "        d_t=j\n",
    "        text='A=%.1f;B=%.1f\\nNb=%d;i=%.1f;dt=%.2f\\nDate:%s-%s'%((p_a,p_b,size_a*2,inter,d_t)+time.localtime()[1:3])\n",
    "\n",
    "        x=[]\n",
    "        for temp in range(100):\n",
    "            a=transfrom_ts_to_t(stats.powerlaw.rvs(p_a,size=size_a))\n",
    "            b=transfrom_ts_to_t(stats.poisson.rvs(p_b,size=size_a*2))\n",
    "            x.append(dif_seq_inter2(a,b,inter=inter,d_t=d_t))\n",
    "            print(temp,end=';')\n",
    "        print('\\nGET IT',i,j)\n",
    "        im = plt.imshow(np.mean(x,axis=0),\n",
    "                        animated=True,\n",
    "                        interpolation='nearest',\n",
    "                        cmap='autumn',\n",
    "                        origin='upper')\n",
    "        txt=plt.text(0,-1,text,size=10,va='bottom')\n",
    "        ims.append([im,txt])\n",
    "\n",
    "plt.xlabel(r'$\\Delta T/T$',fontdict={'size': 20, 'color': 'k'})\n",
    "plt.ylabel('Event B',fontdict={'size': 20, 'color': 'k'})\n",
    "plt.xticks((0,19),('0','0.2'),size=16)\n",
    "plt.yticks((0,19),('20','1'),size=16)\n",
    "plt.title(twotitle)\n",
    "fig.colorbar(im,shrink=0.5)\n",
    "\n",
    "ani = animation.ArtistAnimation(fig, ims, \n",
    "                                blit=True,\n",
    "                                repeat_delay=1000)\n",
    "\n",
    "ani.save('inter-dt-100.gif', dpi=300, writer='imagemagick',fps=1)\n",
    "\n",
    "#plt.show()"
   ]
  },
  {
   "cell_type": "code",
   "execution_count": null,
   "metadata": {},
   "outputs": [],
   "source": []
  }
 ],
 "metadata": {
  "kernelspec": {
   "display_name": "Python 3",
   "language": "python",
   "name": "python3"
  },
  "language_info": {
   "codemirror_mode": {
    "name": "ipython",
    "version": 3
   },
   "file_extension": ".py",
   "mimetype": "text/x-python",
   "name": "python",
   "nbconvert_exporter": "python",
   "pygments_lexer": "ipython3",
   "version": "3.7.1"
  }
 },
 "nbformat": 4,
 "nbformat_minor": 2
}
