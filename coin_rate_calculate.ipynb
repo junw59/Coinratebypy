{
 "cells": [
  {
   "cell_type": "markdown",
   "metadata": {},
   "source": [
    "此文件包含了计算coinrate所需的一些函数"
   ]
  },
  {
   "cell_type": "markdown",
   "metadata": {},
   "source": [
    "# This is new project"
   ]
  },
  {
   "cell_type": "markdown",
   "metadata": {},
   "source": [
    "目的：对两段时间序列进行分析，给出The aggregated precursor coincidence rate和 The aggregated trigger coincidence rate；\n"
   ]
  },
  {
   "cell_type": "markdown",
   "metadata": {},
   "source": [
    "读取文件-->操作文件"
   ]
  },
  {
   "cell_type": "markdown",
   "metadata": {},
   "source": [
    "## 算法的处理"
   ]
  },
  {
   "cell_type": "markdown",
   "metadata": {},
   "source": [
    "import matplotlib.pyplot as plt\n",
    "import random\n",
    "import string\n",
    "import numpy as np\n",
    "from scipy import stats"
   ]
  },
  {
   "cell_type": "markdown",
   "metadata": {},
   "source": [
    "### 基本函数"
   ]
  },
  {
   "cell_type": "markdown",
   "metadata": {},
   "source": [
    "这是需要用到的函数"
   ]
  },
  {
   "cell_type": "code",
   "execution_count": null,
   "metadata": {},
   "outputs": [],
   "source": [
    "def indicator_f(x,int_v):\n",
    "    '''这是示性函数，判断x是否属于其后的区间\n",
    "    '''\n",
    "    if x>=0 and x<=int_v:\n",
    "        return 1\n",
    "    else:\n",
    "        return 0"
   ]
  },
  {
   "cell_type": "code",
   "execution_count": null,
   "metadata": {},
   "outputs": [],
   "source": [
    "def heaviside_f(x):\n",
    "    '''阶跃函数，判断是否大于0\n",
    "    '''\n",
    "    if x>0:\n",
    "        return 1\n",
    "    else:\n",
    "        return 0"
   ]
  },
  {
   "cell_type": "markdown",
   "metadata": {},
   "source": [
    "### 分析函数-数据中的每一个数代表在时间轴的位置"
   ]
  },
  {
   "cell_type": "markdown",
   "metadata": {},
   "source": [
    "这是计算coincidence rate 的函数，参数为【时间间隔，时间延迟，序列A，序列B】"
   ]
  },
  {
   "cell_type": "markdown",
   "metadata": {},
   "source": [
    "\\begin{equation}r_{p}(\\Delta T, \\tau)=\\frac{1}{N_{A}} \\sum_{i=1}^{N_{A}} \\Theta\\left[\\sum_{j=1}^{N_{B}} 1_{[0, \\Delta T]}\\left(\\left(t_{i}^{A}-\\tau\\right)-t_{j}^{B}\\right)\\right]\\end{equation}"
   ]
  },
  {
   "cell_type": "code",
   "execution_count": null,
   "metadata": {
    "code_folding": []
   },
   "outputs": [],
   "source": [
    "def pre_coin_r(time_,delay_,seq_a,seq_b):\n",
    "    '''输入：巧合时间、时间延迟、序列a、序列b(时间轴)；\\n输出a、b的pre rate\n",
    "    '''\n",
    "    rate_r=0\n",
    "    count_a=0\n",
    "    count_b=0\n",
    "    rate_all=0\n",
    "    for ta in seq_a:\n",
    "        count_a+=1\n",
    "        hx=0\n",
    "        for tb in seq_b:\n",
    "            hx+=indicator_f(ta-tb-delay_,time_)\n",
    "            #print('ca is:',count_a,'x is:',ta-tb-delay_,'hx is:',hx)\n",
    "        #hx=np.array([indicator_f(ta-tb-delay_,time_) for tb in seq_b]).sum() # 替代循环的功能\n",
    "        rate_all+=heaviside_f(hx)\n",
    "        #print('rate_all is :',rate_all)\n",
    "    rate_r=rate_all/count_a\n",
    "    #print('rate is:',rate_r,'rate_all is :',rate_all,'count_a is:',count_a)\n",
    "    return rate_r"
   ]
  },
  {
   "cell_type": "markdown",
   "metadata": {},
   "source": [
    "使用np.meshgrid()将两个一维数据生成二维数据网格，可以减少循环迭代带来的时间浪费\n",
    "\n",
    "seqa和seqb转换为二维的网格"
   ]
  },
  {
   "cell_type": "code",
   "execution_count": null,
   "metadata": {},
   "outputs": [],
   "source": [
    "def pre_cr_(time_,delay_,seq_a,seq_b):\n",
    "    '''输入：巧合时间、时间延迟、序列a、序列b(时间轴)；\\n输出a、b的pre rate\n",
    "    '''\n",
    "    rate_r=0\n",
    "    x,y=np.meshgrid(seq_a,seq_b)  # 生成二维网格\n",
    "    nx=pd.DataFrame(x-y-delay_)  # 二维网格相减等效于一次循环\n",
    "    nnnz=nx[nx>=0][nx<=time_].count()  # 挑选剩余的非零数，等价于示性函数的运算\n",
    "    rate_r=nnnz[nnnz>0].count()/len(seq_a)  # 等价于heaviside函数的运算，计算得出coin rate\n",
    "    return rate_r"
   ]
  },
  {
   "cell_type": "markdown",
   "metadata": {},
   "source": [
    "$$\n",
    "r_{t}(\\Delta T, \\tau)=\\frac{1}{N_{B}} \\sum_{j=1}^{N_{B}} \\Theta\\left[\\sum_{i=1}^{N_{A}} 1_{[0, \\Delta T]}\\left(\\left(t_{i}^{A}-\\tau\\right)-t_{j}^{B}\\right)\\right]\n",
    "$$"
   ]
  },
  {
   "cell_type": "code",
   "execution_count": null,
   "metadata": {},
   "outputs": [],
   "source": [
    "def tri_coin_r(time_,delay_,seq_a,seq_b):\n",
    "    '''输入：巧合时间、时间延迟、序列a、序列b(时间轴)；\\n输出a、b的tri rate\n",
    "    '''\n",
    "    rate_r=0\n",
    "    count_a=0\n",
    "    count_b=0\n",
    "    rate_all=0\n",
    "    for tb in seq_b:\n",
    "        count_b+=1\n",
    "        hx=0\n",
    "        for ta in seq_a:\n",
    "            hx+=indicator_f(ta-tb-delay_,time_)\n",
    "            #print('ca is:',count_a,'x is:',ta-tb-delay_,'hx is:',hx)\n",
    "        rate_all+=heaviside_f(hx)\n",
    "        #print('rate_all is :',rate_all)\n",
    "    rate_r=rate_all/count_b\n",
    "    #print('rate is:',rate_r,'rate_all is :',rate_all,'count_a is:',count_a)\n",
    "    return rate_r"
   ]
  },
  {
   "cell_type": "markdown",
   "metadata": {},
   "source": [
    "### 强巧合关联分析"
   ]
  },
  {
   "cell_type": "markdown",
   "metadata": {},
   "source": [
    "使用np.meshgrid()将两个一维数据生成二维数据网格，可以减少循环迭代带来的时间浪费\n",
    "\n",
    "seqa和seqb转换为二维的网格"
   ]
  },
  {
   "cell_type": "markdown",
   "metadata": {},
   "source": [
    "$$r_{double}(\\Delta T)=\\frac{1}{N_{A}} \\sum_{i=1}^{N_{A}} \\Theta\\left[\\sum_{j=1}^{N_{B}} \\left(1_{[0, \\Delta T]}(t_{j-1}^{B}-t_{i}^{A})\\times 1_{[0, \\Delta T]}(t_{i}^{A}-t_{j}^{B})\\right)\\right]$$"
   ]
  },
  {
   "cell_type": "code",
   "execution_count": null,
   "metadata": {},
   "outputs": [],
   "source": [
    "def coinrate_strong(time_,seq_a,seq_b):\n",
    "    '''输入：巧合时间、序列a、序列b(时间轴)；\\n输出a、b的pre rate\\n两个示性函数的版本，添加了更强的关联\n",
    "    '''\n",
    "    # 时间轴上，后面的事件数值大，tB-tA>0 表示B事件在A事件之后，因此二维网格应该与公式的表达不一样\n",
    "    rate_r=0\n",
    "    x,y1=np.meshgrid(seq_a,seq_b[:-1])  # 生成二维网格，y1不包括最后一个元素，对应前面的示性函数\n",
    "    x,y2=np.meshgrid(seq_a,seq_b[1:])  # 生成二维网格，y2不包括第一个元素，对应后面的示性函数\n",
    "\n",
    "    nx1=pd.DataFrame(x-y1)  # 二维网格相减等效于一次循环，前面的示性函数网格\n",
    "    nx2=pd.DataFrame(y2-x)  # 二维网格相减等效于一次循环，后面的示性函数网格\n",
    "\n",
    "    filt=nx1[nx1>=0][nx1<=time_]*nx2[nx2>=0][nx2<=time_] # 计算相乘的示性函数网格\n",
    "    \n",
    "    nnnz=filt.count()  # 挑选剩余的非零数\n",
    "    \n",
    "    rate_r=nnnz[nnnz>0].count()/len(seq_a)  # 计算得出coin rate\n",
    "\n",
    "    return rate_r"
   ]
  },
  {
   "cell_type": "markdown",
   "metadata": {},
   "source": [
    "### 分析函数-时间窗口以数据为中心"
   ]
  },
  {
   "cell_type": "code",
   "execution_count": null,
   "metadata": {},
   "outputs": [],
   "source": [
    "def pre_cr_center(time_,delay_,seq_a,seq_b):\n",
    "    '''输入：巧合时间区间、时间延迟、序列a、序列b(时间轴)；\\n输出a、b的pre rate\n",
    "    '''\n",
    "    rate_r=0\n",
    "    x,y=np.meshgrid(seq_a,seq_b)  # 生成二维网格\n",
    "    nx=pd.DataFrame(x-y-delay_)  # 二维网格相减等效于一次循环\n",
    "    nnnz=nx[nx>=-time_/2][nx<=time_/2].count()  # 挑选剩余的非零数\n",
    "    rate_r=nnnz[nnnz>0].count()/len(seq_a)  # 计算得出coin rate\n",
    "    return rate_r"
   ]
  },
  {
   "cell_type": "markdown",
   "metadata": {},
   "source": [
    "### 分析函数-数据中的每一个数代表与前一个数的时间间隔"
   ]
  },
  {
   "cell_type": "code",
   "execution_count": null,
   "metadata": {},
   "outputs": [],
   "source": [
    "def pre_coin_r_inter(time_,delay_,seq_a,seq_b):\n",
    "    '''输入：巧合时间、时间延迟、序列a、序列b(时间间隔)；\\n输出a、b的pre rate\n",
    "    '''\n",
    "    rate_r=0\n",
    "    count_a=0\n",
    "    count_b=0\n",
    "    rate_all=0\n",
    "    time_all_a=0\n",
    "    time_all_b=0\n",
    "    for ta in seq_a:\n",
    "        count_a+=1\n",
    "        hx=0\n",
    "        time_all_a+=ta\n",
    "        time_all_b=0\n",
    "        for tb in seq_b:\n",
    "            time_all_b+=tb\n",
    "            hx+=indicator_f(time_all_a-time_all_b-delay_,time_)\n",
    "            #print('ca is:',count_a,'x is:',ta-tb-delay_,'hx is:',hx)\n",
    "        rate_all+=heaviside_f(hx)\n",
    "        #print('rate_all is :',rate_all)\n",
    "    rate_r=rate_all/count_a\n",
    "    #print('rate is:',rate_r,'rate_all is :',rate_all,'count_a is:',count_a)\n",
    "    return rate_r"
   ]
  },
  {
   "cell_type": "code",
   "execution_count": null,
   "metadata": {},
   "outputs": [],
   "source": [
    "def tri_coin_r_inter(time_,delay_,seq_a,seq_b):\n",
    "    '''输入：巧合时间、时间延迟、序列a、序列b(时间间隔)；\\n输出a、b的tri rate\n",
    "    '''\n",
    "    rate_r=0\n",
    "    count_a=0\n",
    "    count_b=0\n",
    "    rate_all=0\n",
    "    time_all_a=0\n",
    "    time_all_b=0\n",
    "    for tb in seq_b:\n",
    "        count_b+=1\n",
    "        hx=0\n",
    "        time_all_b+=tb\n",
    "        time_all_a=0\n",
    "        for ta in seq_a:\n",
    "            time_all_a+=ta\n",
    "            hx+=indicator_f(time_all_a-time_all_b-delay_,time_)\n",
    "            #print('ca is:',count_a,'x is:',ta-tb-delay_,'hx is:',hx)\n",
    "        rate_all+=heaviside_f(hx)\n",
    "        #print('rate_all is :',rate_all)\n",
    "    rate_r=rate_all/count_b\n",
    "    #print('rate is:',rate_r,'rate_all is :',rate_all,'count_a is:',count_a)\n",
    "    return rate_r"
   ]
  },
  {
   "cell_type": "markdown",
   "metadata": {},
   "source": [
    "## 处理数据"
   ]
  },
  {
   "cell_type": "markdown",
   "metadata": {},
   "source": [
    "### 数据的转换"
   ]
  },
  {
   "cell_type": "markdown",
   "metadata": {},
   "source": [
    "#### 函数定义-相对前一时刻的时间间隔转换为在时间轴上的时刻"
   ]
  },
  {
   "cell_type": "markdown",
   "metadata": {},
   "source": [
    "输入一个相对时间的序列，输出时间轴上的序列"
   ]
  },
  {
   "cell_type": "code",
   "execution_count": null,
   "metadata": {},
   "outputs": [],
   "source": [
    "def transfrom_ts_to_t(ts):\n",
    "    '''时间间隔转换为时间轴\n",
    "    '''\n",
    "    all_time=0\n",
    "    t=[]\n",
    "    for time in ts:\n",
    "        all_time+=time\n",
    "        t.append(all_time)\n",
    "    return t"
   ]
  },
  {
   "cell_type": "markdown",
   "metadata": {},
   "source": [
    "#### 函数定义，将二维数据写入文件中，参数为文件名、二维列表"
   ]
  },
  {
   "cell_type": "code",
   "execution_count": null,
   "metadata": {},
   "outputs": [],
   "source": [
    "def write_two_l(doc_n,two_li):\n",
    "    '''二维数据写入文件，输入：文件名、二维数据\n",
    "    '''\n",
    "    with open(doc_n,'w') as f:\n",
    "        for y in range(0,len(two_li)):\n",
    "            for x in range(0,len(two_li[0])):\n",
    "                f.write('%.5f\\t'%two_li[y][x])\n",
    "            f.write('\\n')"
   ]
  },
  {
   "cell_type": "markdown",
   "metadata": {},
   "source": [
    "### 计算结果并保存到文件"
   ]
  },
  {
   "cell_type": "markdown",
   "metadata": {},
   "source": [
    "生成基于两个序列的coin rate的数据，参数为B事件的数目以及时间间隔"
   ]
  },
  {
   "cell_type": "markdown",
   "metadata": {},
   "source": [
    "#### 随机分布的结果"
   ]
  },
  {
   "cell_type": "markdown",
   "metadata": {},
   "source": [
    "rp=0\n",
    "with open('result001.txt','w') as f:\n",
    "    for nb in range(20,0,-1):\n",
    "        for time in range(1,21):\n",
    "            rp=pre_coin_r(10*time,0,s1,s2[:nb*10])\n",
    "            f.write('%.2f'%rp+'\\t')\n",
    "        f.write('\\n')\n"
   ]
  },
  {
   "cell_type": "markdown",
   "metadata": {},
   "source": [
    "rp=0\n",
    "with open('result002.txt','w') as f:\n",
    "    for nb in range(20,0,-1):\n",
    "        for time in range(1,21):\n",
    "            rp=tri_coin_r(10*time,0,s1,s2[:nb*10])\n",
    "            f.write('%.2f'%rp+'\\t')\n",
    "        f.write('\\n')\n"
   ]
  },
  {
   "cell_type": "markdown",
   "metadata": {},
   "source": [
    "#### 泊松分布的结果"
   ]
  },
  {
   "cell_type": "markdown",
   "metadata": {},
   "source": [
    "##### 试验"
   ]
  },
  {
   "cell_type": "markdown",
   "metadata": {},
   "source": [
    "rp=0\n",
    "s1=20*stats.poisson.rvs(mu=2,size=100)\n",
    "s2=20*stats.poisson.rvs(mu=2,size=200)\n",
    "print(len(s1),len(s2))\n",
    "print('mean:%g , sd:%g '%(np.mean(s1),np.std(s1,ddof=1)))\n",
    "plt.hist(s1,bins=10)\n",
    "plt.show()\n",
    "with open('result_poisson_001.txt','w') as f:\n",
    "    for nb in range(20,0,-1):\n",
    "        for time in range(1,21):\n",
    "            rp=pre_coin_r(10*time,0,s1,s2[:nb*10])\n",
    "            f.write('%.2f'%rp+'\\t')\n",
    "        f.write('\\n')\n"
   ]
  },
  {
   "cell_type": "markdown",
   "metadata": {},
   "source": [
    "不同的参数对coin rate的影响，泊松分布的均值是参数mu"
   ]
  },
  {
   "cell_type": "code",
   "execution_count": null,
   "metadata": {},
   "outputs": [],
   "source": [
    "def dif_para_rp(doc_n):\n",
    "    with open(doc_n,'w') as f:\n",
    "        for para_mu in np.arange(1,20,1):\n",
    "            arp=[]\n",
    "            print('this is para %.1f'%para_mu)\n",
    "            for i in range(0,100):\n",
    "                seq_a=transfrom_ts_to_t(stats.poisson.rvs(mu=para_mu,loc=0,size=10))\n",
    "                seq_b=transfrom_ts_to_t(stats.poisson.rvs(mu=para_mu,loc=0,size=20))\n",
    "                seq_b=[x/2 for x in seq_b]\n",
    "                time_a=100*para_mu\n",
    "                rate_p=[]\n",
    "                print(i)\n",
    "#                print(time_a,int(time_a*0.2)//20)\n",
    "                for td in range(0,20):\n",
    "                    rate_p.append(pre_coin_r(td*0.01*time_a,0,seq_a,seq_b))\n",
    "                arp.append(rate_p)\n",
    "            for x1 in range(0,len(arp[0])):\n",
    "                temp_=0\n",
    "                for x2 in range(0,len(arp)):\n",
    "                    temp_+=arp[x2][x1]\n",
    "#                print(type(temp_),type(len(arp)))\n",
    "                f.write('%.5f\\t'%(temp_/len(arp)))\n",
    "            f.write('\\n')"
   ]
  },
  {
   "cell_type": "markdown",
   "metadata": {},
   "source": [
    "dif_para_rp('text_dif2.txt')"
   ]
  },
  {
   "cell_type": "markdown",
   "metadata": {},
   "source": [
    "##### 定义函数-生成不同的两个随机序列计算coin rate 并且将结果存入文件，参数为文件名、泊松分布的参数mu，事件数目"
   ]
  },
  {
   "cell_type": "code",
   "execution_count": null,
   "metadata": {},
   "outputs": [],
   "source": [
    "def dif_nb_rp(doc_n,para_mu,size_a):\n",
    "    with open(doc_n,'w') as f:\n",
    "        seq_a=transfrom_ts_to_t(stats.poisson.rvs(mu=para_mu,loc=0,size=size_a))\n",
    "        seq_b=transfrom_ts_to_t(stats.poisson.rvs(mu=para_mu/2,loc=0,size=size_a))\n",
    "        time_a=10*para_mu\n",
    "        for nb in range(1,21):\n",
    "            nsb=random.sample(seq_b,nb*size_a*2//20)\n",
    "            print(nsb,seq_a)\n",
    "            for ti in range(0,20):\n",
    "                rate_p=pre_coin_r(ti*0.01*time_a,0,seq_a,nsb)\n",
    "                f.write('%.5f\\t'%rate_p)\n",
    "            f.write('\\n')"
   ]
  },
  {
   "cell_type": "markdown",
   "metadata": {},
   "source": [
    "##### 定义函数-生成不同的两个随机序列计算coin rate 并且将结果返回二维列表，参数泊松分布的参数mu，事件的数目"
   ]
  },
  {
   "cell_type": "markdown",
   "metadata": {},
   "source": [
    "给出的二维数据的横坐标是时间间隔，纵坐标是B事件数目"
   ]
  },
  {
   "cell_type": "code",
   "execution_count": null,
   "metadata": {},
   "outputs": [],
   "source": [
    "def dif_nb_rp_list(para_mu,size_a):\n",
    "    '''输入：分布参数，事件数量；\\n输出：二维列表\n",
    "    '''\n",
    "    seq_a=transfrom_ts_to_t(stats.poisson.rvs(mu=para_mu,loc=0,size=size_a))\n",
    "    seq_b=transfrom_ts_to_t(stats.poisson.rvs(mu=para_mu/2,loc=0,size=2*size_a))\n",
    "    time_a=size_a*para_mu\n",
    "    lis0=[]\n",
    "    for nb in range(1,21):\n",
    "        nsb=random.sample(seq_b,nb*size_a*2//20)\n",
    "        #print(nsb,seq_a)\n",
    "        list1=[]\n",
    "        for ti in range(0,20):\n",
    "            rate_p=pre_coin_r(ti*0.01*time_a,0,seq_a,nsb)\n",
    "            list1.append(rate_p)\n",
    "        lis0.append(list1)\n",
    "    return lis0[::-1]"
   ]
  },
  {
   "cell_type": "markdown",
   "metadata": {},
   "source": [
    "##### 计算多组数据并且取平均后返回一个二维列表"
   ]
  },
  {
   "cell_type": "markdown",
   "metadata": {},
   "source": [
    "###### 计算均值和标准差"
   ]
  },
  {
   "cell_type": "markdown",
   "metadata": {},
   "source": [
    "对大量的二维数据求平均以及标准差"
   ]
  },
  {
   "cell_type": "markdown",
   "metadata": {},
   "source": [
    "f=[]\n",
    "for i in range(20):\n",
    "    f.append(dif_nb_rp_list(20,100))\n"
   ]
  },
  {
   "cell_type": "markdown",
   "metadata": {},
   "source": [
    "write_two_l('0000001.txt',np.mean(f,axis=0))"
   ]
  },
  {
   "cell_type": "markdown",
   "metadata": {},
   "source": [
    "write_two_l('0000001.txt',np.std(f,axis=0))"
   ]
  },
  {
   "cell_type": "markdown",
   "metadata": {},
   "source": [
    "###### 计算均值"
   ]
  },
  {
   "cell_type": "markdown",
   "metadata": {},
   "source": [
    "用三维列表记录20组coin rate 的结果，每一维都是一组以x为时间间隔、y为b时间数目的数据"
   ]
  },
  {
   "cell_type": "markdown",
   "metadata": {},
   "source": [
    "fn_a=[]\n",
    "for fn in range(0,100):\n",
    "    fn_a.append(dif_nb_rp_list(10,10))\n",
    "\n",
    "print(len(fn_a),len(fn_a[0]),len(fn_a[0][0]),fn_a[0][0][0])\n",
    "\n",
    "list_y=[]\n",
    "for x in range(0,20):\n",
    "    print('x=',x)\n",
    "    list_x=[]\n",
    "    for y in range(0,20):\n",
    "        print('y=',y)\n",
    "        list_nn=0\n",
    "        for fnn in fn_a:\n",
    "            list_nn+=fnn[x][y]\n",
    "        print(list_nn)\n",
    "        list_x.append(list_nn/len(fn_a))\n",
    "        print(list_x)\n",
    "    list_y.append(list_x)\n",
    "\n",
    "print(list_y,len(list_y),len(list_y[0]))\n",
    "\n",
    "write_two_l('possion_mean20_rp2.txt',list_y)"
   ]
  },
  {
   "cell_type": "markdown",
   "metadata": {},
   "source": [
    "###### 计算标准差"
   ]
  },
  {
   "cell_type": "markdown",
   "metadata": {},
   "source": [
    "fn_a=[]\n",
    "for fn in range(0,20):\n",
    "    fn_a.append(dif_nb_rp_list('dif_para_pl_rp_test.txt',10))\n",
    "\n",
    "print(len(fn_a),len(fn_a[0]),len(fn_a[0][0]),fn_a[0][0][0])\n",
    "\n",
    "list_y=[]\n",
    "for x in range(0,20):\n",
    "    print('x=',x)\n",
    "    list_x=[]\n",
    "    for y in range(0,20):\n",
    "        print('y=',y)\n",
    "        list_nn=[]\n",
    "        for fnn in fn_a:\n",
    "            list_nn.append(fnn[x][y])\n",
    "        print(list_nn)\n",
    "        list_x.append(np.std(np.array(list_nn)))\n",
    "        print(list_x)\n",
    "    list_y.append(list_x)\n",
    "\n",
    "print(list_y,len(list_y),len(list_y[0]))"
   ]
  },
  {
   "cell_type": "markdown",
   "metadata": {},
   "source": [
    "write_two_l('possion_std20_rp.txt',list_y)"
   ]
  },
  {
   "cell_type": "markdown",
   "metadata": {},
   "source": [
    "#### 幂律分布的结果"
   ]
  },
  {
   "cell_type": "markdown",
   "metadata": {},
   "source": [
    "##### 试验"
   ]
  },
  {
   "cell_type": "markdown",
   "metadata": {},
   "source": [
    "with open('power_rp_.txt','w') as f:\n",
    "    for i in range(0,100):\n",
    "        seq_a=transfrom_ts_to_t(stats.powerlaw.rvs(2,size=10))\n",
    "        seq_b=transfrom_ts_to_t(stats.powerlaw.rvs(2,size=10))\n",
    "        #print(seq_a,'/n',seq_b)\n",
    "        for td in range(0,20):\n",
    "            rate_p=pre_coin_r(td,0,seq_a,seq_b)\n",
    "            f.write('%.5f\\t'%rate_p)\n",
    "        #print(seq_a)\n",
    "        f.write('\\n')"
   ]
  },
  {
   "cell_type": "markdown",
   "metadata": {},
   "source": [
    "幂律分布的均值是$$\\frac{a}{a+1}$$,a是参数"
   ]
  },
  {
   "cell_type": "markdown",
   "metadata": {},
   "source": [
    "这个函数的参数是：文件名、事件的数目、每个数据需要的实验数，输出文件以时间间隔为x轴，分布函数参数为y轴"
   ]
  },
  {
   "cell_type": "code",
   "execution_count": null,
   "metadata": {},
   "outputs": [],
   "source": [
    "def dif_para_pl_rp(doc_n,size_pot,times_test):\n",
    "    with open(doc_n,'w') as f:\n",
    "        for para_a in range(1,21):\n",
    "            arp=[]\n",
    "            print('this is para %d'%para_a)\n",
    "            for i in range(0,times_test):\n",
    "                seq_a=transfrom_ts_to_t(stats.powerlaw.rvs(para_a,size=size_pot))\n",
    "                seq_b=transfrom_ts_to_t(stats.powerlaw.rvs(para_a,size=2*size_pot))\n",
    "                seq_b=[x/2 for x in seq_b]\n",
    "                time_a=10*para_a/(para_a+1)\n",
    "                rate_p=[]\n",
    "                print(i)\n",
    "#                print(time_a,int(time_a*0.2)//20)\n",
    "                for td in range(0,20):\n",
    "                    rate_p.append(pre_coin_r(td*0.01*time_a,0,seq_a,seq_b))\n",
    "                arp.append(rate_p)\n",
    "            for x1 in range(0,len(arp[0])):\n",
    "                temp_=0\n",
    "                for x2 in range(0,len(arp)):\n",
    "                    temp_+=arp[x2][x1]\n",
    "#                print(type(temp_),type(len(arp)))\n",
    "                f.write('%.5f\\t'%(temp_/len(arp)))\n",
    "            f.write('\\n')"
   ]
  },
  {
   "cell_type": "markdown",
   "metadata": {},
   "source": [
    "dif_para_pl_rp('dif_para_pl_rp_test.txt',100,20)"
   ]
  },
  {
   "cell_type": "markdown",
   "metadata": {},
   "source": [
    "##### 定义函数-生成不同的两个随机序列计算coin rate 并且将结果返回二维列表，参数为幂律分布的参数a，事件数量"
   ]
  },
  {
   "cell_type": "code",
   "execution_count": null,
   "metadata": {},
   "outputs": [],
   "source": [
    "def dif_nb_pol_rp_list(para_a,size_a):\n",
    "    '''输入：分布参数，事件数量；\\n输出：二维列表\n",
    "    '''\n",
    "    seq_a=transfrom_ts_to_t(stats.powerlaw.rvs(para_a,size=size_a))\n",
    "    seq_b=[i/2 for i in transfrom_ts_to_t(stats.powerlaw.rvs(para_a,size=2*size_a))]\n",
    "    time_a=size_a*para_a/(para_a+1)\n",
    "    lis0=[]\n",
    "    for nb in range(1,21):\n",
    "        nsb=random.sample(seq_b,nb*size_a*2//20)\n",
    "        #print(nsb,seq_a)\n",
    "        list1=[]\n",
    "        for ti in range(0,20):\n",
    "            rate_p=pre_coin_r(ti*0.01*time_a,0,seq_a,nsb)\n",
    "            list1.append(rate_p)\n",
    "        lis0.append(list1)\n",
    "    return lis0[::-1]"
   ]
  },
  {
   "cell_type": "markdown",
   "metadata": {},
   "source": [
    "比较耗费时间的："
   ]
  },
  {
   "cell_type": "markdown",
   "metadata": {},
   "source": [
    "fn_a=[]\n",
    "for fn in range(0,20):\n",
    "    fn_a.append(dif_nb_pol_rp_list(5,10))\n",
    "\n",
    "print(len(fn_a),len(fn_a[0]),len(fn_a[0][0]),fn_a[0][0][0])\n",
    "\n",
    "list_y=[]\n",
    "for x in range(0,20):\n",
    "    print('x=',x)\n",
    "    list_x=[]\n",
    "    for y in range(0,20):\n",
    "        print('y=',y)\n",
    "        list_nn=0\n",
    "        for fnn in fn_a:\n",
    "            list_nn+=fnn[x][y]\n",
    "        print(list_nn)\n",
    "        list_x.append(list_nn/len(fn_a))\n",
    "        print(list_x)\n",
    "    list_y.append(list_x)\n",
    "\n",
    "print(list_y,len(list_y),len(list_y[0]))\n",
    "\n",
    "s=dif_nb_pol_rp_list(5,10)\n",
    "print(s,type(s),len(s[0]))"
   ]
  },
  {
   "cell_type": "markdown",
   "metadata": {},
   "source": [
    "write_two_l('pol_mean_nb_test.txt',list_y)\n",
    "\n",
    "#fn_a=[]\n",
    "#for fn in range(0,20):\n",
    "#fn_a.append(dif_nb_rp_list('dif_para_pl_rp_test.txt',10))\n",
    "\n",
    "#print(len(fn_a),len(fn_a[0]),len(fn_a[0][0]),fn_a[0][0][0])\n",
    "\n",
    "list_y=[]\n",
    "for x in range(0,20):\n",
    "    print('x=',x)\n",
    "    list_x=[]\n",
    "    for y in range(0,20):\n",
    "        print('y=',y)\n",
    "        list_nn=[]\n",
    "        for fnn in fn_a:\n",
    "            list_nn.append(fnn[x][y])\n",
    "        print(list_nn)\n",
    "        list_x.append(np.std(np.array(list_nn)))\n",
    "        print(list_x)\n",
    "    list_y.append(list_x)\n",
    "\n",
    "print(list_y,len(list_y),len(list_y[0]))\n",
    "\n",
    "write_two_l('pol_std_nb_test.txt',list_y)"
   ]
  },
  {
   "cell_type": "markdown",
   "metadata": {
    "heading_collapsed": true
   },
   "source": [
    "##### 计算均值和标准差"
   ]
  },
  {
   "cell_type": "markdown",
   "metadata": {
    "hidden": true
   },
   "source": [
    "对大量的二维数据求平均以及标准差 "
   ]
  },
  {
   "cell_type": "markdown",
   "metadata": {
    "hidden": true
   },
   "source": [
    "a=[]\n",
    "for i in range(20):\n",
    "    a.append(dif_nb_pol_rp_list(5,10))\n"
   ]
  },
  {
   "cell_type": "markdown",
   "metadata": {
    "hidden": true
   },
   "source": [
    "write_two_l('powlaw_.txt',np.mean(a,axis=0))"
   ]
  },
  {
   "cell_type": "markdown",
   "metadata": {
    "hidden": true
   },
   "source": [
    "write_two_l('powlaw_.txt',np.std(a,axis=0))"
   ]
  },
  {
   "cell_type": "markdown",
   "metadata": {},
   "source": [
    "#### 幂律-泊松分布的coin rate"
   ]
  },
  {
   "cell_type": "code",
   "execution_count": null,
   "metadata": {},
   "outputs": [],
   "source": [
    "def dif_nb_pow_isson(para_a,para_b,size_a):\n",
    "    '''输入：幂律分布参数，泊松分布参数，事件数量；\\n输出：二维列表\n",
    "    '''\n",
    "    size_b=2*size_a\n",
    "    seq_a=transfrom_ts_to_t(stats.powerlaw.rvs(para_a,size=size_a))\n",
    "    temp=transfrom_ts_to_t(stats.poisson.rvs(para_b,size=size_b))\n",
    "    \n",
    "    time_a=size_a*para_a/(para_a+1)\n",
    "    time_b=size_b*para_b\n",
    "    \n",
    "    seq_b=[i*(time_a/time_b) for i in temp]\n",
    "\n",
    "    lis0=[]\n",
    "    for nb in range(1,21):\n",
    "        nsb=random.sample(seq_b,nb*size_b//20)\n",
    "        #print(nsb,seq_a)\n",
    "        list1=[]\n",
    "        for ti in range(0,20):\n",
    "            rate_p=pre_coin_r(ti*0.01*time_a,0,seq_a,nsb)\n",
    "            list1.append(rate_p)\n",
    "        lis0.append(list1)\n",
    "    return lis0[::-1]"
   ]
  },
  {
   "cell_type": "markdown",
   "metadata": {},
   "source": [
    "#### 计算任意两个序列的"
   ]
  },
  {
   "cell_type": "code",
   "execution_count": null,
   "metadata": {},
   "outputs": [],
   "source": [
    "def dif_nb_seq(seq_a,seq_b):\n",
    "    '''输入：事件序列a，事件序列b；\\n输出：二维列表\n",
    "    '''\n",
    "    size_a=len(seq_a)\n",
    "    size_b=len(seq_b)\n",
    "\n",
    "    time_a=seq_a[-1]\n",
    "    time_b=seq_b[-1]\n",
    "    \n",
    "    seq_b=[i*(time_a/time_b) for i in seq_b]\n",
    "\n",
    "    lis0=[]\n",
    "    for nb in range(1,21):\n",
    "        nsb=random.sample(seq_b,nb*size_b//20)\n",
    "        #print(nsb,seq_a)\n",
    "        list1=[]\n",
    "        for ti in range(0,20):\n",
    "            rate_p=pre_coin_r(ti*0.01*time_a,0,seq_a,nsb)\n",
    "            list1.append(rate_p)\n",
    "        lis0.append(list1)\n",
    "    return lis0[::-1]"
   ]
  },
  {
   "cell_type": "code",
   "execution_count": null,
   "metadata": {},
   "outputs": [],
   "source": [
    "def dif_seq_inter(seq_a,seq_b,inter=0,d_t=0):\n",
    "    '''输入：事件序列a，事件序列b，联系强度，联系延迟；\\n输出：二维列表\\n这个作用直接添加到b序列\n",
    "    '''\n",
    "    size_a=len(seq_a)\n",
    "    size_b=len(seq_b)\n",
    "    \n",
    "    seq_a=np.array(seq_a)\n",
    "    seq_b=np.array(seq_b)\n",
    "\n",
    "    time_a=seq_a[-1]\n",
    "    time_b=seq_b[-1]\n",
    "    \n",
    "    #seq_b=[i*(time_a/time_b) for i in seq_b]\n",
    "    seq_b=(time_a/time_b)*seq_b\n",
    "    \n",
    "    seq_b=np.append(seq_b,np.random.choice(seq_a,int(inter*size_a),replace=False)-d_t*time_a)\n",
    "\n",
    "    lis0=[]\n",
    "    for nb in range(1,21):\n",
    "        nsb=np.random.choice(seq_b,nb*size_b//20,replace=False)\n",
    "        #print(nsb,seq_a)\n",
    "        list1=[]\n",
    "        for ti in range(0,20):\n",
    "            rate_p=pre_coin_r(ti*0.01*time_a,0,seq_a,nsb)\n",
    "            list1.append(rate_p)\n",
    "        lis0.append(list1)\n",
    "    return lis0[::-1]"
   ]
  },
  {
   "cell_type": "code",
   "execution_count": null,
   "metadata": {},
   "outputs": [],
   "source": [
    "def dif_seq_inter2(seq_a,seq_b,inter=0,d_t=0):\n",
    "    '''输入：事件序列a，事件序列b，联系强度，联系延迟；\\n输出：二维列表\\n这个作用同时也包括了b序列的改变\n",
    "    '''\n",
    "    size_a=len(seq_a)\n",
    "    size_b=len(seq_b)\n",
    "    \n",
    "    seq_a=np.array(seq_a)\n",
    "    seq_b=np.array(seq_b)\n",
    "\n",
    "    time_a=seq_a[-1]\n",
    "    time_b=seq_b[-1]\n",
    "    \n",
    "    #seq_b=[i*(time_a/time_b) for i in seq_b]\n",
    "    seq_b=(time_a/time_b)*seq_b\n",
    "    \n",
    "    seq_b=np.append(np.random.choice(seq_b,int(size_b)-int(inter*size_a),replace=False),\n",
    "                    np.random.choice(seq_a,int(inter*size_a),replace=False)-d_t*time_a)\n",
    "\n",
    "    lis0=[]\n",
    "    for nb in range(1,21):\n",
    "        nsb=np.random.choice(seq_b,nb*size_b//20,replace=False)\n",
    "        #print(nsb,seq_a)\n",
    "        list1=[]\n",
    "        for ti in range(0,20):\n",
    "            rate_p=pre_coin_r(ti*0.01*time_a,0,seq_a,nsb)\n",
    "            list1.append(rate_p)\n",
    "        lis0.append(list1)\n",
    "    return lis0[::-1]"
   ]
  },
  {
   "cell_type": "code",
   "execution_count": null,
   "metadata": {},
   "outputs": [],
   "source": [
    "def dif_seq_inter2n(seq_a,seq_b,inter=0,d_t=0):\n",
    "    '''输入：事件序列a，事件序列b，联系强度，联系延迟；\\n输出：二维列表\\n这个作用同时也包括了b序列的改变\n",
    "    '''\n",
    "    size_a=len(seq_a)\n",
    "    size_b=len(seq_b)\n",
    "    \n",
    "    seq_a=np.array(seq_a)\n",
    "    seq_b=np.array(seq_b)\n",
    "\n",
    "    time_a=seq_a[-1]\n",
    "    time_b=seq_b[-1]\n",
    "    \n",
    "    #seq_b=[i*(time_a/time_b) for i in seq_b]\n",
    "    seq_b=(time_a/time_b)*seq_b\n",
    "    \n",
    "    seq_b=np.append(np.random.choice(seq_b,int(size_b)-int(inter*size_a),replace=False),\n",
    "                    np.random.choice(seq_a,int(inter*size_a),replace=False)-d_t*time_a)\n",
    "\n",
    "    lis0=[]\n",
    "    for nb in range(1,21):\n",
    "        nsb=np.random.choice(seq_b,nb*size_b//20,replace=False)\n",
    "        #print(nsb,seq_a)\n",
    "        list1=[]\n",
    "        for ti in range(0,20):\n",
    "            rate_p=pre_cr_(ti*0.01*time_a,0,seq_a,nsb)\n",
    "            list1.append(rate_p)\n",
    "        lis0.append(list1)\n",
    "    return lis0[::-1]"
   ]
  },
  {
   "cell_type": "markdown",
   "metadata": {},
   "source": [
    "a=[]\n",
    "for i in range(20):\n",
    "    a.append(dif_nb_pow_isson(5,5,10))"
   ]
  },
  {
   "cell_type": "markdown",
   "metadata": {},
   "source": [
    "write_two_l('pow_isson.txt',np.mean(a,axis=0))"
   ]
  },
  {
   "cell_type": "markdown",
   "metadata": {},
   "source": [
    "write_two_l('pow_isson.txt',np.std(a,axis=0))"
   ]
  },
  {
   "cell_type": "markdown",
   "metadata": {},
   "source": [
    "#### 两个事件的coinrate strong"
   ]
  },
  {
   "cell_type": "code",
   "execution_count": null,
   "metadata": {},
   "outputs": [],
   "source": [
    "def disq_cr_strong(seq_a,seq_b,delta_t=600,inter=0,d_t=0):\n",
    "    '''输入：事件序列a，事件序列b，时间窗口=600；\\n输出：二维列表\\n这个作用直接添加到b序列\n",
    "    '''\n",
    "    size_a=len(seq_a)\n",
    "    size_b=len(seq_b)\n",
    "    \n",
    "    seq_a=np.array(seq_a)\n",
    "    seq_b=np.array(seq_b)\n",
    "\n",
    "    time_a=seq_a[-1]\n",
    "    time_b=seq_b[-1]\n",
    "    \n",
    "    lis0=[]\n",
    "    for nb in range(1,21):\n",
    "        nsb=np.random.choice(seq_b,nb*size_b//20,replace=False)\n",
    "        list1=[]\n",
    "        for na in range(1,21):\n",
    "            nsa=np.random.choice(seq_a,na*size_a//20,replace=False)\n",
    "            rate_p=coinrate_strong(delta_t,nsa,nsb)\n",
    "            list1.append(rate_p)\n",
    "            print('successed ',na,nb)\n",
    "        lis0.append(list1)\n",
    "    \n",
    "    return lis0[::-1]"
   ]
  },
  {
   "cell_type": "markdown",
   "metadata": {},
   "source": [
    "#### intertime coinrate strong"
   ]
  },
  {
   "cell_type": "code",
   "execution_count": null,
   "metadata": {},
   "outputs": [],
   "source": [
    "def disq_cr_strong_inter(seq_a,seq_b,delta_t=600,):\n",
    "    '''输入：事件序列a，事件序列b，时间窗口=600；\\n输出：x、y、数据的二维列表\n",
    "    '''\n",
    "    size_a=len(seq_a)\n",
    "    size_b=len(seq_b)\n",
    "\n",
    "    seq_a=np.array(seq_a)\n",
    "    seq_b=np.array(seq_b)\n",
    "    \n",
    "    y=[]\n",
    "    lis0=[]\n",
    "    for nb in range(1,21):\n",
    "        tsb=nb*size_b//20\n",
    "        y.append(tsb)\n",
    "        nsb=np.random.choice(seq_b,tsb,replace=False)\n",
    "        nsb=transfrom_ts_to_t(nsb)\n",
    "        \n",
    "        x=[]\n",
    "        list1=[]\n",
    "        for na in range(1,21):\n",
    "            tsa=na*size_a//20\n",
    "            x.append(tsa)\n",
    "            nsa=np.random.choice(seq_a,tsa,replace=False)\n",
    "            nsa=transfrom_ts_to_t(nsa)\n",
    "            \n",
    "            rate_p=coinrate_strong(delta_t,nsa,nsb)\n",
    "            list1.append(rate_p)\n",
    "        lis0.append(list1)\n",
    "    \n",
    "    return x,y,lis0"
   ]
  },
  {
   "cell_type": "markdown",
   "metadata": {},
   "source": [
    "## 计算成功"
   ]
  },
  {
   "cell_type": "code",
   "execution_count": null,
   "metadata": {},
   "outputs": [],
   "source": [
    "print(\"coin rate calculate succeed!\")"
   ]
  }
 ],
 "metadata": {
  "kernelspec": {
   "display_name": "Python 3",
   "language": "python",
   "name": "python3"
  },
  "language_info": {
   "codemirror_mode": {
    "name": "ipython",
    "version": 3
   },
   "file_extension": ".py",
   "mimetype": "text/x-python",
   "name": "python",
   "nbconvert_exporter": "python",
   "pygments_lexer": "ipython3",
   "version": "3.7.6"
  },
  "toc": {
   "base_numbering": 1,
   "nav_menu": {
    "height": "210px",
    "width": "256px"
   },
   "number_sections": true,
   "sideBar": true,
   "skip_h1_title": false,
   "title_cell": "Table of Contents",
   "title_sidebar": "Contents",
   "toc_cell": false,
   "toc_position": {
    "height": "calc(100% - 180px)",
    "left": "10px",
    "top": "150px",
    "width": "236px"
   },
   "toc_section_display": true,
   "toc_window_display": true
  },
  "varInspector": {
   "cols": {
    "lenName": 16,
    "lenType": 16,
    "lenVar": 40
   },
   "kernels_config": {
    "python": {
     "delete_cmd_postfix": "",
     "delete_cmd_prefix": "del ",
     "library": "var_list.py",
     "varRefreshCmd": "print(var_dic_list())"
    },
    "r": {
     "delete_cmd_postfix": ") ",
     "delete_cmd_prefix": "rm(",
     "library": "var_list.r",
     "varRefreshCmd": "cat(var_dic_list()) "
    }
   },
   "types_to_exclude": [
    "module",
    "function",
    "builtin_function_or_method",
    "instance",
    "_Feature"
   ],
   "window_display": false
  }
 },
 "nbformat": 4,
 "nbformat_minor": 2
}
