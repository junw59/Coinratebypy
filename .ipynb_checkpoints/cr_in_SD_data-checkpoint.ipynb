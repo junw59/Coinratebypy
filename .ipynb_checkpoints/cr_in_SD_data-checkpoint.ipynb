{
 "cells": [
  {
   "cell_type": "markdown",
   "metadata": {},
   "source": [
    "此文件包含了对sd数据（来自公司员工的短信息交流数据）的coinrate 的计算"
   ]
  },
  {
   "cell_type": "code",
   "execution_count": null,
   "metadata": {},
   "outputs": [],
   "source": [
    "%matplotlib auto\n",
    "#弹出窗绘图"
   ]
  },
  {
   "cell_type": "code",
   "execution_count": null,
   "metadata": {},
   "outputs": [],
   "source": [
    "%matplotlib inline\n",
    "#控制台绘图"
   ]
  },
  {
   "cell_type": "code",
   "execution_count": null,
   "metadata": {},
   "outputs": [],
   "source": [
    "import matplotlib.pyplot as plt\n",
    "import matplotlib.animation as animation\n",
    "\n",
    "import pandas as pd\n",
    "import numpy as np\n",
    "import random\n",
    "import string\n",
    "import time\n",
    "import numba as nb\n",
    "\n",
    "from scipy import stats\n",
    "from mpl_toolkits.mplot3d import Axes3D\n"
   ]
  },
  {
   "cell_type": "markdown",
   "metadata": {},
   "source": [
    "---"
   ]
  },
  {
   "cell_type": "markdown",
   "metadata": {},
   "source": [
    "## 运行计算函数"
   ]
  },
  {
   "cell_type": "markdown",
   "metadata": {},
   "source": [
    "导入函数"
   ]
  },
  {
   "cell_type": "code",
   "execution_count": null,
   "metadata": {},
   "outputs": [],
   "source": [
    "%%time\n",
    "#%%prun\n",
    "\n",
    "%run ./coin_rate_calculate.ipynb\n",
    "%run ./picture_by_matplotlib.ipynb"
   ]
  },
  {
   "cell_type": "markdown",
   "metadata": {},
   "source": [
    "%run ./ 当前目录\n",
    "\n",
    "%run ../ 上一级目录"
   ]
  },
  {
   "cell_type": "markdown",
   "metadata": {},
   "source": [
    "---"
   ]
  },
  {
   "cell_type": "markdown",
   "metadata": {},
   "source": [
    "## 分析sd数据"
   ]
  },
  {
   "cell_type": "markdown",
   "metadata": {},
   "source": [
    "分析文献中的sd数据（来自公司员工的短信息交流数据）"
   ]
  },
  {
   "cell_type": "code",
   "execution_count": null,
   "metadata": {},
   "outputs": [],
   "source": [
    "pd.set_option('display.max_columns', None)  # 设置显示全部列数据\n",
    "pd.set_option('display.max_rows', None)  # 设置显示全部行数据"
   ]
  },
  {
   "cell_type": "code",
   "execution_count": null,
   "metadata": {},
   "outputs": [],
   "source": [
    "# 读取数据\n",
    "colname=['sender','recipient','timestamp']\n",
    "datel=pd.read_table('.\\\\data\\\\SD01.txt',sep='\\s+',header=None,names=colname,nrows=None)"
   ]
  },
  {
   "cell_type": "markdown",
   "metadata": {},
   "source": [
    "---"
   ]
  },
  {
   "cell_type": "code",
   "execution_count": null,
   "metadata": {},
   "outputs": [],
   "source": [
    "temp1=datel[datel.sender==136].loc[:,'timestamp']\n",
    "temp2=datel[datel.sender==135].loc[:,'timestamp']\n",
    "pre_cr_(600,0,temp1,temp2)"
   ]
  },
  {
   "cell_type": "code",
   "execution_count": null,
   "metadata": {},
   "outputs": [],
   "source": [
    "# 获取活跃的用户的信息\n",
    "unknow=pd.value_counts(datel.loc[:,'sender'])\n",
    "indx_3=unknow[unknow>1000].index"
   ]
  },
  {
   "cell_type": "code",
   "execution_count": null,
   "metadata": {
    "scrolled": true
   },
   "outputs": [],
   "source": [
    "# 生成二维空表格\n",
    "neta=pd.DataFrame(np.zeros((24,24)),index=indx_3,columns=indx_3)\n",
    "neta"
   ]
  },
  {
   "cell_type": "code",
   "execution_count": null,
   "metadata": {},
   "outputs": [],
   "source": [
    "# 将计算得到的coinrate填充到二维空表格\n",
    "for ind in indx_3:\n",
    "    for col in indx_3:\n",
    "        if ind==col:\n",
    "            continue\n",
    "        tp1=datel[datel.sender==ind].loc[:,'timestamp']\n",
    "        tp2=datel[datel.sender==col].loc[:,'timestamp']\n",
    "        neta.loc[ind,col]=pre_cr_(600,0,tp1,tp2)"
   ]
  },
  {
   "cell_type": "code",
   "execution_count": null,
   "metadata": {},
   "outputs": [],
   "source": [
    "# 更改表格字体颜色的准备\n",
    "def showcolor(val):\n",
    "    if val>0.5:\n",
    "        color='red'\n",
    "    elif val>0.2:\n",
    "        color='green'\n",
    "    else :\n",
    "        color='blank'\n",
    "    return 'color:%s'%color"
   ]
  },
  {
   "cell_type": "code",
   "execution_count": null,
   "metadata": {
    "scrolled": false
   },
   "outputs": [],
   "source": [
    "# 更改表格的颜色并展示\n",
    "neta.round(decimals=2).style.applymap(showcolor)"
   ]
  },
  {
   "cell_type": "raw",
   "metadata": {},
   "source": [
    "xxxxx.style.highlight_max(color='yellow',axis=0)"
   ]
  },
  {
   "cell_type": "code",
   "execution_count": null,
   "metadata": {},
   "outputs": [],
   "source": [
    "# 直接从数据中的收发信人数据计算关系\n",
    "def sendemax(sd):\n",
    "    showz=datel[datel.sender==sd].loc[:,'recipient']\n",
    "    showzc=pd.value_counts(showz)\n",
    "    #print(showzc.iloc[0]/showzc)\n",
    "    rate=showzc.iloc[0]/showz.count()  #计算sender发送的信息中发给的最多的人的信息占比\n",
    "    mro=showzc.index[0]\n",
    "    print('sender is %5d and max rate object %5d is %.3f'%(sd,mro,rate),mro in indx_3)"
   ]
  },
  {
   "cell_type": "code",
   "execution_count": null,
   "metadata": {},
   "outputs": [],
   "source": [
    "# 将所有联系展示\n",
    "for i in indx_3:\n",
    "    sendemax(i)"
   ]
  },
  {
   "cell_type": "code",
   "execution_count": null,
   "metadata": {},
   "outputs": [],
   "source": []
  },
  {
   "cell_type": "code",
   "execution_count": null,
   "metadata": {},
   "outputs": [],
   "source": []
  }
 ],
 "metadata": {
  "kernelspec": {
   "display_name": "Python 3",
   "language": "python",
   "name": "python3"
  },
  "language_info": {
   "codemirror_mode": {
    "name": "ipython",
    "version": 3
   },
   "file_extension": ".py",
   "mimetype": "text/x-python",
   "name": "python",
   "nbconvert_exporter": "python",
   "pygments_lexer": "ipython3",
   "version": "3.7.1"
  }
 },
 "nbformat": 4,
 "nbformat_minor": 2
}
