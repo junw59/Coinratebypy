{
 "cells": [
  {
   "cell_type": "markdown",
   "metadata": {},
   "source": [
    "此文件包含了对sd数据（来自公司员工的短信息交流数据）的coinrate 的计算"
   ]
  },
  {
   "cell_type": "code",
   "execution_count": null,
   "metadata": {},
   "outputs": [],
   "source": [
    "%matplotlib auto\n",
    "#弹出窗绘图"
   ]
  },
  {
   "cell_type": "code",
   "execution_count": null,
   "metadata": {},
   "outputs": [],
   "source": [
    "%matplotlib inline\n",
    "#控制台绘图"
   ]
  },
  {
   "cell_type": "code",
   "execution_count": null,
   "metadata": {},
   "outputs": [],
   "source": [
    "import matplotlib.pyplot as plt\n",
    "import matplotlib.animation as animation\n",
    "\n",
    "import pandas as pd\n",
    "import numpy as np\n",
    "import random\n",
    "import string\n",
    "import time\n",
    "import numba as nb\n",
    "import networkx as nx\n",
    "\n",
    "from scipy import stats\n",
    "from mpl_toolkits.mplot3d import Axes3D\n"
   ]
  },
  {
   "cell_type": "markdown",
   "metadata": {},
   "source": [
    "---"
   ]
  },
  {
   "cell_type": "markdown",
   "metadata": {},
   "source": [
    "## 运行计算函数"
   ]
  },
  {
   "cell_type": "markdown",
   "metadata": {},
   "source": [
    "导入函数"
   ]
  },
  {
   "cell_type": "code",
   "execution_count": null,
   "metadata": {},
   "outputs": [],
   "source": [
    "%%time\n",
    "#%%prun\n",
    "\n",
    "%run ./coin_rate_calculate.ipynb\n",
    "%run ./picture_by_matplotlib.ipynb"
   ]
  },
  {
   "cell_type": "markdown",
   "metadata": {},
   "source": [
    "%run ./ 当前目录\n",
    "\n",
    "%run ../ 上一级目录"
   ]
  },
  {
   "cell_type": "markdown",
   "metadata": {},
   "source": [
    "---"
   ]
  },
  {
   "cell_type": "markdown",
   "metadata": {},
   "source": [
    "## 分析sd数据"
   ]
  },
  {
   "cell_type": "markdown",
   "metadata": {},
   "source": [
    "### 读取数据"
   ]
  },
  {
   "cell_type": "markdown",
   "metadata": {},
   "source": [
    "分析文献中的sd数据（来自公司员工的短信息交流数据）"
   ]
  },
  {
   "cell_type": "code",
   "execution_count": null,
   "metadata": {},
   "outputs": [],
   "source": [
    "pd.set_option('display.max_columns', 10,'display.max_rows', 10)  # 设置显示全部列数据行数据"
   ]
  },
  {
   "cell_type": "code",
   "execution_count": null,
   "metadata": {},
   "outputs": [],
   "source": [
    "# 读取数据\n",
    "colname=['sender','recipient','timestamp']\n",
    "datel=pd.read_table('.\\\\data\\\\SD01.txt',sep='\\s+',header=None,names=colname,nrows=None)"
   ]
  },
  {
   "cell_type": "markdown",
   "metadata": {},
   "source": [
    "---"
   ]
  },
  {
   "cell_type": "code",
   "execution_count": null,
   "metadata": {},
   "outputs": [],
   "source": [
    "temp1=datel[datel.sender==136].loc[:,'timestamp']\n",
    "temp2=datel[datel.sender==135].loc[:,'timestamp']\n",
    "pre_cr_(600,0,temp1,temp2)"
   ]
  },
  {
   "cell_type": "code",
   "execution_count": null,
   "metadata": {},
   "outputs": [],
   "source": [
    "%%time\n",
    "pre_cr_(600,0,temp1,temp2)"
   ]
  },
  {
   "cell_type": "code",
   "execution_count": null,
   "metadata": {},
   "outputs": [],
   "source": [
    "%%time\n",
    "pre_coin_r(600,0,temp1,temp2)"
   ]
  },
  {
   "cell_type": "code",
   "execution_count": null,
   "metadata": {},
   "outputs": [],
   "source": [
    "pre_cr_center(600,0,temp1,temp2)"
   ]
  },
  {
   "cell_type": "code",
   "execution_count": null,
   "metadata": {},
   "outputs": [],
   "source": [
    "# 获取活跃的用户的信息，发送信息大于一定值的用户\n",
    "unknow=pd.value_counts(datel.loc[:,'sender'])\n",
    "indx_3=unknow[unknow>500].index"
   ]
  },
  {
   "cell_type": "markdown",
   "metadata": {},
   "source": [
    "---"
   ]
  },
  {
   "cell_type": "markdown",
   "metadata": {},
   "source": [
    "### 计算coinrate"
   ]
  },
  {
   "cell_type": "code",
   "execution_count": null,
   "metadata": {},
   "outputs": [],
   "source": [
    "# 生成二维空表格\n",
    "neta=pd.DataFrame(np.zeros((len(indx_3),len(indx_3))),index=indx_3,columns=indx_3)\n",
    "neta"
   ]
  },
  {
   "cell_type": "code",
   "execution_count": null,
   "metadata": {},
   "outputs": [],
   "source": [
    "# 二维数据中，行对象作为列对象的pre来计算,行对象与列对象的关联占行对象的比例\n",
    "\n",
    "# 将计算得到的coinrate填充到二维空表格\n",
    "for ind in indx_3:\n",
    "    for col in indx_3:\n",
    "        if ind==col:\n",
    "            continue\n",
    "        tp1=datel[datel.sender==ind].loc[:,'timestamp']\n",
    "        tp2=datel[datel.sender==col].loc[:,'timestamp']\n",
    "        neta.loc[ind,col]=pre_cr_(600,0,tp1,tp2)"
   ]
  },
  {
   "cell_type": "code",
   "execution_count": null,
   "metadata": {},
   "outputs": [],
   "source": [
    "# 更改表格字体颜色的准备\n",
    "def showcolor(val):\n",
    "    if val>0.5:\n",
    "        color='red'\n",
    "    elif val>0.2:\n",
    "        color='green'\n",
    "    else :\n",
    "        color='blank'\n",
    "    return 'color:%s'%color"
   ]
  },
  {
   "cell_type": "code",
   "execution_count": null,
   "metadata": {},
   "outputs": [],
   "source": [
    "# 存储变量到其他文件中也可使用\n",
    "new=neta.round(2)\n",
    "%store new\n",
    "%store indx_3"
   ]
  },
  {
   "cell_type": "code",
   "execution_count": null,
   "metadata": {
    "code_folding": []
   },
   "outputs": [],
   "source": [
    "# 更改表格的颜色并展示\n",
    "neta.round(decimals=2).style.applymap(showcolor)"
   ]
  },
  {
   "cell_type": "raw",
   "metadata": {},
   "source": [
    "xxxxx.style.highlight_max(color='yellow',axis=0)"
   ]
  },
  {
   "cell_type": "markdown",
   "metadata": {},
   "source": [
    "---"
   ]
  },
  {
   "cell_type": "markdown",
   "metadata": {},
   "source": [
    "### 直接通过数据计算"
   ]
  },
  {
   "cell_type": "code",
   "execution_count": null,
   "metadata": {},
   "outputs": [],
   "source": [
    "# 直接从数据中的收发信人数据计算关系\n",
    "def sendemax(sd):\n",
    "    showz=datel[datel.sender==sd].loc[:,'recipient']\n",
    "    showzc=pd.value_counts(showz)\n",
    "    #print(showzc.iloc[0]/showzc)\n",
    "    rate=showzc.iloc[0]/showz.count()  #计算sender发送的信息中发给的最多的人的信息占比\n",
    "    mro=showzc.index[0]\n",
    "    print('sender is %5d and max rate object %5d is %.3f'%(sd,mro,rate),mro in indx_3)"
   ]
  },
  {
   "cell_type": "code",
   "execution_count": null,
   "metadata": {},
   "outputs": [],
   "source": [
    "# 将所有联系展示\n",
    "for i in indx_3:\n",
    "    sendemax(i)"
   ]
  },
  {
   "cell_type": "markdown",
   "metadata": {},
   "source": [
    "---"
   ]
  },
  {
   "cell_type": "markdown",
   "metadata": {},
   "source": [
    "### 画出网络图"
   ]
  },
  {
   "cell_type": "markdown",
   "metadata": {},
   "source": [
    "#### 设置节点和边"
   ]
  },
  {
   "cell_type": "markdown",
   "metadata": {},
   "source": [
    "用箭头表示联系的流向，例如：a->b，意味着a的信息大多发给了b"
   ]
  },
  {
   "cell_type": "code",
   "execution_count": null,
   "metadata": {},
   "outputs": [],
   "source": [
    "# 第一个数是行，第二个数是列\n",
    "data_5=np.where(neta>0.5)"
   ]
  },
  {
   "cell_type": "code",
   "execution_count": null,
   "metadata": {},
   "outputs": [],
   "source": [
    "len(indx_3)"
   ]
  },
  {
   "cell_type": "code",
   "execution_count": null,
   "metadata": {},
   "outputs": [],
   "source": [
    "data_5"
   ]
  },
  {
   "cell_type": "code",
   "execution_count": null,
   "metadata": {},
   "outputs": [],
   "source": [
    "da5_edge=[]\n",
    "for i in range(len(data_5[0])):\n",
    "    x1=data_5[0][i]\n",
    "    x2=data_5[1][i]\n",
    "    da5_edge.append((indx_3[x1],indx_3[x2]))\n",
    "    print(x1,x2,'\\tindex:\\t',indx_3[x1],indx_3[x2])\n",
    "print(da5_edge)"
   ]
  },
  {
   "cell_type": "markdown",
   "metadata": {},
   "source": [
    "---"
   ]
  },
  {
   "cell_type": "markdown",
   "metadata": {},
   "source": [
    "#### 画出有向网络图"
   ]
  },
  {
   "cell_type": "code",
   "execution_count": null,
   "metadata": {},
   "outputs": [],
   "source": [
    "sd_g=nx.DiGraph()\n",
    "sd_g.add_nodes_from(indx_3)\n",
    "sd_g.add_edges_from(da5_edge)"
   ]
  },
  {
   "cell_type": "code",
   "execution_count": null,
   "metadata": {},
   "outputs": [],
   "source": [
    "# 这个是来自SD01的数据，挑选了发送信息数大于一定值的用户,绘制出了网络图\n",
    "\n",
    "# 支持中文\n",
    "plt.rcParams['font.sans-serif'] = ['SimHei']  # 用来正常显示中文标签\n",
    "plt.rcParams['axes.unicode_minus'] = False  # 用来正常显示负号\n",
    "# 有中文出现，需要用u'内容'\n",
    "\n",
    "plt.figure(figsize=(20,20))\n",
    "text=u'节点是发送信息数大于500的用户,\\n用户数是%d,coinrate>0.5就连边'%(len(indx_3))\n",
    "nx.draw(sd_g,\n",
    "        with_labels=True,\n",
    "        node_color='SpringGreen',\n",
    "        edge_color='royalblue',\n",
    "        node_size=500,\n",
    "        width=1.5,\n",
    "        arrowstyle='->',\n",
    "#         pos=nx.circular_layout(sd),        \n",
    "        pos=nx.kamada_kawai_layout(sd_g),\n",
    "        )\n",
    "# plt.title('network')\n",
    "plt.text(0,0,text,fontdict={'color':'orangered','size':20})\n",
    "plt.savefig('.\\\\data\\\\network_SD01_u500_c.5.png')\n",
    "plt.show()"
   ]
  },
  {
   "cell_type": "code",
   "execution_count": null,
   "metadata": {},
   "outputs": [],
   "source": []
  }
 ],
 "metadata": {
  "kernelspec": {
   "display_name": "Python 3",
   "language": "python",
   "name": "python3"
  },
  "language_info": {
   "codemirror_mode": {
    "name": "ipython",
    "version": 3
   },
   "file_extension": ".py",
   "mimetype": "text/x-python",
   "name": "python",
   "nbconvert_exporter": "python",
   "pygments_lexer": "ipython3",
   "version": "3.7.1"
  }
 },
 "nbformat": 4,
 "nbformat_minor": 2
}
