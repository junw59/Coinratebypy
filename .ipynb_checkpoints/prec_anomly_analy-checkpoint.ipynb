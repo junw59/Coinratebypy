{
 "cells": [
  {
   "cell_type": "code",
   "execution_count": 1,
   "metadata": {},
   "outputs": [],
   "source": [
    "from __future__ import print_function, division\n",
    "import pandas as pd\n",
    "import numpy as np\n",
    "import matplotlib as mpl\n",
    "import matplotlib.pyplot as plt"
   ]
  },
  {
   "cell_type": "code",
   "execution_count": 2,
   "metadata": {},
   "outputs": [],
   "source": [
    "%matplotlib inline\n",
    "# 控制台模式"
   ]
  },
  {
   "cell_type": "code",
   "execution_count": null,
   "metadata": {},
   "outputs": [],
   "source": [
    "%matplotlib auto\n",
    "# 弹出窗模式"
   ]
  },
  {
   "cell_type": "markdown",
   "metadata": {},
   "source": [
    "---"
   ]
  },
  {
   "cell_type": "markdown",
   "metadata": {},
   "source": [
    "## 分析气象数据"
   ]
  },
  {
   "cell_type": "markdown",
   "metadata": {},
   "source": [
    "为了分析气象数据而计算的"
   ]
  },
  {
   "cell_type": "markdown",
   "metadata": {},
   "source": [
    "---"
   ]
  },
  {
   "cell_type": "code",
   "execution_count": 3,
   "metadata": {},
   "outputs": [],
   "source": [
    "pd.set_option('max_columns',10, 'max_rows',10)\n",
    "doc_path='.\\data\\prec_anomly19792018.txt'"
   ]
  },
  {
   "cell_type": "markdown",
   "metadata": {},
   "source": [
    "### 读取数据"
   ]
  },
  {
   "cell_type": "code",
   "execution_count": 4,
   "metadata": {},
   "outputs": [],
   "source": [
    "meta_data=pd.read_table(doc_path,header=None,)"
   ]
  },
  {
   "cell_type": "code",
   "execution_count": 5,
   "metadata": {},
   "outputs": [
    {
     "data": {
      "text/html": [
       "<div>\n",
       "<style scoped>\n",
       "    .dataframe tbody tr th:only-of-type {\n",
       "        vertical-align: middle;\n",
       "    }\n",
       "\n",
       "    .dataframe tbody tr th {\n",
       "        vertical-align: top;\n",
       "    }\n",
       "\n",
       "    .dataframe thead th {\n",
       "        text-align: right;\n",
       "    }\n",
       "</style>\n",
       "<table border=\"1\" class=\"dataframe\">\n",
       "  <thead>\n",
       "    <tr style=\"text-align: right;\">\n",
       "      <th></th>\n",
       "      <th>0</th>\n",
       "      <th>1</th>\n",
       "      <th>2</th>\n",
       "      <th>3</th>\n",
       "      <th>4</th>\n",
       "      <th>...</th>\n",
       "      <th>360</th>\n",
       "      <th>361</th>\n",
       "      <th>362</th>\n",
       "      <th>363</th>\n",
       "      <th>364</th>\n",
       "    </tr>\n",
       "  </thead>\n",
       "  <tbody>\n",
       "    <tr>\n",
       "      <th>0</th>\n",
       "      <td>-0.741253</td>\n",
       "      <td>-0.645359</td>\n",
       "      <td>-0.478725</td>\n",
       "      <td>-0.896056</td>\n",
       "      <td>-0.698506</td>\n",
       "      <td>...</td>\n",
       "      <td>-0.018607</td>\n",
       "      <td>-0.175278</td>\n",
       "      <td>0.586762</td>\n",
       "      <td>1.047256</td>\n",
       "      <td>0.590309</td>\n",
       "    </tr>\n",
       "    <tr>\n",
       "      <th>1</th>\n",
       "      <td>-0.415666</td>\n",
       "      <td>0.268264</td>\n",
       "      <td>0.645811</td>\n",
       "      <td>1.924474</td>\n",
       "      <td>2.794995</td>\n",
       "      <td>...</td>\n",
       "      <td>0.648098</td>\n",
       "      <td>0.070388</td>\n",
       "      <td>0.095490</td>\n",
       "      <td>0.137780</td>\n",
       "      <td>0.899387</td>\n",
       "    </tr>\n",
       "    <tr>\n",
       "      <th>2</th>\n",
       "      <td>2.382072</td>\n",
       "      <td>-0.411710</td>\n",
       "      <td>-0.311848</td>\n",
       "      <td>-0.630245</td>\n",
       "      <td>-0.750757</td>\n",
       "      <td>...</td>\n",
       "      <td>0.011480</td>\n",
       "      <td>-0.095601</td>\n",
       "      <td>0.478067</td>\n",
       "      <td>2.137432</td>\n",
       "      <td>-0.375406</td>\n",
       "    </tr>\n",
       "    <tr>\n",
       "      <th>3</th>\n",
       "      <td>-0.827786</td>\n",
       "      <td>-0.639185</td>\n",
       "      <td>-0.277071</td>\n",
       "      <td>1.072752</td>\n",
       "      <td>0.523759</td>\n",
       "      <td>...</td>\n",
       "      <td>2.137651</td>\n",
       "      <td>-0.270193</td>\n",
       "      <td>-0.731400</td>\n",
       "      <td>-0.493505</td>\n",
       "      <td>0.748455</td>\n",
       "    </tr>\n",
       "    <tr>\n",
       "      <th>4</th>\n",
       "      <td>-0.001910</td>\n",
       "      <td>-0.071389</td>\n",
       "      <td>-0.580977</td>\n",
       "      <td>-0.916697</td>\n",
       "      <td>-0.762958</td>\n",
       "      <td>...</td>\n",
       "      <td>-0.088155</td>\n",
       "      <td>-0.317922</td>\n",
       "      <td>-0.295627</td>\n",
       "      <td>-0.371823</td>\n",
       "      <td>-0.566176</td>\n",
       "    </tr>\n",
       "    <tr>\n",
       "      <th>...</th>\n",
       "      <td>...</td>\n",
       "      <td>...</td>\n",
       "      <td>...</td>\n",
       "      <td>...</td>\n",
       "      <td>...</td>\n",
       "      <td>...</td>\n",
       "      <td>...</td>\n",
       "      <td>...</td>\n",
       "      <td>...</td>\n",
       "      <td>...</td>\n",
       "      <td>...</td>\n",
       "    </tr>\n",
       "    <tr>\n",
       "      <th>35</th>\n",
       "      <td>-1.043611</td>\n",
       "      <td>-0.807714</td>\n",
       "      <td>-0.505089</td>\n",
       "      <td>-0.664845</td>\n",
       "      <td>-0.640764</td>\n",
       "      <td>...</td>\n",
       "      <td>-0.733755</td>\n",
       "      <td>-1.009730</td>\n",
       "      <td>-0.996886</td>\n",
       "      <td>-0.594579</td>\n",
       "      <td>0.306862</td>\n",
       "    </tr>\n",
       "    <tr>\n",
       "      <th>36</th>\n",
       "      <td>-0.608416</td>\n",
       "      <td>-0.630382</td>\n",
       "      <td>-0.031259</td>\n",
       "      <td>0.133204</td>\n",
       "      <td>-0.451408</td>\n",
       "      <td>...</td>\n",
       "      <td>-0.740063</td>\n",
       "      <td>-1.008006</td>\n",
       "      <td>-0.807867</td>\n",
       "      <td>-0.698847</td>\n",
       "      <td>-0.637335</td>\n",
       "    </tr>\n",
       "    <tr>\n",
       "      <th>37</th>\n",
       "      <td>-0.240705</td>\n",
       "      <td>-0.303384</td>\n",
       "      <td>-0.587043</td>\n",
       "      <td>-0.111717</td>\n",
       "      <td>-0.104185</td>\n",
       "      <td>...</td>\n",
       "      <td>-0.519735</td>\n",
       "      <td>-0.916058</td>\n",
       "      <td>-0.697327</td>\n",
       "      <td>-0.766009</td>\n",
       "      <td>-0.871450</td>\n",
       "    </tr>\n",
       "    <tr>\n",
       "      <th>38</th>\n",
       "      <td>-1.039000</td>\n",
       "      <td>-0.638312</td>\n",
       "      <td>-0.383609</td>\n",
       "      <td>-0.697093</td>\n",
       "      <td>-0.739865</td>\n",
       "      <td>...</td>\n",
       "      <td>-0.610935</td>\n",
       "      <td>-0.575137</td>\n",
       "      <td>-0.818874</td>\n",
       "      <td>-0.846065</td>\n",
       "      <td>-0.627816</td>\n",
       "    </tr>\n",
       "    <tr>\n",
       "      <th>39</th>\n",
       "      <td>-0.705481</td>\n",
       "      <td>-0.507595</td>\n",
       "      <td>-0.450736</td>\n",
       "      <td>-0.252793</td>\n",
       "      <td>0.244516</td>\n",
       "      <td>...</td>\n",
       "      <td>-0.753145</td>\n",
       "      <td>-1.000000</td>\n",
       "      <td>-0.961877</td>\n",
       "      <td>-0.803010</td>\n",
       "      <td>-0.541691</td>\n",
       "    </tr>\n",
       "  </tbody>\n",
       "</table>\n",
       "<p>40 rows × 365 columns</p>\n",
       "</div>"
      ],
      "text/plain": [
       "         0         1         2         3         4      ...          360  \\\n",
       "0  -0.741253 -0.645359 -0.478725 -0.896056 -0.698506    ...    -0.018607   \n",
       "1  -0.415666  0.268264  0.645811  1.924474  2.794995    ...     0.648098   \n",
       "2   2.382072 -0.411710 -0.311848 -0.630245 -0.750757    ...     0.011480   \n",
       "3  -0.827786 -0.639185 -0.277071  1.072752  0.523759    ...     2.137651   \n",
       "4  -0.001910 -0.071389 -0.580977 -0.916697 -0.762958    ...    -0.088155   \n",
       "..       ...       ...       ...       ...       ...    ...          ...   \n",
       "35 -1.043611 -0.807714 -0.505089 -0.664845 -0.640764    ...    -0.733755   \n",
       "36 -0.608416 -0.630382 -0.031259  0.133204 -0.451408    ...    -0.740063   \n",
       "37 -0.240705 -0.303384 -0.587043 -0.111717 -0.104185    ...    -0.519735   \n",
       "38 -1.039000 -0.638312 -0.383609 -0.697093 -0.739865    ...    -0.610935   \n",
       "39 -0.705481 -0.507595 -0.450736 -0.252793  0.244516    ...    -0.753145   \n",
       "\n",
       "         361       362       363       364  \n",
       "0  -0.175278  0.586762  1.047256  0.590309  \n",
       "1   0.070388  0.095490  0.137780  0.899387  \n",
       "2  -0.095601  0.478067  2.137432 -0.375406  \n",
       "3  -0.270193 -0.731400 -0.493505  0.748455  \n",
       "4  -0.317922 -0.295627 -0.371823 -0.566176  \n",
       "..       ...       ...       ...       ...  \n",
       "35 -1.009730 -0.996886 -0.594579  0.306862  \n",
       "36 -1.008006 -0.807867 -0.698847 -0.637335  \n",
       "37 -0.916058 -0.697327 -0.766009 -0.871450  \n",
       "38 -0.575137 -0.818874 -0.846065 -0.627816  \n",
       "39 -1.000000 -0.961877 -0.803010 -0.541691  \n",
       "\n",
       "[40 rows x 365 columns]"
      ]
     },
     "execution_count": 5,
     "metadata": {},
     "output_type": "execute_result"
    }
   ],
   "source": [
    "meta_data"
   ]
  },
  {
   "cell_type": "code",
   "execution_count": 6,
   "metadata": {},
   "outputs": [],
   "source": [
    "one_data=np.array(meta_data).flatten()"
   ]
  },
  {
   "cell_type": "code",
   "execution_count": 7,
   "metadata": {},
   "outputs": [
    {
     "data": {
      "text/plain": [
       "1.301369857781363e-09"
      ]
     },
     "execution_count": 7,
     "metadata": {},
     "output_type": "execute_result"
    }
   ],
   "source": [
    "one_data.mean()"
   ]
  },
  {
   "cell_type": "code",
   "execution_count": 8,
   "metadata": {},
   "outputs": [
    {
     "data": {
      "text/plain": [
       "14600"
      ]
     },
     "execution_count": 8,
     "metadata": {},
     "output_type": "execute_result"
    }
   ],
   "source": [
    "len(one_data)"
   ]
  },
  {
   "cell_type": "code",
   "execution_count": 9,
   "metadata": {},
   "outputs": [
    {
     "data": {
      "text/plain": [
       "array([    0,     1,     2, ..., 14597, 14598, 14599])"
      ]
     },
     "execution_count": 9,
     "metadata": {},
     "output_type": "execute_result"
    }
   ],
   "source": [
    "np.arange(len(one_data))"
   ]
  },
  {
   "cell_type": "markdown",
   "metadata": {},
   "source": [
    "---"
   ]
  },
  {
   "cell_type": "markdown",
   "metadata": {},
   "source": [
    "### 极端事件"
   ]
  },
  {
   "cell_type": "code",
   "execution_count": 10,
   "metadata": {},
   "outputs": [],
   "source": [
    "def extrme_e(data,all_data,p=3):\n",
    "    '''定义极端事件，大于均值±p个标准差\n",
    "    data为极端事件则返回True\n",
    "    '''\n",
    "    mean=np.array(all_data).mean()\n",
    "    std=np.array(all_data).std()\n",
    "    if (data>mean-p*std) and (data<mean+p*std):\n",
    "        return False\n",
    "    else:\n",
    "        return True"
   ]
  },
  {
   "cell_type": "markdown",
   "metadata": {},
   "source": [
    "---"
   ]
  },
  {
   "cell_type": "markdown",
   "metadata": {},
   "source": [
    "### 绘图"
   ]
  },
  {
   "cell_type": "code",
   "execution_count": 11,
   "metadata": {},
   "outputs": [],
   "source": [
    "# 获取极端事件的字典\n",
    "ex_events=[]\n",
    "time_lists=[]\n",
    "# 记录极端事件发生的时间\n",
    "\n",
    "time=0\n",
    "for i in one_data:\n",
    "    if extrme_e(i,one_data,p=1):\n",
    "        time_lists.append(time)\n",
    "        ex_events.append(i)\n",
    "    time+=1\n",
    "\n",
    "extrme_dic={'time':time_lists,'events':ex_events}\n",
    "ex_df=pd.DataFrame(extrme_dic)"
   ]
  },
  {
   "cell_type": "code",
   "execution_count": 13,
   "metadata": {},
   "outputs": [
    {
     "data": {
      "text/plain": [
       "2028"
      ]
     },
     "execution_count": 13,
     "metadata": {},
     "output_type": "execute_result"
    }
   ],
   "source": [
    "len(extrme_dic['time'])"
   ]
  },
  {
   "cell_type": "code",
   "execution_count": 14,
   "metadata": {
    "scrolled": false
   },
   "outputs": [],
   "source": [
    "ex_df['delta_time']=(ex_df['time']-ex_df['time'].shift(1)).fillna(0)"
   ]
  },
  {
   "cell_type": "code",
   "execution_count": 15,
   "metadata": {
    "scrolled": false
   },
   "outputs": [
    {
     "data": {
      "text/html": [
       "<div>\n",
       "<style scoped>\n",
       "    .dataframe tbody tr th:only-of-type {\n",
       "        vertical-align: middle;\n",
       "    }\n",
       "\n",
       "    .dataframe tbody tr th {\n",
       "        vertical-align: top;\n",
       "    }\n",
       "\n",
       "    .dataframe thead th {\n",
       "        text-align: right;\n",
       "    }\n",
       "</style>\n",
       "<table border=\"1\" class=\"dataframe\">\n",
       "  <thead>\n",
       "    <tr style=\"text-align: right;\">\n",
       "      <th></th>\n",
       "      <th>time</th>\n",
       "      <th>events</th>\n",
       "      <th>delta_time</th>\n",
       "    </tr>\n",
       "  </thead>\n",
       "  <tbody>\n",
       "    <tr>\n",
       "      <th>0</th>\n",
       "      <td>14</td>\n",
       "      <td>3.557784</td>\n",
       "      <td>0.0</td>\n",
       "    </tr>\n",
       "    <tr>\n",
       "      <th>1</th>\n",
       "      <td>15</td>\n",
       "      <td>3.520218</td>\n",
       "      <td>1.0</td>\n",
       "    </tr>\n",
       "    <tr>\n",
       "      <th>2</th>\n",
       "      <td>16</td>\n",
       "      <td>2.154095</td>\n",
       "      <td>1.0</td>\n",
       "    </tr>\n",
       "    <tr>\n",
       "      <th>3</th>\n",
       "      <td>17</td>\n",
       "      <td>1.681056</td>\n",
       "      <td>1.0</td>\n",
       "    </tr>\n",
       "    <tr>\n",
       "      <th>4</th>\n",
       "      <td>18</td>\n",
       "      <td>1.322898</td>\n",
       "      <td>1.0</td>\n",
       "    </tr>\n",
       "    <tr>\n",
       "      <th>...</th>\n",
       "      <td>...</td>\n",
       "      <td>...</td>\n",
       "      <td>...</td>\n",
       "    </tr>\n",
       "    <tr>\n",
       "      <th>2023</th>\n",
       "      <td>14574</td>\n",
       "      <td>4.746892</td>\n",
       "      <td>1.0</td>\n",
       "    </tr>\n",
       "    <tr>\n",
       "      <th>2024</th>\n",
       "      <td>14578</td>\n",
       "      <td>3.908970</td>\n",
       "      <td>4.0</td>\n",
       "    </tr>\n",
       "    <tr>\n",
       "      <th>2025</th>\n",
       "      <td>14586</td>\n",
       "      <td>1.357513</td>\n",
       "      <td>8.0</td>\n",
       "    </tr>\n",
       "    <tr>\n",
       "      <th>2026</th>\n",
       "      <td>14592</td>\n",
       "      <td>1.679382</td>\n",
       "      <td>6.0</td>\n",
       "    </tr>\n",
       "    <tr>\n",
       "      <th>2027</th>\n",
       "      <td>14596</td>\n",
       "      <td>-1.000000</td>\n",
       "      <td>4.0</td>\n",
       "    </tr>\n",
       "  </tbody>\n",
       "</table>\n",
       "<p>2028 rows × 3 columns</p>\n",
       "</div>"
      ],
      "text/plain": [
       "       time    events  delta_time\n",
       "0        14  3.557784         0.0\n",
       "1        15  3.520218         1.0\n",
       "2        16  2.154095         1.0\n",
       "3        17  1.681056         1.0\n",
       "4        18  1.322898         1.0\n",
       "...     ...       ...         ...\n",
       "2023  14574  4.746892         1.0\n",
       "2024  14578  3.908970         4.0\n",
       "2025  14586  1.357513         8.0\n",
       "2026  14592  1.679382         6.0\n",
       "2027  14596 -1.000000         4.0\n",
       "\n",
       "[2028 rows x 3 columns]"
      ]
     },
     "execution_count": 15,
     "metadata": {},
     "output_type": "execute_result"
    }
   ],
   "source": [
    "ex_df"
   ]
  },
  {
   "cell_type": "code",
   "execution_count": 16,
   "metadata": {},
   "outputs": [
    {
     "data": {
      "text/plain": [
       "0      14\n",
       "1      15\n",
       "2      16\n",
       "3      17\n",
       "4      18\n",
       "     ... \n",
       "42    322\n",
       "43    332\n",
       "44    351\n",
       "45    353\n",
       "46    363\n",
       "Name: time, Length: 47, dtype: int64"
      ]
     },
     "execution_count": 16,
     "metadata": {},
     "output_type": "execute_result"
    }
   ],
   "source": [
    "ex_df[ex_df.time<365].loc[:,'time']"
   ]
  },
  {
   "cell_type": "markdown",
   "metadata": {},
   "source": [
    "---"
   ]
  },
  {
   "cell_type": "code",
   "execution_count": 17,
   "metadata": {},
   "outputs": [
    {
     "data": {
      "text/plain": [
       "1.301369857781363e-09"
      ]
     },
     "execution_count": 17,
     "metadata": {},
     "output_type": "execute_result"
    }
   ],
   "source": [
    "np.array(one_data).mean()"
   ]
  },
  {
   "cell_type": "code",
   "execution_count": null,
   "metadata": {
    "scrolled": false
   },
   "outputs": [],
   "source": [
    "fig,ax=plt.subplots(figsize=(50,10))\n",
    "# ax.vlines(ex_df.loc[:,'time'],0,ex_df.loc[:,'events'],color='navy')\n",
    "\n",
    "ax.vlines(np.arange(len(one_data)),0,one_data,color='navy')\n",
    "\n",
    "d_mean=np.array(one_data).mean()\n",
    "d_std=np.array(one_data).std()\n",
    "\n",
    "ax.axhline(d_mean,color='lime',lw=5,label='mean')\n",
    "\n",
    "ax.axhline(d_mean-d_std,color='brown',lw=5,label='mean±std')\n",
    "ax.axhline(d_mean+d_std,color='brown',lw=5)\n",
    "\n",
    "ax.set_xlabel('time(day)',font)\n",
    "ax.set_title('all year',font)\n",
    "\n",
    "ax.legend()\n",
    "\n",
    "# fig.savefig('.//data//prec_anomly/prec_all_year.jpg',dpi=72, bbox_inches = 'tight')\n",
    "\n",
    "fig.show()"
   ]
  },
  {
   "cell_type": "code",
   "execution_count": null,
   "metadata": {},
   "outputs": [],
   "source": [
    "font = {'family' : 'normal',\n",
    "        'weight' : 'roman',\n",
    "        'size' : 30}"
   ]
  },
  {
   "cell_type": "code",
   "execution_count": null,
   "metadata": {
    "scrolled": true
   },
   "outputs": [],
   "source": [
    "pic_path='.//data//prec_anomly/extreme_first_year.jpg'\n",
    "p_title='one year'\n",
    "\n",
    "li_data=ex_df[ex_df<365].loc[:,'time']\n",
    "\n",
    "fig,ax=plt.subplots(figsize=(50,10))\n",
    "# ax.axvline(ex_events[0],ymax=0.8,color='navy')\n",
    "ax.vlines(li_data,0,[0.75,],color='navy')\n",
    "\n",
    "ax.set_title(p_title,font)\n",
    "\n",
    "ax.set_ylim(0,1)\n",
    "ax.set_yticks([])\n",
    "\n",
    "# ax.set_xticks()\n",
    "ax.set_xlabel('time(day)',font)\n",
    "\n",
    "ax.tick_params(labelsize=20)\n",
    "\n",
    "fig.tight_layout()\n",
    "# fig.savefig(pic_path,dpi=72, bbox_inches = 'tight')\n",
    "fig.show()"
   ]
  },
  {
   "cell_type": "code",
   "execution_count": null,
   "metadata": {},
   "outputs": [],
   "source": []
  }
 ],
 "metadata": {
  "kernelspec": {
   "display_name": "Python 3",
   "language": "python",
   "name": "python3"
  },
  "language_info": {
   "codemirror_mode": {
    "name": "ipython",
    "version": 3
   },
   "file_extension": ".py",
   "mimetype": "text/x-python",
   "name": "python",
   "nbconvert_exporter": "python",
   "pygments_lexer": "ipython3",
   "version": "3.7.1"
  },
  "toc": {
   "base_numbering": 1,
   "nav_menu": {},
   "number_sections": true,
   "sideBar": true,
   "skip_h1_title": false,
   "title_cell": "Table of Contents",
   "title_sidebar": "Contents",
   "toc_cell": false,
   "toc_position": {},
   "toc_section_display": true,
   "toc_window_display": false
  },
  "varInspector": {
   "cols": {
    "lenName": 16,
    "lenType": 16,
    "lenVar": 40
   },
   "kernels_config": {
    "python": {
     "delete_cmd_postfix": "",
     "delete_cmd_prefix": "del ",
     "library": "var_list.py",
     "varRefreshCmd": "print(var_dic_list())"
    },
    "r": {
     "delete_cmd_postfix": ") ",
     "delete_cmd_prefix": "rm(",
     "library": "var_list.r",
     "varRefreshCmd": "cat(var_dic_list()) "
    }
   },
   "types_to_exclude": [
    "module",
    "function",
    "builtin_function_or_method",
    "instance",
    "_Feature"
   ],
   "window_display": false
  }
 },
 "nbformat": 4,
 "nbformat_minor": 2
}
