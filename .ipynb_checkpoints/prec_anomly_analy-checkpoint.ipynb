{
 "cells": [
  {
   "cell_type": "code",
   "execution_count": null,
   "metadata": {},
   "outputs": [],
   "source": [
    "from __future__ import print_function, division\n",
    "import pandas as pd\n",
    "import numpy as np\n",
    "import matplotlib as mpl\n",
    "import matplotlib.pyplot as plt"
   ]
  },
  {
   "cell_type": "code",
   "execution_count": null,
   "metadata": {},
   "outputs": [],
   "source": [
    "%matplotlib inline\n",
    "# 控制台模式"
   ]
  },
  {
   "cell_type": "code",
   "execution_count": null,
   "metadata": {},
   "outputs": [],
   "source": [
    "%matplotlib auto\n",
    "# 弹出窗模式"
   ]
  },
  {
   "cell_type": "markdown",
   "metadata": {},
   "source": [
    "---"
   ]
  },
  {
   "cell_type": "markdown",
   "metadata": {},
   "source": [
    "## 分析气象数据"
   ]
  },
  {
   "cell_type": "markdown",
   "metadata": {},
   "source": [
    "为了分析气象数据而计算的"
   ]
  },
  {
   "cell_type": "markdown",
   "metadata": {},
   "source": [
    "---"
   ]
  },
  {
   "cell_type": "code",
   "execution_count": null,
   "metadata": {},
   "outputs": [],
   "source": [
    "pd.set_option('max_columns',10, 'max_rows',10)\n",
    "doc_path='.\\data\\prec_anomly19792018.txt'"
   ]
  },
  {
   "cell_type": "markdown",
   "metadata": {},
   "source": [
    "### 读取数据"
   ]
  },
  {
   "cell_type": "code",
   "execution_count": null,
   "metadata": {},
   "outputs": [],
   "source": [
    "meta_data=pd.read_table(doc_path,header=None,)"
   ]
  },
  {
   "cell_type": "code",
   "execution_count": null,
   "metadata": {},
   "outputs": [],
   "source": [
    "meta_data"
   ]
  },
  {
   "cell_type": "code",
   "execution_count": null,
   "metadata": {},
   "outputs": [],
   "source": [
    "one_data=np.array(meta_data).flatten()"
   ]
  },
  {
   "cell_type": "code",
   "execution_count": null,
   "metadata": {},
   "outputs": [],
   "source": [
    "one_data.mean()"
   ]
  },
  {
   "cell_type": "code",
   "execution_count": null,
   "metadata": {},
   "outputs": [],
   "source": [
    "len(one_data)"
   ]
  },
  {
   "cell_type": "code",
   "execution_count": null,
   "metadata": {},
   "outputs": [],
   "source": [
    "np.arange(len(one_data))"
   ]
  },
  {
   "cell_type": "markdown",
   "metadata": {},
   "source": [
    "---"
   ]
  },
  {
   "cell_type": "markdown",
   "metadata": {},
   "source": [
    "### 极端事件"
   ]
  },
  {
   "cell_type": "code",
   "execution_count": null,
   "metadata": {},
   "outputs": [],
   "source": [
    "def extrme_e(data,all_data,p=3):\n",
    "    '''定义极端事件，大于均值±p个标准差\n",
    "    data为极端事件则返回True\n",
    "    '''\n",
    "    mean=np.array(all_data).mean()\n",
    "    std=np.array(all_data).std()\n",
    "    if (data>mean-p*std) and (data<mean+p*std):\n",
    "        return False\n",
    "    else:\n",
    "        return True"
   ]
  },
  {
   "cell_type": "markdown",
   "metadata": {},
   "source": [
    "---"
   ]
  },
  {
   "cell_type": "markdown",
   "metadata": {},
   "source": [
    "### 绘图"
   ]
  },
  {
   "cell_type": "code",
   "execution_count": null,
   "metadata": {},
   "outputs": [],
   "source": [
    "# 获取极端事件的字典\n",
    "ex_events=[]\n",
    "time_lists=[]\n",
    "# 记录极端事件发生的时间\n",
    "\n",
    "time=0\n",
    "for i in one_data:\n",
    "    if extrme_e(i,one_data,p=1):\n",
    "        time_lists.append(time)\n",
    "        ex_events.append(i)\n",
    "    time+=1\n",
    "\n",
    "extrme_dic={'time':time_lists,'events':ex_events}\n",
    "ex_df=pd.DataFrame(extrme_dic)"
   ]
  },
  {
   "cell_type": "code",
   "execution_count": null,
   "metadata": {},
   "outputs": [],
   "source": [
    "len(extrme_dic['time'])"
   ]
  },
  {
   "cell_type": "code",
   "execution_count": null,
   "metadata": {
    "scrolled": false
   },
   "outputs": [],
   "source": [
    "ex_df['delta_time']=(ex_df['time']-ex_df['time'].shift(1)).fillna(0)"
   ]
  },
  {
   "cell_type": "code",
   "execution_count": null,
   "metadata": {
    "scrolled": false
   },
   "outputs": [],
   "source": [
    "ex_df"
   ]
  },
  {
   "cell_type": "code",
   "execution_count": null,
   "metadata": {},
   "outputs": [],
   "source": [
    "ex_df[ex_df.time<365].loc[:,'time']"
   ]
  },
  {
   "cell_type": "markdown",
   "metadata": {},
   "source": [
    "---"
   ]
  },
  {
   "cell_type": "code",
   "execution_count": null,
   "metadata": {},
   "outputs": [],
   "source": [
    "np.array(one_data).mean()"
   ]
  },
  {
   "cell_type": "code",
   "execution_count": null,
   "metadata": {},
   "outputs": [],
   "source": [
    "font = {'family' : 'normal',\n",
    "        'weight' : 'roman',\n",
    "        'size' : 30}"
   ]
  },
  {
   "cell_type": "code",
   "execution_count": null,
   "metadata": {
    "scrolled": false
   },
   "outputs": [],
   "source": [
    "# 绘制了全部数据，均值、标准差\n",
    "\n",
    "fig,ax=plt.subplots(figsize=(50,10))\n",
    "# ax.vlines(ex_df.loc[:,'time'],0,ex_df.loc[:,'events'],color='navy')\n",
    "\n",
    "ax.vlines(np.arange(len(one_data)),0,one_data,color='navy')\n",
    "\n",
    "d_mean=np.array(one_data).mean()\n",
    "d_std=np.array(one_data).std()\n",
    "\n",
    "ax.axhline(d_mean,color='lime',lw=5,label='mean')\n",
    "\n",
    "ax.axhline(d_mean-d_std,color='brown',lw=5,label='mean±std')\n",
    "ax.axhline(d_mean+d_std,color='brown',lw=5)\n",
    "\n",
    "ax.set_xlabel('time(day)',font)\n",
    "ax.set_title('all year',font)\n",
    "\n",
    "ax.legend()\n",
    "\n",
    "# fig.savefig('.//data//prec_anomly/prec_all_year.jpg',dpi=72, bbox_inches = 'tight')\n",
    "\n",
    "fig.show()"
   ]
  },
  {
   "cell_type": "markdown",
   "metadata": {},
   "source": [
    "---"
   ]
  },
  {
   "cell_type": "code",
   "execution_count": null,
   "metadata": {
    "scrolled": false
   },
   "outputs": [],
   "source": [
    "# 将挑选出来的极端事件绘制出来\n",
    "\n",
    "pic_path='.//data//prec_anomly/extreme_first_year.jpg'\n",
    "p_title='one year'\n",
    "\n",
    "# li_data=ex_df[ex_df<365].loc[:,'time']\n",
    "li_data=ex_df.loc[:,'time']\n",
    "\n",
    "fig,ax=plt.subplots(figsize=(50,10))\n",
    "# ax.axvline(ex_events[0],ymax=0.8,color='navy')\n",
    "ax.vlines(li_data,0,[0.75,],color='navy')\n",
    "\n",
    "ax.set_title(p_title,font)\n",
    "\n",
    "ax.set_ylim(0,1)\n",
    "ax.set_yticks([])\n",
    "\n",
    "# ax.set_xticks()\n",
    "ax.set_xlabel('time(day)',font)\n",
    "\n",
    "ax.tick_params(labelsize=20)\n",
    "\n",
    "fig.tight_layout()\n",
    "# fig.savefig(pic_path,dpi=72, bbox_inches = 'tight')\n",
    "fig.show()"
   ]
  },
  {
   "cell_type": "markdown",
   "metadata": {},
   "source": [
    "---"
   ]
  },
  {
   "cell_type": "code",
   "execution_count": null,
   "metadata": {},
   "outputs": [],
   "source": [
    "# 分析极端事件的时间间隔的分布情况\n",
    "\n",
    "fig,ax=plt.subplots(figsize=(20,10))\n",
    "\n",
    "ax.hist(ex_df.loc[:,'delta_time'],bins=150)\n",
    "\n",
    "fig.show()"
   ]
  },
  {
   "cell_type": "code",
   "execution_count": null,
   "metadata": {},
   "outputs": [],
   "source": [
    "ex_df.loc[:,'delta_time'].value_counts().sort_index()"
   ]
  },
  {
   "cell_type": "code",
   "execution_count": null,
   "metadata": {},
   "outputs": [],
   "source": []
  }
 ],
 "metadata": {
  "kernelspec": {
   "display_name": "Python 3",
   "language": "python",
   "name": "python3"
  },
  "language_info": {
   "codemirror_mode": {
    "name": "ipython",
    "version": 3
   },
   "file_extension": ".py",
   "mimetype": "text/x-python",
   "name": "python",
   "nbconvert_exporter": "python",
   "pygments_lexer": "ipython3",
   "version": "3.7.1"
  },
  "toc": {
   "base_numbering": 1,
   "nav_menu": {},
   "number_sections": true,
   "sideBar": true,
   "skip_h1_title": false,
   "title_cell": "Table of Contents",
   "title_sidebar": "Contents",
   "toc_cell": false,
   "toc_position": {},
   "toc_section_display": true,
   "toc_window_display": false
  },
  "varInspector": {
   "cols": {
    "lenName": 16,
    "lenType": 16,
    "lenVar": 40
   },
   "kernels_config": {
    "python": {
     "delete_cmd_postfix": "",
     "delete_cmd_prefix": "del ",
     "library": "var_list.py",
     "varRefreshCmd": "print(var_dic_list())"
    },
    "r": {
     "delete_cmd_postfix": ") ",
     "delete_cmd_prefix": "rm(",
     "library": "var_list.r",
     "varRefreshCmd": "cat(var_dic_list()) "
    }
   },
   "types_to_exclude": [
    "module",
    "function",
    "builtin_function_or_method",
    "instance",
    "_Feature"
   ],
   "window_display": false
  }
 },
 "nbformat": 4,
 "nbformat_minor": 2
}
